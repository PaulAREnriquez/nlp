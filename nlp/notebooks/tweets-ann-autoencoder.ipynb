{
 "cells": [
  {
   "cell_type": "code",
   "execution_count": 1,
   "metadata": {},
   "outputs": [],
   "source": [
    "import numpy as np\n",
    "import pandas as pd\n",
    "import torch\n",
    "import torch.nn as nn\n",
    "import torch.optim as optim\n",
    "from tqdm import tqdm\n",
    "from torch.utils.data import Dataset, DataLoader\n",
    "import matplotlib.pyplot as plt\n",
    "from sklearn.model_selection import train_test_split"
   ]
  },
  {
   "cell_type": "code",
   "execution_count": 2,
   "metadata": {},
   "outputs": [
    {
     "data": {
      "text/plain": [
       "'cpu'"
      ]
     },
     "execution_count": 2,
     "metadata": {},
     "output_type": "execute_result"
    }
   ],
   "source": [
    "# Make device agnostic code\n",
    "device = \"cuda\" if torch.cuda.is_available() else \"cpu\"\n",
    "device"
   ]
  },
  {
   "attachments": {},
   "cell_type": "markdown",
   "metadata": {},
   "source": [
    "**A. Loading the tokenized tweets**"
   ]
  },
  {
   "cell_type": "code",
   "execution_count": 3,
   "metadata": {},
   "outputs": [
    {
     "data": {
      "text/plain": [
       "array(['arirang simply kpop kim hyung jun cross ha yeong playback',\n",
       "       'read politico article donald trump running mate tom brady list likely choice',\n",
       "       'type bazura project google image image photo dad glenn moustache whatthe',\n",
       "       ..., 'bring dunkin iced coffee tomorrow hero',\n",
       "       'currently holiday portugal come home tomorrow poland tuesday holocaust memorial trip',\n",
       "       'ladykiller saturday aternoon'], dtype=object)"
      ]
     },
     "execution_count": 3,
     "metadata": {},
     "output_type": "execute_result"
    }
   ],
   "source": [
    "tweets_train_tokenized = pd.read_csv('csvs/tweets_train_tokens.csv', index_col=False)\n",
    "tweets_train_tokenized_message = pd.Series(tweets_train_tokenized.message)\n",
    "# Converting Panda series into Unicode datatype as required by vectorizers\n",
    "tweets = tweets_train_tokenized_message.astype('U').values\n",
    "tweets"
   ]
  },
  {
   "cell_type": "code",
   "execution_count": 4,
   "metadata": {},
   "outputs": [],
   "source": [
    "# Loading the tfidvectorizer from disk\n",
    "import joblib\n",
    "tfidf= joblib.load('vectors/tfidf.sav')"
   ]
  },
  {
   "cell_type": "code",
   "execution_count": 5,
   "metadata": {},
   "outputs": [
    {
     "data": {
      "text/plain": [
       "array([[0., 0., 0., ..., 0., 0., 0.],\n",
       "       [0., 0., 0., ..., 0., 0., 0.],\n",
       "       [0., 0., 0., ..., 0., 0., 0.],\n",
       "       ...,\n",
       "       [0., 0., 0., ..., 0., 0., 0.],\n",
       "       [0., 0., 0., ..., 0., 0., 0.],\n",
       "       [0., 0., 0., ..., 0., 0., 0.]])"
      ]
     },
     "execution_count": 5,
     "metadata": {},
     "output_type": "execute_result"
    }
   ],
   "source": [
    "tweets = tfidf.transform(tweets).toarray()\n",
    "tweets"
   ]
  },
  {
   "attachments": {},
   "cell_type": "markdown",
   "metadata": {},
   "source": [
    "**B. Loading our target labels**"
   ]
  },
  {
   "cell_type": "code",
   "execution_count": 6,
   "metadata": {},
   "outputs": [
    {
     "data": {
      "text/plain": [
       "array([1, 1, 1, ..., 1, 1, 1], dtype=int64)"
      ]
     },
     "execution_count": 6,
     "metadata": {},
     "output_type": "execute_result"
    }
   ],
   "source": [
    "tweets_train_y = pd.read_csv('csvs/tweets_train_y.csv', index_col=False)\n",
    "tweets_train_y = pd.Series(tweets_train_y['0'])\n",
    "tweets_train_y = tweets_train_y.values\n",
    "tweets_train_y"
   ]
  },
  {
   "cell_type": "code",
   "execution_count": 7,
   "metadata": {},
   "outputs": [
    {
     "name": "stdout",
     "output_type": "stream",
     "text": [
      "Frequency of unique values of our target labels:\n",
      "[[    0     1     2]\n",
      " [ 7748 22256 19671]]\n"
     ]
    }
   ],
   "source": [
    "unique_elements, counts_elements = np.unique(tweets_train_y, return_counts=True)\n",
    "print(\"Frequency of unique values of our target labels:\")\n",
    "print(np.asarray((unique_elements, counts_elements)))"
   ]
  },
  {
   "attachments": {},
   "cell_type": "markdown",
   "metadata": {},
   "source": [
    "**C. Combining our inputs and targets**"
   ]
  },
  {
   "cell_type": "code",
   "execution_count": 8,
   "metadata": {},
   "outputs": [
    {
     "data": {
      "text/plain": [
       "array([[0., 0., 0., ..., 0., 0., 1.],\n",
       "       [0., 0., 0., ..., 0., 0., 1.],\n",
       "       [0., 0., 0., ..., 0., 0., 1.],\n",
       "       ...,\n",
       "       [0., 0., 0., ..., 0., 0., 1.],\n",
       "       [0., 0., 0., ..., 0., 0., 1.],\n",
       "       [0., 0., 0., ..., 0., 0., 1.]])"
      ]
     },
     "execution_count": 8,
     "metadata": {},
     "output_type": "execute_result"
    }
   ],
   "source": [
    "data = np.column_stack([tweets,tweets_train_y])\n",
    "data"
   ]
  },
  {
   "attachments": {},
   "cell_type": "markdown",
   "metadata": {},
   "source": [
    "**D. Separating the minority class from the dataset**"
   ]
  },
  {
   "cell_type": "code",
   "execution_count": 9,
   "metadata": {},
   "outputs": [
    {
     "data": {
      "text/plain": [
       "array([[0., 0., 0., ..., 0., 0., 0.],\n",
       "       [0., 0., 0., ..., 0., 0., 0.],\n",
       "       [0., 0., 0., ..., 0., 0., 0.],\n",
       "       ...,\n",
       "       [0., 0., 0., ..., 0., 0., 0.],\n",
       "       [0., 0., 0., ..., 0., 0., 0.],\n",
       "       [0., 0., 0., ..., 0., 0., 0.]])"
      ]
     },
     "execution_count": 9,
     "metadata": {},
     "output_type": "execute_result"
    }
   ],
   "source": [
    "df_train_negative = data[data[:,-1] == 0]\n",
    "df_train_negative"
   ]
  },
  {
   "cell_type": "code",
   "execution_count": 10,
   "metadata": {},
   "outputs": [
    {
     "data": {
      "text/plain": [
       "7748"
      ]
     },
     "execution_count": 10,
     "metadata": {},
     "output_type": "execute_result"
    }
   ],
   "source": [
    "len(df_train_negative)"
   ]
  },
  {
   "cell_type": "code",
   "execution_count": 11,
   "metadata": {},
   "outputs": [
    {
     "data": {
      "text/plain": [
       "22256"
      ]
     },
     "execution_count": 11,
     "metadata": {},
     "output_type": "execute_result"
    }
   ],
   "source": [
    "df_train_neutral = data[data[:,-1] == 1]\n",
    "df_train_neutral\n",
    "len(df_train_neutral)"
   ]
  },
  {
   "cell_type": "code",
   "execution_count": 12,
   "metadata": {},
   "outputs": [
    {
     "data": {
      "text/plain": [
       "19671"
      ]
     },
     "execution_count": 12,
     "metadata": {},
     "output_type": "execute_result"
    }
   ],
   "source": [
    "df_train_positive = data[data[:,-1] == 2]\n",
    "df_train_positive\n",
    "len(df_train_positive)"
   ]
  },
  {
   "attachments": {},
   "cell_type": "markdown",
   "metadata": {},
   "source": [
    "We will increase the population of our negative class so that its final population is equal to the average of the population of neutral and the positive class."
   ]
  },
  {
   "cell_type": "code",
   "execution_count": 13,
   "metadata": {},
   "outputs": [
    {
     "data": {
      "text/plain": [
       "20964"
      ]
     },
     "execution_count": 13,
     "metadata": {},
     "output_type": "execute_result"
    }
   ],
   "source": [
    "ave_pos_neutral = int(np.round(np.mean([len(df_train_neutral), len(df_train_positive)]),0))\n",
    "ave_pos_neutral"
   ]
  },
  {
   "cell_type": "code",
   "execution_count": 14,
   "metadata": {},
   "outputs": [
    {
     "data": {
      "text/plain": [
       "torch.Size([7748, 5000])"
      ]
     },
     "execution_count": 14,
     "metadata": {},
     "output_type": "execute_result"
    }
   ],
   "source": [
    "X_train = data[:,:-1]\n",
    "X_train = torch.from_numpy(X_train).type(torch.float)\n",
    "\n",
    "y_train = data[:,-1]\n",
    "y_train = torch.from_numpy(y_train).type(torch.float)\n",
    "\n",
    "X_train_negative = df_train_negative[:,:-1]\n",
    "X_train_negative = torch.from_numpy(X_train_negative).type(torch.float)\n",
    "X_train_negative.shape"
   ]
  },
  {
   "attachments": {},
   "cell_type": "markdown",
   "metadata": {},
   "source": [
    "**F. Applying Variational Autoencoder on the `Negative` class**"
   ]
  },
  {
   "cell_type": "code",
   "execution_count": 15,
   "metadata": {},
   "outputs": [],
   "source": [
    "# Source: https://debuggercafe.com/getting-started-with-variational-autoencoder-using-pytorch/\n",
    "class VariationalAutoencoder(nn.Module):\n",
    "    def __init__(self, num_features=50, num_dim=5000):\n",
    "        super(VariationalAutoencoder, self).__init__()\n",
    "        \n",
    "        self.num_features = num_features\n",
    "        self.num_dim = num_dim\n",
    "        \n",
    "        self.encoder_layer_1 = nn.Linear(in_features=self.num_dim, out_features=500)\n",
    "        self.encoder_layer_2 = nn.Linear(in_features=500, out_features=(self.num_features * 2))\n",
    "        \n",
    "        self.decoder_layer_1 = nn.Linear(in_features=self.num_features, out_features=500)\n",
    "        self.decoder_layer_2 = nn.Linear(in_features=500, out_features=self.num_dim)\n",
    "        \n",
    "        self.relu = nn.ReLU() # hidden layers\n",
    "        self.sigmoid = nn.Sigmoid() # output layer\n",
    "        \n",
    "    def reparameterize(self, mu, log_var):\n",
    "        \"\"\"\n",
    "        :param mu: mean from the encoder's latent space\n",
    "        :param log_var: log variance from the encoder's latent space\n",
    "        \"\"\"\n",
    "        std = torch.exp(0.5*log_var) # standard deviation\n",
    "        eps = torch.randn_like(std)  # `randn_like` as we need the same size\n",
    "        sample = mu + (eps * std)    # sampling as if coming from the input space\n",
    "        \n",
    "        return sample\n",
    "    \n",
    "    def encode(self, x):\n",
    "        # encoding\n",
    "        #x = F.relu(self.encoder_layer_1(x))\n",
    "        x = self.encoder_layer_1(x)\n",
    "        x = self.relu(x)\n",
    "        x = self.encoder_layer_2(x).view(-1, 2, self.num_features)\n",
    "        \n",
    "        # get `mu` and `log_var`\n",
    "        mu = x[:, 0, :] # the first feature values as mean\n",
    "        log_var = x[:, 1, :] # the other feature values as variance\n",
    "        \n",
    "        # get the latent vector through reparameterization\n",
    "        z = self.reparameterize(mu, log_var)\n",
    "        \n",
    "        return z, mu, log_var\n",
    "    \n",
    "    def decode(self, z, mu, log_var):\n",
    "        # decoding\n",
    "        #x = F.relu(self.decoder_layer_1(z))\n",
    "        x = self.decoder_layer_1(z)\n",
    "        x = self.relu(x)\n",
    "        \n",
    "        #reconstruction = torch.sigmoid(self.decoder_layer_2(x))\n",
    "        reconstruction = self.decoder_layer_2(x)\n",
    "        reconstruction = self.sigmoid(reconstruction)\n",
    "        \n",
    "        return reconstruction, mu, log_var\n",
    "    \n",
    "    # Utility function to generate new data based on:\n",
    "    # mu: The average that you want to have (should be the same size as num_features)\n",
    "    # log_var: The variance that you want to have (should be the same size as num_features)\n",
    "    def sample(self, mu, log_var):\n",
    "        z = self.reparameterize(mu, log_var)\n",
    "        reconstruction, mu, log_var = self.decode(z, mu, log_var)\n",
    "        \n",
    "        return reconstruction\n",
    "        \n",
    "    \n",
    "    def forward(self, x):\n",
    "        \n",
    "        z, mu, log_var = self.encode(x)\n",
    "        reconstruction, mu, log_var = self.decode(z, mu, log_var)\n",
    "        \n",
    "        return reconstruction, mu, log_var"
   ]
  },
  {
   "cell_type": "code",
   "execution_count": 16,
   "metadata": {},
   "outputs": [],
   "source": [
    "# Custom dataset to treat how the model picks an x, y combination from the dataset\n",
    "class AutoencoderDataset(Dataset):\n",
    "    def __init__(self, x):\n",
    "        self.x = x\n",
    "        \n",
    "    def __len__(self):\n",
    "        return len(self.x)\n",
    "    \n",
    "    # Requires you to return data as a pair of _x, _y\n",
    "    def __getitem__(self, index):\n",
    "        return self.x[index], self.x[index]"
   ]
  },
  {
   "cell_type": "code",
   "execution_count": 17,
   "metadata": {},
   "outputs": [],
   "source": [
    "# The final loss is a combination of the reconstruction loss (first argument) and the loss from an assumed distribution (i.e. Normal / Gaussian distribution)\n",
    "def final_loss(bce_loss, mu, logvar):\n",
    "    \"\"\"\n",
    "    This function will add the reconstruction loss (BCELoss) and the \n",
    "    KL-Divergence.\n",
    "    KL-Divergence = 0.5 * sum(1 + log(sigma^2) - mu^2 - sigma^2)\n",
    "    :param bce_loss: recontruction loss\n",
    "    :param mu: the mean from the latent vector\n",
    "    :param logvar: log variance from the latent vector\n",
    "    \"\"\"\n",
    "    BCE = bce_loss \n",
    "    KLD = -0.5 * torch.sum(1 + logvar - mu.pow(2) - logvar.exp())\n",
    "    return BCE + KLD"
   ]
  },
  {
   "cell_type": "code",
   "execution_count": 18,
   "metadata": {},
   "outputs": [],
   "source": [
    "num_features = 50\n",
    "model = VariationalAutoencoder(num_features=num_features)\n",
    "learning_rate = 0.001\n",
    "loss_fn = nn.BCELoss()\n",
    "optimizer = optim.Adam(model.parameters(), lr=learning_rate)\n",
    "batch_size = 32"
   ]
  },
  {
   "cell_type": "code",
   "execution_count": 19,
   "metadata": {},
   "outputs": [],
   "source": [
    "# Define the training process\n",
    "# Each call of the train function == 1 Epoch\n",
    "def train_fn(loader, model, optimizer, loss_fn, batch_size):\n",
    "    loop = tqdm(loader)\n",
    "    \n",
    "    count = 0\n",
    "    ave_loss = 0.00\n",
    "    \n",
    "    # Loop per batch\n",
    "    for batch_idx, (data, targets) in enumerate(loop):\n",
    "        reconstruction, mu, logvar = model.forward(data)\n",
    "        \n",
    "        loss = loss_fn(reconstruction, targets)\n",
    "        \n",
    "        loss = final_loss(loss, mu, logvar)\n",
    "        \n",
    "        optimizer.zero_grad()\n",
    "        \n",
    "        loss.backward()\n",
    "        \n",
    "        optimizer.step()\n",
    "        \n",
    "        loop.set_postfix(loss=loss.item())\n",
    "        \n",
    "        ave_loss += loss.item()\n",
    "        count += 1\n",
    "        \n",
    "    ave_loss = ave_loss / count\n",
    "    \n",
    "    return ave_loss"
   ]
  },
  {
   "cell_type": "code",
   "execution_count": 20,
   "metadata": {},
   "outputs": [],
   "source": [
    "# use Dataloader for Autoencoder \n",
    "custom_dataset = AutoencoderDataset(X_train_negative)\n",
    "\n",
    "train_loader = DataLoader(\n",
    "    custom_dataset,\n",
    "    batch_size=batch_size,\n",
    "    shuffle=False,\n",
    "    drop_last=False\n",
    ")"
   ]
  },
  {
   "cell_type": "code",
   "execution_count": 21,
   "metadata": {},
   "outputs": [
    {
     "name": "stdout",
     "output_type": "stream",
     "text": [
      "Epoch: 0\n"
     ]
    },
    {
     "name": "stderr",
     "output_type": "stream",
     "text": [
      "100%|██████████| 243/243 [00:29<00:00,  8.28it/s, loss=0.00547]\n"
     ]
    },
    {
     "name": "stdout",
     "output_type": "stream",
     "text": [
      "Ave Loss: 0.06435011452784448\n",
      "Epoch: 1\n"
     ]
    },
    {
     "name": "stderr",
     "output_type": "stream",
     "text": [
      "100%|██████████| 243/243 [00:19<00:00, 12.34it/s, loss=0.00522]\n"
     ]
    },
    {
     "name": "stdout",
     "output_type": "stream",
     "text": [
      "Ave Loss: 0.006689023749649893\n",
      "Epoch: 2\n"
     ]
    },
    {
     "name": "stderr",
     "output_type": "stream",
     "text": [
      "100%|██████████| 243/243 [00:17<00:00, 14.03it/s, loss=0.00465]\n"
     ]
    },
    {
     "name": "stdout",
     "output_type": "stream",
     "text": [
      "Ave Loss: 0.0050555123725269805\n",
      "Epoch: 3\n"
     ]
    },
    {
     "name": "stderr",
     "output_type": "stream",
     "text": [
      "100%|██████████| 243/243 [00:18<00:00, 12.90it/s, loss=0.00483]\n"
     ]
    },
    {
     "name": "stdout",
     "output_type": "stream",
     "text": [
      "Ave Loss: 0.004679146918387693\n",
      "Epoch: 4\n"
     ]
    },
    {
     "name": "stderr",
     "output_type": "stream",
     "text": [
      "100%|██████████| 243/243 [00:20<00:00, 12.02it/s, loss=0.00458]\n"
     ]
    },
    {
     "name": "stdout",
     "output_type": "stream",
     "text": [
      "Ave Loss: 0.004565788800885648\n",
      "Epoch: 5\n"
     ]
    },
    {
     "name": "stderr",
     "output_type": "stream",
     "text": [
      "100%|██████████| 243/243 [00:20<00:00, 11.75it/s, loss=0.00466]\n"
     ]
    },
    {
     "name": "stdout",
     "output_type": "stream",
     "text": [
      "Ave Loss: 0.004522164020718002\n",
      "Epoch: 6\n"
     ]
    },
    {
     "name": "stderr",
     "output_type": "stream",
     "text": [
      "100%|██████████| 243/243 [00:20<00:00, 11.83it/s, loss=0.00463]\n"
     ]
    },
    {
     "name": "stdout",
     "output_type": "stream",
     "text": [
      "Ave Loss: 0.004501440506735089\n",
      "Epoch: 7\n"
     ]
    },
    {
     "name": "stderr",
     "output_type": "stream",
     "text": [
      "100%|██████████| 243/243 [00:20<00:00, 11.65it/s, loss=0.00474]\n"
     ]
    },
    {
     "name": "stdout",
     "output_type": "stream",
     "text": [
      "Ave Loss: 0.004492653631547719\n",
      "Epoch: 8\n"
     ]
    },
    {
     "name": "stderr",
     "output_type": "stream",
     "text": [
      "100%|██████████| 243/243 [00:31<00:00,  7.77it/s, loss=0.00473]\n"
     ]
    },
    {
     "name": "stdout",
     "output_type": "stream",
     "text": [
      "Ave Loss: 0.004487104577859366\n",
      "Epoch: 9\n"
     ]
    },
    {
     "name": "stderr",
     "output_type": "stream",
     "text": [
      "100%|██████████| 243/243 [00:20<00:00, 11.92it/s, loss=0.00481]\n"
     ]
    },
    {
     "name": "stdout",
     "output_type": "stream",
     "text": [
      "Ave Loss: 0.0044842906920967525\n",
      "Epoch: 10\n"
     ]
    },
    {
     "name": "stderr",
     "output_type": "stream",
     "text": [
      "100%|██████████| 243/243 [00:20<00:00, 11.93it/s, loss=0.00493]\n"
     ]
    },
    {
     "name": "stdout",
     "output_type": "stream",
     "text": [
      "Ave Loss: 0.004481997959883002\n",
      "Epoch: 11\n"
     ]
    },
    {
     "name": "stderr",
     "output_type": "stream",
     "text": [
      "100%|██████████| 243/243 [00:20<00:00, 12.03it/s, loss=0.00442]\n"
     ]
    },
    {
     "name": "stdout",
     "output_type": "stream",
     "text": [
      "Ave Loss: 0.0044809407727034005\n",
      "Epoch: 12\n"
     ]
    },
    {
     "name": "stderr",
     "output_type": "stream",
     "text": [
      "100%|██████████| 243/243 [00:19<00:00, 12.30it/s, loss=0.00457]\n"
     ]
    },
    {
     "name": "stdout",
     "output_type": "stream",
     "text": [
      "Ave Loss: 0.004483553094199165\n",
      "Epoch: 13\n"
     ]
    },
    {
     "name": "stderr",
     "output_type": "stream",
     "text": [
      "100%|██████████| 243/243 [00:18<00:00, 12.97it/s, loss=0.00466]\n"
     ]
    },
    {
     "name": "stdout",
     "output_type": "stream",
     "text": [
      "Ave Loss: 0.004502067384559186\n",
      "Epoch: 14\n"
     ]
    },
    {
     "name": "stderr",
     "output_type": "stream",
     "text": [
      "100%|██████████| 243/243 [00:26<00:00,  9.20it/s, loss=0.0049] \n"
     ]
    },
    {
     "name": "stdout",
     "output_type": "stream",
     "text": [
      "Ave Loss: 0.004523306092393006\n",
      "Epoch: 15\n"
     ]
    },
    {
     "name": "stderr",
     "output_type": "stream",
     "text": [
      "100%|██████████| 243/243 [00:25<00:00,  9.41it/s, loss=0.00488]\n"
     ]
    },
    {
     "name": "stdout",
     "output_type": "stream",
     "text": [
      "Ave Loss: 0.0045191050553119476\n",
      "Epoch: 16\n"
     ]
    },
    {
     "name": "stderr",
     "output_type": "stream",
     "text": [
      "100%|██████████| 243/243 [00:26<00:00,  9.13it/s, loss=0.00481]\n"
     ]
    },
    {
     "name": "stdout",
     "output_type": "stream",
     "text": [
      "Ave Loss: 0.004490753298495041\n",
      "Epoch: 17\n"
     ]
    },
    {
     "name": "stderr",
     "output_type": "stream",
     "text": [
      "100%|██████████| 243/243 [00:21<00:00, 11.42it/s, loss=0.00486]\n"
     ]
    },
    {
     "name": "stdout",
     "output_type": "stream",
     "text": [
      "Ave Loss: 0.004480150516754315\n",
      "Epoch: 18\n"
     ]
    },
    {
     "name": "stderr",
     "output_type": "stream",
     "text": [
      "100%|██████████| 243/243 [00:19<00:00, 12.53it/s, loss=0.0045] \n"
     ]
    },
    {
     "name": "stdout",
     "output_type": "stream",
     "text": [
      "Ave Loss: 0.004473221869641003\n",
      "Epoch: 19\n"
     ]
    },
    {
     "name": "stderr",
     "output_type": "stream",
     "text": [
      "100%|██████████| 243/243 [00:19<00:00, 12.53it/s, loss=0.00457]\n"
     ]
    },
    {
     "name": "stdout",
     "output_type": "stream",
     "text": [
      "Ave Loss: 0.004466586924491473\n",
      "Epoch: 20\n"
     ]
    },
    {
     "name": "stderr",
     "output_type": "stream",
     "text": [
      "100%|██████████| 243/243 [00:19<00:00, 12.57it/s, loss=0.00457]\n"
     ]
    },
    {
     "name": "stdout",
     "output_type": "stream",
     "text": [
      "Ave Loss: 0.004469914566878797\n",
      "Epoch: 21\n"
     ]
    },
    {
     "name": "stderr",
     "output_type": "stream",
     "text": [
      "100%|██████████| 243/243 [00:19<00:00, 12.53it/s, loss=0.00487]\n"
     ]
    },
    {
     "name": "stdout",
     "output_type": "stream",
     "text": [
      "Ave Loss: 0.004461004573146625\n",
      "Epoch: 22\n"
     ]
    },
    {
     "name": "stderr",
     "output_type": "stream",
     "text": [
      "100%|██████████| 243/243 [00:19<00:00, 12.53it/s, loss=0.00452]\n"
     ]
    },
    {
     "name": "stdout",
     "output_type": "stream",
     "text": [
      "Ave Loss: 0.004455684408269546\n",
      "Epoch: 23\n"
     ]
    },
    {
     "name": "stderr",
     "output_type": "stream",
     "text": [
      "100%|██████████| 243/243 [00:19<00:00, 12.52it/s, loss=0.0044] \n"
     ]
    },
    {
     "name": "stdout",
     "output_type": "stream",
     "text": [
      "Ave Loss: 0.004448835076879204\n",
      "Epoch: 24\n"
     ]
    },
    {
     "name": "stderr",
     "output_type": "stream",
     "text": [
      "100%|██████████| 243/243 [00:19<00:00, 12.45it/s, loss=0.00466]\n"
     ]
    },
    {
     "name": "stdout",
     "output_type": "stream",
     "text": [
      "Ave Loss: 0.0044380268484446005\n",
      "Epoch: 25\n"
     ]
    },
    {
     "name": "stderr",
     "output_type": "stream",
     "text": [
      "100%|██████████| 243/243 [00:19<00:00, 12.16it/s, loss=0.00494]\n"
     ]
    },
    {
     "name": "stdout",
     "output_type": "stream",
     "text": [
      "Ave Loss: 0.00442909935121367\n",
      "Epoch: 26\n"
     ]
    },
    {
     "name": "stderr",
     "output_type": "stream",
     "text": [
      "100%|██████████| 243/243 [00:20<00:00, 12.02it/s, loss=0.00483]\n"
     ]
    },
    {
     "name": "stdout",
     "output_type": "stream",
     "text": [
      "Ave Loss: 0.004420411874589974\n",
      "Epoch: 27\n"
     ]
    },
    {
     "name": "stderr",
     "output_type": "stream",
     "text": [
      "100%|██████████| 243/243 [00:20<00:00, 11.86it/s, loss=0.00452]\n"
     ]
    },
    {
     "name": "stdout",
     "output_type": "stream",
     "text": [
      "Ave Loss: 0.00441379712342664\n",
      "Epoch: 28\n"
     ]
    },
    {
     "name": "stderr",
     "output_type": "stream",
     "text": [
      "100%|██████████| 243/243 [00:20<00:00, 11.90it/s, loss=0.00468]\n"
     ]
    },
    {
     "name": "stdout",
     "output_type": "stream",
     "text": [
      "Ave Loss: 0.004401441372225805\n",
      "Epoch: 29\n"
     ]
    },
    {
     "name": "stderr",
     "output_type": "stream",
     "text": [
      "100%|██████████| 243/243 [00:21<00:00, 11.42it/s, loss=0.00451]\n"
     ]
    },
    {
     "name": "stdout",
     "output_type": "stream",
     "text": [
      "Ave Loss: 0.0043981554113144495\n",
      "Epoch: 30\n"
     ]
    },
    {
     "name": "stderr",
     "output_type": "stream",
     "text": [
      "100%|██████████| 243/243 [00:21<00:00, 11.50it/s, loss=0.00459]\n"
     ]
    },
    {
     "name": "stdout",
     "output_type": "stream",
     "text": [
      "Ave Loss: 0.004371441689936958\n",
      "Epoch: 31\n"
     ]
    },
    {
     "name": "stderr",
     "output_type": "stream",
     "text": [
      "100%|██████████| 243/243 [00:21<00:00, 11.54it/s, loss=0.00464]\n"
     ]
    },
    {
     "name": "stdout",
     "output_type": "stream",
     "text": [
      "Ave Loss: 0.004365278162644723\n",
      "Epoch: 32\n"
     ]
    },
    {
     "name": "stderr",
     "output_type": "stream",
     "text": [
      "100%|██████████| 243/243 [00:21<00:00, 11.29it/s, loss=0.00458]\n"
     ]
    },
    {
     "name": "stdout",
     "output_type": "stream",
     "text": [
      "Ave Loss: 0.004359198653679571\n",
      "Epoch: 33\n"
     ]
    },
    {
     "name": "stderr",
     "output_type": "stream",
     "text": [
      "100%|██████████| 243/243 [00:21<00:00, 11.55it/s, loss=0.00464]\n"
     ]
    },
    {
     "name": "stdout",
     "output_type": "stream",
     "text": [
      "Ave Loss: 0.0043555606949936465\n",
      "Epoch: 34\n"
     ]
    },
    {
     "name": "stderr",
     "output_type": "stream",
     "text": [
      "100%|██████████| 243/243 [00:21<00:00, 11.54it/s, loss=0.00441]\n"
     ]
    },
    {
     "name": "stdout",
     "output_type": "stream",
     "text": [
      "Ave Loss: 0.004349054310685445\n",
      "Epoch: 35\n"
     ]
    },
    {
     "name": "stderr",
     "output_type": "stream",
     "text": [
      "100%|██████████| 243/243 [00:20<00:00, 11.61it/s, loss=0.00464]\n"
     ]
    },
    {
     "name": "stdout",
     "output_type": "stream",
     "text": [
      "Ave Loss: 0.00434815584693426\n",
      "Epoch: 36\n"
     ]
    },
    {
     "name": "stderr",
     "output_type": "stream",
     "text": [
      "100%|██████████| 243/243 [00:21<00:00, 11.53it/s, loss=0.00455]\n"
     ]
    },
    {
     "name": "stdout",
     "output_type": "stream",
     "text": [
      "Ave Loss: 0.0043452434364415\n",
      "Epoch: 37\n"
     ]
    },
    {
     "name": "stderr",
     "output_type": "stream",
     "text": [
      "100%|██████████| 243/243 [00:20<00:00, 11.59it/s, loss=0.00456]\n"
     ]
    },
    {
     "name": "stdout",
     "output_type": "stream",
     "text": [
      "Ave Loss: 0.004345553940537658\n",
      "Epoch: 38\n"
     ]
    },
    {
     "name": "stderr",
     "output_type": "stream",
     "text": [
      "100%|██████████| 243/243 [00:20<00:00, 11.66it/s, loss=0.00462]\n"
     ]
    },
    {
     "name": "stdout",
     "output_type": "stream",
     "text": [
      "Ave Loss: 0.00434505621377578\n",
      "Epoch: 39\n"
     ]
    },
    {
     "name": "stderr",
     "output_type": "stream",
     "text": [
      "100%|██████████| 243/243 [00:21<00:00, 11.42it/s, loss=0.00468]\n"
     ]
    },
    {
     "name": "stdout",
     "output_type": "stream",
     "text": [
      "Ave Loss: 0.004344417619683737\n",
      "Epoch: 40\n"
     ]
    },
    {
     "name": "stderr",
     "output_type": "stream",
     "text": [
      "100%|██████████| 243/243 [00:20<00:00, 12.03it/s, loss=0.00454]\n"
     ]
    },
    {
     "name": "stdout",
     "output_type": "stream",
     "text": [
      "Ave Loss: 0.004344401436516777\n",
      "Epoch: 41\n"
     ]
    },
    {
     "name": "stderr",
     "output_type": "stream",
     "text": [
      "100%|██████████| 243/243 [00:20<00:00, 12.08it/s, loss=0.00466]\n"
     ]
    },
    {
     "name": "stdout",
     "output_type": "stream",
     "text": [
      "Ave Loss: 0.004343313808886357\n",
      "Epoch: 42\n"
     ]
    },
    {
     "name": "stderr",
     "output_type": "stream",
     "text": [
      "100%|██████████| 243/243 [00:20<00:00, 11.96it/s, loss=0.00457]\n"
     ]
    },
    {
     "name": "stdout",
     "output_type": "stream",
     "text": [
      "Ave Loss: 0.004342238284616804\n",
      "Epoch: 43\n"
     ]
    },
    {
     "name": "stderr",
     "output_type": "stream",
     "text": [
      "100%|██████████| 243/243 [00:20<00:00, 11.97it/s, loss=0.00458]\n"
     ]
    },
    {
     "name": "stdout",
     "output_type": "stream",
     "text": [
      "Ave Loss: 0.004342209152999974\n",
      "Epoch: 44\n"
     ]
    },
    {
     "name": "stderr",
     "output_type": "stream",
     "text": [
      "100%|██████████| 243/243 [00:19<00:00, 12.27it/s, loss=0.00458]\n"
     ]
    },
    {
     "name": "stdout",
     "output_type": "stream",
     "text": [
      "Ave Loss: 0.004341509609019438\n",
      "Epoch: 45\n"
     ]
    },
    {
     "name": "stderr",
     "output_type": "stream",
     "text": [
      "100%|██████████| 243/243 [00:21<00:00, 11.23it/s, loss=0.00454]\n"
     ]
    },
    {
     "name": "stdout",
     "output_type": "stream",
     "text": [
      "Ave Loss: 0.00434081570279819\n",
      "Epoch: 46\n"
     ]
    },
    {
     "name": "stderr",
     "output_type": "stream",
     "text": [
      "100%|██████████| 243/243 [00:20<00:00, 12.00it/s, loss=0.00454]\n"
     ]
    },
    {
     "name": "stdout",
     "output_type": "stream",
     "text": [
      "Ave Loss: 0.0043404525607717015\n",
      "Epoch: 47\n"
     ]
    },
    {
     "name": "stderr",
     "output_type": "stream",
     "text": [
      "100%|██████████| 243/243 [00:19<00:00, 12.30it/s, loss=0.00453]\n"
     ]
    },
    {
     "name": "stdout",
     "output_type": "stream",
     "text": [
      "Ave Loss: 0.004340189167992078\n",
      "Epoch: 48\n"
     ]
    },
    {
     "name": "stderr",
     "output_type": "stream",
     "text": [
      "100%|██████████| 243/243 [00:20<00:00, 11.76it/s, loss=0.00449]\n"
     ]
    },
    {
     "name": "stdout",
     "output_type": "stream",
     "text": [
      "Ave Loss: 0.004339559042036778\n",
      "Epoch: 49\n"
     ]
    },
    {
     "name": "stderr",
     "output_type": "stream",
     "text": [
      "100%|██████████| 243/243 [00:20<00:00, 12.04it/s, loss=0.00445]\n"
     ]
    },
    {
     "name": "stdout",
     "output_type": "stream",
     "text": [
      "Ave Loss: 0.0043393310059797125\n",
      "Training duration: 1052.2405738830566 seconds\n"
     ]
    }
   ],
   "source": [
    "import time\n",
    "\n",
    "epochs = 50\n",
    "losses = []\n",
    "\n",
    "start = time.time()\n",
    "for epoch in range(epochs):\n",
    "    print(\"Epoch: {}\".format(epoch))\n",
    "    \n",
    "    ave_loss = train_fn(\n",
    "        train_loader,\n",
    "        model,\n",
    "        optimizer,\n",
    "        loss_fn,\n",
    "        batch_size\n",
    "    )\n",
    "    \n",
    "    losses.append(ave_loss)\n",
    "    \n",
    "    print(\"Ave Loss: {}\".format(ave_loss))\n",
    "    \n",
    "    state = { 'state_dict': model.state_dict() }\n",
    "\n",
    "    torch.save(state, \"./torch_models/variational-autoencoder.pth\")\n",
    "\n",
    "end = time.time()    \n",
    "print(f'Training duration: {(end-start)} seconds')"
   ]
  },
  {
   "cell_type": "code",
   "execution_count": 22,
   "metadata": {},
   "outputs": [
    {
     "data": {
      "image/png": "[encoded data removed]",
      "text/plain": [
       "<Figure size 640x480 with 1 Axes>"
      ]
     },
     "metadata": {},
     "output_type": "display_data"
    }
   ],
   "source": [
    "plt.plot(losses, label='loss', color='red')\n",
    "plt.title('Training Evaluation', fontsize=14)\n",
    "plt.xlabel('Epoch', fontsize=14)\n",
    "plt.ylabel('Error Value', fontsize=14)\n",
    "plt.grid(True)\n",
    "plt.legend()\n",
    "plt.show()"
   ]
  },
  {
   "cell_type": "code",
   "execution_count": 23,
   "metadata": {},
   "outputs": [
    {
     "name": "stderr",
     "output_type": "stream",
     "text": [
      "C:\\Users\\acer\\AppData\\Local\\Temp\\ipykernel_39896\\1927566234.py:4: UserWarning: Creating a tensor from a list of numpy.ndarrays is extremely slow. Please consider converting the list to a single numpy.ndarray with numpy.array() before converting to a tensor. (Triggered internally at C:\\actions-runner\\_work\\pytorch\\pytorch\\builder\\windows\\pytorch\\torch\\csrc\\utils\\tensor_new.cpp:233.)\n",
      "  sampled_mu = torch.Tensor([np.zeros(num_features)])\n"
     ]
    },
    {
     "data": {
      "text/plain": [
       "[array([3.0112053e-05, 4.0999171e-04, 1.8005099e-04, ..., 5.7512429e-04,\n",
       "        2.0185192e-04, 2.5829437e-04], dtype=float32),\n",
       " array([5.0689119e-05, 6.8395492e-04, 2.6685518e-04, ..., 8.3954830e-04,\n",
       "        3.2414834e-04, 3.1505493e-04], dtype=float32),\n",
       " array([4.0401283e-05, 5.9133570e-04, 1.5654798e-04, ..., 8.5072295e-04,\n",
       "        2.4050182e-04, 2.7548836e-04], dtype=float32),\n",
       " array([6.0999955e-05, 7.0945127e-04, 2.2877502e-04, ..., 9.1956771e-04,\n",
       "        4.6109749e-04, 4.8109770e-04], dtype=float32),\n",
       " array([5.9478090e-05, 4.7811834e-04, 1.8672628e-04, ..., 1.2091064e-03,\n",
       "        2.1276802e-04, 3.4006653e-04], dtype=float32),\n",
       " array([6.1626088e-05, 5.2256737e-04, 1.5780584e-04, ..., 8.8821445e-04,\n",
       "        2.1848295e-04, 3.4007043e-04], dtype=float32),\n",
       " array([6.6177417e-05, 5.4903683e-04, 1.2581445e-04, ..., 1.1880000e-03,\n",
       "        4.1925983e-04, 3.7615903e-04], dtype=float32),\n",
       " array([4.9372662e-05, 6.4295571e-04, 2.5171373e-04, ..., 8.6774898e-04,\n",
       "        3.7490227e-04, 3.8778395e-04], dtype=float32),\n",
       " array([3.2492280e-05, 3.8963283e-04, 1.4121812e-04, ..., 5.5145618e-04,\n",
       "        2.0440048e-04, 1.7166481e-04], dtype=float32),\n",
       " array([5.9740425e-05, 3.8588516e-04, 1.5175264e-04, ..., 7.0865569e-04,\n",
       "        2.0071403e-04, 3.6214027e-04], dtype=float32),\n",
       " array([2.6425545e-05, 4.0702312e-04, 1.2019389e-04, ..., 7.5473828e-04,\n",
       "        2.1075681e-04, 2.1545007e-04], dtype=float32),\n",
       " array([4.0467490e-05, 4.2543153e-04, 1.6149174e-04, ..., 5.9832312e-04,\n",
       "        2.8847854e-04, 2.9979492e-04], dtype=float32),\n",
       " array([3.3796539e-05, 4.2522678e-04, 1.2168557e-04, ..., 7.9541455e-04,\n",
       "        2.4465605e-04, 2.3625583e-04], dtype=float32),\n",
       " array([4.2350031e-05, 3.6806206e-04, 1.9048541e-04, ..., 6.7599746e-04,\n",
       "        2.5559671e-04, 3.0099836e-04], dtype=float32),\n",
       " array([3.1447733e-05, 3.4558497e-04, 1.4089022e-04, ..., 7.7878294e-04,\n",
       "        2.6158881e-04, 2.5197331e-04], dtype=float32),\n",
       " array([2.4278674e-05, 3.1426805e-04, 1.3173210e-04, ..., 5.2729470e-04,\n",
       "        2.0728871e-04, 1.4413529e-04], dtype=float32),\n",
       " array([3.08862072e-05, 2.82671244e-04, 1.05214145e-04, ...,\n",
       "        5.18447487e-04, 2.64655886e-04, 2.37785789e-04], dtype=float32),\n",
       " array([5.6375175e-05, 5.1657867e-04, 1.6142400e-04, ..., 1.1197148e-03,\n",
       "        3.6348088e-04, 4.5973301e-04], dtype=float32),\n",
       " array([7.2794610e-05, 8.0362556e-04, 2.2559546e-04, ..., 1.7004965e-03,\n",
       "        3.0406579e-04, 4.9078226e-04], dtype=float32),\n",
       " array([5.1635270e-05, 5.8683980e-04, 1.9882942e-04, ..., 9.8190876e-04,\n",
       "        2.5687073e-04, 3.7103050e-04], dtype=float32),\n",
       " array([5.5026161e-05, 4.8242119e-04, 2.0052026e-04, ..., 8.7350036e-04,\n",
       "        2.9456679e-04, 3.3656706e-04], dtype=float32),\n",
       " array([2.9856623e-05, 3.4508834e-04, 1.1471428e-04, ..., 5.6126580e-04,\n",
       "        1.6216931e-04, 2.3105527e-04], dtype=float32),\n",
       " array([4.6296751e-05, 4.0374318e-04, 1.5521678e-04, ..., 1.0313705e-03,\n",
       "        2.0850025e-04, 2.6613180e-04], dtype=float32),\n",
       " array([4.7263751e-05, 4.0456132e-04, 1.3910237e-04, ..., 7.1430061e-04,\n",
       "        2.0265087e-04, 2.5795575e-04], dtype=float32),\n",
       " array([3.5433684e-05, 5.1154842e-04, 1.6329707e-04, ..., 7.8039797e-04,\n",
       "        2.0703567e-04, 2.4411408e-04], dtype=float32),\n",
       " array([2.1378137e-05, 3.6386974e-04, 1.0234181e-04, ..., 7.0547312e-04,\n",
       "        1.7276914e-04, 2.2031585e-04], dtype=float32),\n",
       " array([5.1502837e-05, 5.8177189e-04, 2.9454264e-04, ..., 8.1812538e-04,\n",
       "        3.1904478e-04, 2.8423354e-04], dtype=float32),\n",
       " array([3.6608177e-05, 5.1485671e-04, 1.7081918e-04, ..., 8.7290298e-04,\n",
       "        2.5639555e-04, 3.5032118e-04], dtype=float32),\n",
       " array([6.2138432e-05, 7.1177719e-04, 2.2167240e-04, ..., 1.5121405e-03,\n",
       "        2.7528332e-04, 3.4690782e-04], dtype=float32),\n",
       " array([4.9952621e-05, 5.4780865e-04, 1.6709002e-04, ..., 8.6945854e-04,\n",
       "        2.8468997e-04, 3.3010994e-04], dtype=float32),\n",
       " array([5.2720654e-05, 4.3221144e-04, 1.5830544e-04, ..., 7.0343260e-04,\n",
       "        2.3261298e-04, 3.2279760e-04], dtype=float32),\n",
       " array([2.0381467e-05, 5.0556520e-04, 1.5388195e-04, ..., 7.0370885e-04,\n",
       "        1.9169177e-04, 1.9673957e-04], dtype=float32),\n",
       " array([3.7675374e-05, 5.6329428e-04, 1.9509030e-04, ..., 7.6053978e-04,\n",
       "        3.0117057e-04, 2.5826975e-04], dtype=float32),\n",
       " array([2.8417357e-05, 2.9552318e-04, 1.0884532e-04, ..., 5.6799332e-04,\n",
       "        1.9408524e-04, 3.7042791e-04], dtype=float32),\n",
       " array([3.4946021e-05, 3.3105951e-04, 1.3965099e-04, ..., 6.0368812e-04,\n",
       "        2.3960895e-04, 3.0012609e-04], dtype=float32),\n",
       " array([4.6806690e-05, 3.8272823e-04, 1.6549048e-04, ..., 8.1896660e-04,\n",
       "        2.4159715e-04, 3.4581864e-04], dtype=float32),\n",
       " array([2.9419552e-05, 3.8316631e-04, 1.3595140e-04, ..., 6.3849549e-04,\n",
       "        1.4849401e-04, 1.4458776e-04], dtype=float32),\n",
       " array([2.1056023e-05, 2.2922459e-04, 9.9211749e-05, ..., 4.2564387e-04,\n",
       "        1.3109029e-04, 1.7389862e-04], dtype=float32),\n",
       " array([4.5192002e-05, 5.9105031e-04, 2.4123372e-04, ..., 7.9575006e-04,\n",
       "        3.3273493e-04, 3.8216784e-04], dtype=float32),\n",
       " array([2.1504175e-05, 3.8164720e-04, 1.4137225e-04, ..., 8.5103465e-04,\n",
       "        1.9426538e-04, 2.0111095e-04], dtype=float32),\n",
       " array([7.5745469e-05, 9.1243203e-04, 3.6481553e-04, ..., 9.5450255e-04,\n",
       "        4.3129773e-04, 5.1428069e-04], dtype=float32),\n",
       " array([6.3296284e-05, 5.6958152e-04, 2.4693957e-04, ..., 8.6282642e-04,\n",
       "        3.3143151e-04, 4.1018639e-04], dtype=float32),\n",
       " array([7.8262834e-05, 5.4248766e-04, 1.7216986e-04, ..., 1.1961209e-03,\n",
       "        3.1297366e-04, 4.5002939e-04], dtype=float32),\n",
       " array([6.3712803e-05, 4.8484979e-04, 1.8982128e-04, ..., 7.0447207e-04,\n",
       "        2.7464758e-04, 3.7474453e-04], dtype=float32),\n",
       " array([2.67475662e-05, 3.26702575e-04, 1.10968365e-04, ...,\n",
       "        6.58434466e-04, 1.66923928e-04, 1.98610214e-04], dtype=float32),\n",
       " array([4.1850755e-05, 4.8353878e-04, 1.7260035e-04, ..., 7.8717264e-04,\n",
       "        2.6190025e-04, 2.9590743e-04], dtype=float32),\n",
       " array([6.4721375e-05, 6.8924262e-04, 2.7304320e-04, ..., 1.4215364e-03,\n",
       "        3.6977587e-04, 5.5789179e-04], dtype=float32),\n",
       " array([3.5743778e-05, 4.8070581e-04, 1.4624555e-04, ..., 1.0273682e-03,\n",
       "        2.3388347e-04, 2.0336821e-04], dtype=float32),\n",
       " array([5.0482846e-05, 8.2030444e-04, 2.3969168e-04, ..., 1.0168401e-03,\n",
       "        2.7599707e-04, 2.9067390e-04], dtype=float32),\n",
       " array([4.9216174e-05, 6.2795251e-04, 2.4655258e-04, ..., 9.9643972e-04,\n",
       "        4.0697021e-04, 4.4052981e-04], dtype=float32),\n",
       " array([5.0352694e-05, 5.3371064e-04, 1.8097286e-04, ..., 7.7199994e-04,\n",
       "        2.3377023e-04, 3.0219191e-04], dtype=float32),\n",
       " array([4.9888215e-05, 4.2366702e-04, 1.7579434e-04, ..., 1.0373642e-03,\n",
       "        2.9518220e-04, 3.4648227e-04], dtype=float32),\n",
       " array([4.4197244e-05, 6.5675454e-04, 2.2362309e-04, ..., 8.3163753e-04,\n",
       "        2.1835759e-04, 2.6712782e-04], dtype=float32),\n",
       " array([9.7633158e-05, 6.6567381e-04, 3.0080989e-04, ..., 9.7544899e-04,\n",
       "        4.0157521e-04, 5.6174427e-04], dtype=float32),\n",
       " array([6.4260625e-05, 7.8542414e-04, 2.9776196e-04, ..., 1.5931877e-03,\n",
       "        2.8054431e-04, 3.3571944e-04], dtype=float32),\n",
       " array([7.1649789e-05, 5.5870914e-04, 2.2740864e-04, ..., 1.1570085e-03,\n",
       "        3.2032211e-04, 5.8105233e-04], dtype=float32),\n",
       " array([5.9349190e-05, 5.7581539e-04, 2.0477110e-04, ..., 9.5028675e-04,\n",
       "        3.0411215e-04, 3.2922393e-04], dtype=float32),\n",
       " array([5.8529833e-05, 4.7893304e-04, 1.7697971e-04, ..., 8.7865168e-04,\n",
       "        2.6390652e-04, 4.7461624e-04], dtype=float32),\n",
       " array([2.8734477e-05, 3.9375518e-04, 1.1685348e-04, ..., 8.4241235e-04,\n",
       "        1.9098209e-04, 2.4574454e-04], dtype=float32),\n",
       " array([5.8326907e-05, 5.3923257e-04, 1.9108501e-04, ..., 9.1445597e-04,\n",
       "        2.8161600e-04, 2.6755093e-04], dtype=float32),\n",
       " array([6.4633736e-05, 6.0117577e-04, 2.0616953e-04, ..., 7.7476649e-04,\n",
       "        2.5832589e-04, 3.6623745e-04], dtype=float32),\n",
       " array([4.3735246e-05, 4.8895628e-04, 1.8075161e-04, ..., 9.3977287e-04,\n",
       "        3.4113775e-04, 4.5656131e-04], dtype=float32),\n",
       " array([5.5343651e-05, 5.2678050e-04, 1.8540314e-04, ..., 1.3148849e-03,\n",
       "        3.4969085e-04, 5.4008648e-04], dtype=float32),\n",
       " array([5.1008625e-05, 4.3671348e-04, 1.5712403e-04, ..., 9.2208973e-04,\n",
       "        2.5639823e-04, 3.6046319e-04], dtype=float32),\n",
       " array([1.7343647e-05, 1.8126525e-04, 4.7430945e-05, ..., 5.3235103e-04,\n",
       "        1.2354221e-04, 1.6898048e-04], dtype=float32),\n",
       " array([5.1059142e-05, 4.7437474e-04, 1.4520287e-04, ..., 6.3109852e-04,\n",
       "        2.3186542e-04, 2.0445096e-04], dtype=float32),\n",
       " array([4.0504707e-05, 5.5370224e-04, 1.7630449e-04, ..., 9.6161047e-04,\n",
       "        2.8311467e-04, 2.6749048e-04], dtype=float32),\n",
       " array([4.8182203e-05, 4.2021531e-04, 1.7073858e-04, ..., 1.3336728e-03,\n",
       "        2.0304677e-04, 2.8643431e-04], dtype=float32),\n",
       " array([4.3119970e-05, 4.3752018e-04, 1.5731501e-04, ..., 9.3771517e-04,\n",
       "        2.7552541e-04, 3.2545661e-04], dtype=float32),\n",
       " array([4.1575877e-05, 4.9874192e-04, 1.9390581e-04, ..., 1.1032767e-03,\n",
       "        3.1155988e-04, 4.0080305e-04], dtype=float32),\n",
       " array([3.1392479e-05, 4.3200134e-04, 1.2408294e-04, ..., 8.4275188e-04,\n",
       "        2.8314706e-04, 3.1038997e-04], dtype=float32),\n",
       " array([5.9300481e-05, 7.5082184e-04, 2.7387045e-04, ..., 1.2262441e-03,\n",
       "        3.5756975e-04, 4.2303282e-04], dtype=float32),\n",
       " array([3.6230897e-05, 5.5794761e-04, 2.0133966e-04, ..., 8.0616045e-04,\n",
       "        2.1163923e-04, 2.9323078e-04], dtype=float32),\n",
       " array([3.48514041e-05, 4.33376932e-04, 1.17882555e-04, ...,\n",
       "        8.38002190e-04, 2.29861034e-04, 2.79722793e-04], dtype=float32),\n",
       " array([4.0285518e-05, 6.6131068e-04, 2.0387591e-04, ..., 9.7384711e-04,\n",
       "        2.2718716e-04, 2.8255541e-04], dtype=float32),\n",
       " array([4.7560712e-05, 5.1903963e-04, 2.0085684e-04, ..., 8.5205009e-04,\n",
       "        2.6064800e-04, 2.6468188e-04], dtype=float32),\n",
       " array([3.9081238e-05, 3.7426077e-04, 1.5305543e-04, ..., 6.4353930e-04,\n",
       "        1.9604390e-04, 2.3271146e-04], dtype=float32),\n",
       " array([3.5017343e-05, 6.4041588e-04, 2.7743279e-04, ..., 7.0285128e-04,\n",
       "        2.6086654e-04, 2.6237112e-04], dtype=float32),\n",
       " array([3.7087226e-05, 4.3230061e-04, 1.5729867e-04, ..., 7.2367006e-04,\n",
       "        2.7410896e-04, 3.0884056e-04], dtype=float32),\n",
       " array([4.4657689e-05, 4.7002151e-04, 1.4736150e-04, ..., 9.0555352e-04,\n",
       "        1.7735931e-04, 3.0927488e-04], dtype=float32),\n",
       " array([4.6626752e-05, 4.1996766e-04, 1.5967499e-04, ..., 9.9320430e-04,\n",
       "        2.6613739e-04, 3.8482255e-04], dtype=float32),\n",
       " array([2.9832883e-05, 4.9625256e-04, 1.4218665e-04, ..., 6.4020714e-04,\n",
       "        2.2844372e-04, 2.1119595e-04], dtype=float32),\n",
       " array([5.8182915e-05, 5.7577068e-04, 1.9064041e-04, ..., 9.2991599e-04,\n",
       "        3.0692268e-04, 3.0173821e-04], dtype=float32),\n",
       " array([3.6338508e-05, 5.7772623e-04, 1.8441564e-04, ..., 9.2592026e-04,\n",
       "        3.4466616e-04, 3.5132654e-04], dtype=float32),\n",
       " array([4.9622457e-05, 5.5184448e-04, 1.9502779e-04, ..., 1.0448701e-03,\n",
       "        2.6963901e-04, 2.8759730e-04], dtype=float32),\n",
       " array([5.6377805e-05, 5.8319647e-04, 2.0508569e-04, ..., 8.7466347e-04,\n",
       "        3.0757999e-04, 3.6540552e-04], dtype=float32),\n",
       " array([5.8894318e-05, 5.4479297e-04, 2.3922752e-04, ..., 9.5760182e-04,\n",
       "        3.6170191e-04, 3.5760214e-04], dtype=float32),\n",
       " array([2.4695948e-05, 4.1754593e-04, 1.0787269e-04, ..., 5.1031896e-04,\n",
       "        1.3934173e-04, 1.7989759e-04], dtype=float32),\n",
       " array([4.1618365e-05, 3.3266991e-04, 1.3084526e-04, ..., 7.8908587e-04,\n",
       "        2.4902541e-04, 2.8410106e-04], dtype=float32),\n",
       " array([7.3475429e-05, 7.6334248e-04, 3.1397425e-04, ..., 1.1950351e-03,\n",
       "        3.9414238e-04, 5.3105113e-04], dtype=float32),\n",
       " array([3.1236923e-05, 5.4236018e-04, 2.0997257e-04, ..., 6.0859544e-04,\n",
       "        2.0259329e-04, 2.4743332e-04], dtype=float32),\n",
       " array([4.3577584e-05, 4.1371051e-04, 2.0374436e-04, ..., 6.6046260e-04,\n",
       "        2.0393678e-04, 3.2978939e-04], dtype=float32),\n",
       " array([3.8709397e-05, 6.0266565e-04, 2.0652721e-04, ..., 1.0938795e-03,\n",
       "        2.1488979e-04, 3.6620256e-04], dtype=float32),\n",
       " array([3.8620092e-05, 2.9160740e-04, 8.7084620e-05, ..., 6.7890051e-04,\n",
       "        1.6384842e-04, 2.3423230e-04], dtype=float32),\n",
       " array([5.9288719e-05, 5.7572400e-04, 2.3311673e-04, ..., 9.7411900e-04,\n",
       "        3.3658408e-04, 4.1721034e-04], dtype=float32),\n",
       " array([5.6104491e-05, 6.1697129e-04, 2.0990751e-04, ..., 1.0716671e-03,\n",
       "        4.2293017e-04, 4.8182375e-04], dtype=float32),\n",
       " array([8.0504622e-05, 7.4354908e-04, 2.4377240e-04, ..., 1.4835643e-03,\n",
       "        3.4334289e-04, 3.8715289e-04], dtype=float32),\n",
       " array([6.5100758e-05, 4.5824909e-04, 2.2011156e-04, ..., 7.1255362e-04,\n",
       "        2.6181564e-04, 3.2573566e-04], dtype=float32),\n",
       " array([1.9487581e-05, 3.2619250e-04, 9.6770047e-05, ..., 5.0685427e-04,\n",
       "        1.3970665e-04, 1.2487691e-04], dtype=float32),\n",
       " array([4.2996740e-05, 6.1045121e-04, 1.7373569e-04, ..., 9.2828309e-04,\n",
       "        2.3754104e-04, 2.5978067e-04], dtype=float32),\n",
       " array([6.3910149e-05, 6.1732007e-04, 2.9008949e-04, ..., 9.3427557e-04,\n",
       "        3.0125931e-04, 4.6478931e-04], dtype=float32),\n",
       " array([5.2512773e-05, 4.9678923e-04, 1.7844238e-04, ..., 1.8578203e-03,\n",
       "        2.6752974e-04, 4.5342057e-04], dtype=float32),\n",
       " array([3.5751145e-05, 4.2095385e-04, 1.1915679e-04, ..., 9.5417112e-04,\n",
       "        1.7326255e-04, 2.1214513e-04], dtype=float32),\n",
       " array([4.4932705e-05, 5.6537508e-04, 1.6233037e-04, ..., 9.4234204e-04,\n",
       "        3.3807769e-04, 2.9041796e-04], dtype=float32),\n",
       " array([2.5796779e-05, 3.4027215e-04, 1.6641426e-04, ..., 3.9448086e-04,\n",
       "        1.7575880e-04, 1.5976165e-04], dtype=float32),\n",
       " array([3.3221386e-05, 4.5873492e-04, 1.2665029e-04, ..., 8.2010089e-04,\n",
       "        2.4079939e-04, 2.2393481e-04], dtype=float32),\n",
       " array([4.0875242e-05, 4.3135346e-04, 1.3855327e-04, ..., 7.0128927e-04,\n",
       "        2.4225572e-04, 3.5662026e-04], dtype=float32),\n",
       " array([5.4006247e-05, 6.2622613e-04, 1.6691996e-04, ..., 1.2287281e-03,\n",
       "        2.0240292e-04, 2.8887347e-04], dtype=float32),\n",
       " array([3.8736835e-05, 4.3322987e-04, 1.4168156e-04, ..., 1.0137300e-03,\n",
       "        2.5228053e-04, 3.5548655e-04], dtype=float32),\n",
       " array([3.2382901e-05, 4.6907846e-04, 1.4163145e-04, ..., 7.8133779e-04,\n",
       "        2.6411240e-04, 2.3919740e-04], dtype=float32),\n",
       " array([5.2477179e-05, 6.8433635e-04, 1.9802536e-04, ..., 8.6148042e-04,\n",
       "        3.3112548e-04, 3.5606316e-04], dtype=float32),\n",
       " array([4.1342140e-05, 4.1434000e-04, 1.4687961e-04, ..., 5.5346114e-04,\n",
       "        2.1053187e-04, 1.7565326e-04], dtype=float32),\n",
       " array([7.4278338e-05, 6.0489669e-04, 2.3119654e-04, ..., 1.0133035e-03,\n",
       "        3.8943434e-04, 5.6390802e-04], dtype=float32),\n",
       " array([3.4021054e-05, 3.1297040e-04, 1.0373643e-04, ..., 6.7650917e-04,\n",
       "        1.7036959e-04, 2.8252709e-04], dtype=float32),\n",
       " array([4.4574295e-05, 4.6819440e-04, 1.4021207e-04, ..., 8.6817081e-04,\n",
       "        2.1833341e-04, 3.0039632e-04], dtype=float32),\n",
       " array([3.4074790e-05, 3.4795579e-04, 1.5934708e-04, ..., 6.8965100e-04,\n",
       "        1.6426908e-04, 2.9003309e-04], dtype=float32),\n",
       " array([4.9716953e-05, 4.6757111e-04, 1.9427262e-04, ..., 8.4293337e-04,\n",
       "        1.8676635e-04, 3.2356384e-04], dtype=float32),\n",
       " array([3.8349281e-05, 5.3104403e-04, 2.0381314e-04, ..., 7.3775329e-04,\n",
       "        2.7758811e-04, 2.7431446e-04], dtype=float32),\n",
       " array([5.2720909e-05, 4.1786052e-04, 1.0600196e-04, ..., 9.2921179e-04,\n",
       "        2.7672798e-04, 3.5578085e-04], dtype=float32),\n",
       " array([4.3848628e-05, 5.3285010e-04, 1.4901144e-04, ..., 1.0590743e-03,\n",
       "        1.9169305e-04, 3.1229053e-04], dtype=float32),\n",
       " array([4.4736502e-05, 5.4213637e-04, 1.6852866e-04, ..., 1.1147212e-03,\n",
       "        3.0369728e-04, 4.9475342e-04], dtype=float32),\n",
       " array([3.8492100e-05, 2.4016037e-04, 1.1626872e-04, ..., 6.6912564e-04,\n",
       "        1.7418504e-04, 3.8147770e-04], dtype=float32),\n",
       " array([6.5770371e-05, 7.6759118e-04, 2.6816715e-04, ..., 1.2981119e-03,\n",
       "        2.8874158e-04, 2.8843753e-04], dtype=float32),\n",
       " array([2.3172357e-05, 3.2985857e-04, 8.1386657e-05, ..., 5.6401099e-04,\n",
       "        1.1697120e-04, 1.9880878e-04], dtype=float32),\n",
       " array([5.7371235e-05, 5.8863993e-04, 1.7081918e-04, ..., 9.5343497e-04,\n",
       "        3.7793198e-04, 4.0019865e-04], dtype=float32),\n",
       " array([2.0916048e-05, 2.1786201e-04, 6.8719215e-05, ..., 4.0338235e-04,\n",
       "        8.3701874e-05, 1.4988070e-04], dtype=float32),\n",
       " array([5.6451616e-05, 3.7104887e-04, 1.3548242e-04, ..., 7.6520513e-04,\n",
       "        2.8766171e-04, 2.7092540e-04], dtype=float32),\n",
       " array([2.2936822e-05, 4.0633813e-04, 1.1363817e-04, ..., 7.3963602e-04,\n",
       "        1.7311641e-04, 1.9305314e-04], dtype=float32),\n",
       " array([2.8236016e-05, 3.3541344e-04, 1.0803709e-04, ..., 6.0003292e-04,\n",
       "        2.2395018e-04, 2.5744125e-04], dtype=float32),\n",
       " array([4.7073838e-05, 4.5766003e-04, 2.1381007e-04, ..., 8.2275743e-04,\n",
       "        2.6470888e-04, 3.0565416e-04], dtype=float32),\n",
       " array([1.9208766e-05, 3.0437671e-04, 8.1171034e-05, ..., 5.0313072e-04,\n",
       "        1.2993539e-04, 1.1859228e-04], dtype=float32),\n",
       " array([5.2899435e-05, 5.5982592e-04, 1.5065962e-04, ..., 7.7522331e-04,\n",
       "        2.3228517e-04, 2.8883986e-04], dtype=float32),\n",
       " array([4.9057511e-05, 4.6622282e-04, 1.4794071e-04, ..., 6.6020992e-04,\n",
       "        2.8160980e-04, 3.9796054e-04], dtype=float32),\n",
       " array([3.3932662e-05, 3.7963167e-04, 1.2734115e-04, ..., 7.5275509e-04,\n",
       "        1.8105813e-04, 3.6246600e-04], dtype=float32),\n",
       " array([5.8626192e-05, 6.3662947e-04, 1.9801383e-04, ..., 7.8579655e-04,\n",
       "        2.8253411e-04, 2.6382072e-04], dtype=float32),\n",
       " array([5.4238553e-05, 5.0059299e-04, 2.1097316e-04, ..., 8.2737714e-04,\n",
       "        2.2566966e-04, 3.2266468e-04], dtype=float32),\n",
       " array([3.3691504e-05, 3.7591529e-04, 1.4911036e-04, ..., 5.6026661e-04,\n",
       "        1.7939809e-04, 2.2281711e-04], dtype=float32),\n",
       " array([3.2473541e-05, 6.0627906e-04, 1.5207219e-04, ..., 6.4569415e-04,\n",
       "        1.8609654e-04, 1.6440602e-04], dtype=float32),\n",
       " array([5.9389331e-05, 4.7550062e-04, 1.5969768e-04, ..., 1.4822029e-03,\n",
       "        2.1878940e-04, 3.6768118e-04], dtype=float32),\n",
       " array([4.5401506e-05, 3.7107771e-04, 1.4921349e-04, ..., 1.0287822e-03,\n",
       "        2.0839252e-04, 2.7845328e-04], dtype=float32),\n",
       " array([4.1920175e-05, 4.6234569e-04, 1.4417776e-04, ..., 1.0331671e-03,\n",
       "        2.4267760e-04, 2.9351804e-04], dtype=float32),\n",
       " array([5.5178603e-05, 5.5817183e-04, 2.0677449e-04, ..., 1.1520666e-03,\n",
       "        2.6764482e-04, 4.7913325e-04], dtype=float32),\n",
       " array([3.3300428e-05, 3.8041166e-04, 9.8692675e-05, ..., 7.9613796e-04,\n",
       "        2.0618386e-04, 2.2428011e-04], dtype=float32),\n",
       " array([7.1865885e-05, 6.9696520e-04, 2.4129168e-04, ..., 1.2112563e-03,\n",
       "        3.8662876e-04, 3.5184188e-04], dtype=float32),\n",
       " array([4.2247855e-05, 3.9361839e-04, 1.4843399e-04, ..., 6.6408451e-04,\n",
       "        1.5119453e-04, 2.4262925e-04], dtype=float32),\n",
       " array([3.7289512e-05, 3.8502362e-04, 1.0141878e-04, ..., 7.4852316e-04,\n",
       "        1.4698399e-04, 2.6340075e-04], dtype=float32),\n",
       " array([3.9928898e-05, 4.1936775e-04, 1.4607121e-04, ..., 8.3983399e-04,\n",
       "        2.5055269e-04, 3.9003178e-04], dtype=float32),\n",
       " array([1.57572958e-05, 1.60198077e-04, 5.34950013e-05, ...,\n",
       "        5.29586454e-04, 1.10833425e-04, 1.59842253e-04], dtype=float32),\n",
       " array([4.0961437e-05, 7.0397009e-04, 1.7292157e-04, ..., 8.0072432e-04,\n",
       "        2.2972366e-04, 3.9579606e-04], dtype=float32),\n",
       " array([5.7453086e-05, 3.9452917e-04, 1.4802226e-04, ..., 7.1028306e-04,\n",
       "        2.5724474e-04, 4.0463844e-04], dtype=float32),\n",
       " array([6.2438747e-05, 4.0522407e-04, 1.5113168e-04, ..., 6.8157277e-04,\n",
       "        1.9296684e-04, 3.4974504e-04], dtype=float32),\n",
       " array([5.5140885e-05, 4.5718410e-04, 1.8418314e-04, ..., 7.6331670e-04,\n",
       "        2.6689004e-04, 3.4136989e-04], dtype=float32),\n",
       " array([4.7471993e-05, 5.1953259e-04, 1.5131786e-04, ..., 8.2338491e-04,\n",
       "        2.4803067e-04, 2.7584398e-04], dtype=float32),\n",
       " array([4.1649691e-05, 4.4204801e-04, 2.0207318e-04, ..., 7.4605062e-04,\n",
       "        1.8757659e-04, 2.2595559e-04], dtype=float32),\n",
       " array([4.7579633e-05, 3.7958156e-04, 1.9613272e-04, ..., 8.3553081e-04,\n",
       "        3.4623989e-04, 4.4719863e-04], dtype=float32),\n",
       " array([3.3738965e-05, 4.6777973e-04, 1.6563397e-04, ..., 6.0920912e-04,\n",
       "        2.5363013e-04, 2.8237200e-04], dtype=float32),\n",
       " array([3.6304391e-05, 4.3278947e-04, 1.6578156e-04, ..., 1.0719079e-03,\n",
       "        1.7206681e-04, 2.7250149e-04], dtype=float32),\n",
       " array([2.8977216e-05, 3.8478256e-04, 1.2340835e-04, ..., 7.8681600e-04,\n",
       "        1.7436717e-04, 2.1401014e-04], dtype=float32),\n",
       " array([6.3626161e-05, 4.8849278e-04, 2.2268116e-04, ..., 9.4802084e-04,\n",
       "        3.2929771e-04, 3.1106450e-04], dtype=float32),\n",
       " array([3.8362996e-05, 4.4246405e-04, 1.6627104e-04, ..., 9.9029276e-04,\n",
       "        3.0524327e-04, 3.3169927e-04], dtype=float32),\n",
       " array([3.6360729e-05, 3.4800472e-04, 1.4174900e-04, ..., 6.8491831e-04,\n",
       "        1.9575607e-04, 2.0907856e-04], dtype=float32),\n",
       " array([6.1193561e-05, 5.7856028e-04, 1.9910376e-04, ..., 1.4462169e-03,\n",
       "        4.6609394e-04, 4.6339491e-04], dtype=float32),\n",
       " array([6.4507753e-05, 5.0959375e-04, 2.0804787e-04, ..., 9.3937403e-04,\n",
       "        2.5479181e-04, 4.8951915e-04], dtype=float32),\n",
       " array([5.3066371e-05, 4.7072701e-04, 1.8182315e-04, ..., 7.3607248e-04,\n",
       "        3.0031931e-04, 3.4151701e-04], dtype=float32),\n",
       " array([5.3257751e-05, 4.7429535e-04, 1.3913249e-04, ..., 8.4033667e-04,\n",
       "        2.2157055e-04, 2.7715336e-04], dtype=float32),\n",
       " array([2.4255834e-05, 2.8711429e-04, 9.3350987e-05, ..., 6.2456669e-04,\n",
       "        9.7143471e-05, 1.4005613e-04], dtype=float32),\n",
       " array([4.5639823e-05, 5.0294114e-04, 1.9637542e-04, ..., 1.4624574e-03,\n",
       "        2.8759538e-04, 3.5304844e-04], dtype=float32),\n",
       " array([5.3736738e-05, 5.6569930e-04, 1.5613518e-04, ..., 1.0911407e-03,\n",
       "        3.3506349e-04, 4.1110042e-04], dtype=float32),\n",
       " array([3.5664922e-05, 3.7993200e-04, 1.2538175e-04, ..., 1.0787634e-03,\n",
       "        1.9141598e-04, 2.8163480e-04], dtype=float32),\n",
       " array([5.1375591e-05, 6.7906844e-04, 2.3052959e-04, ..., 7.4851362e-04,\n",
       "        3.6838080e-04, 3.1212563e-04], dtype=float32),\n",
       " array([4.1990592e-05, 4.1389448e-04, 1.6730987e-04, ..., 6.0557050e-04,\n",
       "        2.0222968e-04, 4.2581049e-04], dtype=float32),\n",
       " array([4.6289733e-05, 3.4316583e-04, 9.0822483e-05, ..., 7.7163655e-04,\n",
       "        2.8101599e-04, 3.4555435e-04], dtype=float32),\n",
       " array([4.1345887e-05, 5.0703064e-04, 1.8709252e-04, ..., 7.1977370e-04,\n",
       "        2.0078638e-04, 2.2340464e-04], dtype=float32),\n",
       " array([4.8444541e-05, 6.0426403e-04, 2.0256991e-04, ..., 9.0861612e-04,\n",
       "        3.3256909e-04, 2.8805144e-04], dtype=float32),\n",
       " array([5.2116611e-05, 3.9137396e-04, 1.3454813e-04, ..., 9.4358379e-04,\n",
       "        2.4680918e-04, 3.3955663e-04], dtype=float32),\n",
       " array([2.9969158e-05, 2.8241641e-04, 7.7423283e-05, ..., 5.6109839e-04,\n",
       "        1.9479347e-04, 1.8837149e-04], dtype=float32),\n",
       " array([3.6725454e-05, 4.3504999e-04, 1.5629605e-04, ..., 8.8749919e-04,\n",
       "        2.3596745e-04, 2.7619634e-04], dtype=float32),\n",
       " array([6.8277717e-05, 6.3555368e-04, 2.4079457e-04, ..., 1.1152459e-03,\n",
       "        2.9787014e-04, 4.1258431e-04], dtype=float32),\n",
       " array([2.4925217e-05, 2.8212444e-04, 9.2413815e-05, ..., 7.8167848e-04,\n",
       "        1.4625043e-04, 2.5497845e-04], dtype=float32),\n",
       " array([5.8225098e-05, 5.2944466e-04, 2.0489824e-04, ..., 1.0494277e-03,\n",
       "        3.2398611e-04, 3.4022541e-04], dtype=float32),\n",
       " array([4.3887409e-05, 5.4592412e-04, 1.6187470e-04, ..., 7.7252905e-04,\n",
       "        2.6648983e-04, 2.9497821e-04], dtype=float32),\n",
       " array([5.1778610e-05, 5.3883775e-04, 1.4669290e-04, ..., 8.8781043e-04,\n",
       "        2.0481348e-04, 3.4605825e-04], dtype=float32),\n",
       " array([3.3262248e-05, 3.4677490e-04, 1.3840577e-04, ..., 9.0537273e-04,\n",
       "        1.8050824e-04, 2.8558818e-04], dtype=float32),\n",
       " array([2.2841978e-05, 2.9147646e-04, 1.0067368e-04, ..., 9.3628775e-04,\n",
       "        2.1256770e-04, 1.9503562e-04], dtype=float32),\n",
       " array([4.7516558e-05, 3.9670736e-04, 1.6629863e-04, ..., 1.0623751e-03,\n",
       "        2.1092266e-04, 3.0306008e-04], dtype=float32),\n",
       " array([5.3560649e-05, 6.0729490e-04, 2.2875257e-04, ..., 9.7522727e-04,\n",
       "        2.0284535e-04, 3.8009611e-04], dtype=float32),\n",
       " array([3.1726457e-05, 4.0862800e-04, 1.5753973e-04, ..., 5.6557968e-04,\n",
       "        1.6053848e-04, 2.4160776e-04], dtype=float32),\n",
       " array([2.2358332e-05, 2.3588918e-04, 1.1226289e-04, ..., 4.8388873e-04,\n",
       "        1.3197149e-04, 2.2320684e-04], dtype=float32),\n",
       " array([3.8593509e-05, 5.0746335e-04, 1.4876854e-04, ..., 9.3799218e-04,\n",
       "        2.3973029e-04, 2.6998346e-04], dtype=float32),\n",
       " array([3.8591963e-05, 4.8750386e-04, 1.3909933e-04, ..., 1.0740560e-03,\n",
       "        2.1744405e-04, 4.2573156e-04], dtype=float32),\n",
       " array([6.3686806e-05, 6.9764635e-04, 2.3679687e-04, ..., 1.0174928e-03,\n",
       "        3.3354768e-04, 3.3361797e-04], dtype=float32),\n",
       " array([6.0018796e-05, 6.0413015e-04, 2.0581990e-04, ..., 9.2190655e-04,\n",
       "        2.1102263e-04, 3.2739883e-04], dtype=float32),\n",
       " array([4.0871029e-05, 4.0457406e-04, 1.4441028e-04, ..., 8.3995401e-04,\n",
       "        2.0041647e-04, 2.9442838e-04], dtype=float32),\n",
       " array([2.73983042e-05, 2.27454191e-04, 1.15335526e-04, ...,\n",
       "        5.25128387e-04, 1.58214447e-04, 2.27543977e-04], dtype=float32),\n",
       " array([3.2239648e-05, 3.4538735e-04, 1.3083278e-04, ..., 8.2502636e-04,\n",
       "        1.1102192e-04, 1.8813400e-04], dtype=float32),\n",
       " array([4.8434937e-05, 4.5614393e-04, 1.7138450e-04, ..., 7.7735784e-04,\n",
       "        2.3433728e-04, 3.8296508e-04], dtype=float32),\n",
       " array([4.9205002e-05, 5.8784714e-04, 1.9225811e-04, ..., 1.0095321e-03,\n",
       "        2.5008374e-04, 2.3883254e-04], dtype=float32),\n",
       " array([2.2879673e-05, 3.0641569e-04, 1.0835621e-04, ..., 4.6703371e-04,\n",
       "        1.9183877e-04, 1.4941252e-04], dtype=float32),\n",
       " array([2.3303704e-05, 3.2393271e-04, 1.2665524e-04, ..., 4.6870994e-04,\n",
       "        1.4854457e-04, 1.6870069e-04], dtype=float32),\n",
       " array([3.4347308e-05, 4.3915250e-04, 1.4625002e-04, ..., 6.6941587e-04,\n",
       "        2.8645369e-04, 2.8729363e-04], dtype=float32),\n",
       " array([6.1987572e-05, 5.6005031e-04, 1.9250868e-04, ..., 8.3269295e-04,\n",
       "        2.5939383e-04, 4.8372362e-04], dtype=float32),\n",
       " array([5.8283596e-05, 4.5362007e-04, 1.5915044e-04, ..., 7.9106214e-04,\n",
       "        2.4946313e-04, 3.5710662e-04], dtype=float32),\n",
       " array([4.7240679e-05, 5.1227328e-04, 1.7394339e-04, ..., 1.2416934e-03,\n",
       "        2.6831497e-04, 3.5202038e-04], dtype=float32),\n",
       " array([6.4952990e-05, 4.6825397e-04, 1.6349947e-04, ..., 9.0082036e-04,\n",
       "        2.8080845e-04, 3.6516212e-04], dtype=float32),\n",
       " array([3.9960363e-05, 3.8022711e-04, 1.5212830e-04, ..., 6.3801615e-04,\n",
       "        2.0785870e-04, 2.5119708e-04], dtype=float32),\n",
       " array([2.8353094e-05, 3.2080620e-04, 8.6127533e-05, ..., 5.3920998e-04,\n",
       "        1.9537548e-04, 1.7119781e-04], dtype=float32),\n",
       " array([6.5786116e-05, 4.8082627e-04, 2.1368616e-04, ..., 1.0149006e-03,\n",
       "        1.9897851e-04, 3.5797819e-04], dtype=float32),\n",
       " array([2.9210023e-05, 3.0472918e-04, 1.2751090e-04, ..., 8.4984914e-04,\n",
       "        1.7152280e-04, 2.7849418e-04], dtype=float32),\n",
       " array([1.8311870e-05, 2.8742952e-04, 1.0072802e-04, ..., 5.9593166e-04,\n",
       "        1.2296984e-04, 2.0055908e-04], dtype=float32),\n",
       " array([3.01669497e-05, 3.52825213e-04, 1.16960495e-04, ...,\n",
       "        6.62212260e-04, 2.19776659e-04, 1.97496614e-04], dtype=float32),\n",
       " array([5.6983616e-05, 4.5655936e-04, 2.0936901e-04, ..., 9.1625872e-04,\n",
       "        2.5276808e-04, 3.4915723e-04], dtype=float32),\n",
       " array([3.0084240e-05, 5.4217724e-04, 1.5008636e-04, ..., 9.2484016e-04,\n",
       "        2.5760845e-04, 3.2280653e-04], dtype=float32),\n",
       " array([3.0914201e-05, 5.2132236e-04, 2.1741669e-04, ..., 7.3737901e-04,\n",
       "        2.2229740e-04, 2.9047942e-04], dtype=float32),\n",
       " array([3.6766909e-05, 3.3823715e-04, 1.2906863e-04, ..., 6.5150385e-04,\n",
       "        2.0245387e-04, 3.1770288e-04], dtype=float32),\n",
       " array([2.9735404e-05, 3.3467877e-04, 1.3576550e-04, ..., 5.4503657e-04,\n",
       "        1.5623750e-04, 2.0785969e-04], dtype=float32),\n",
       " array([4.6604393e-05, 4.0233295e-04, 1.8568693e-04, ..., 4.5892582e-04,\n",
       "        2.3852148e-04, 2.0980425e-04], dtype=float32),\n",
       " array([5.9102549e-05, 6.4121775e-04, 2.4152624e-04, ..., 9.7224890e-04,\n",
       "        3.0153347e-04, 3.9876639e-04], dtype=float32),\n",
       " array([2.1524096e-05, 3.4398306e-04, 1.2354999e-04, ..., 5.5406254e-04,\n",
       "        2.1141494e-04, 2.4245905e-04], dtype=float32),\n",
       " array([4.0792762e-05, 4.7645165e-04, 1.5338781e-04, ..., 9.6535939e-04,\n",
       "        3.0850773e-04, 3.9529093e-04], dtype=float32),\n",
       " array([3.9518865e-05, 5.1665748e-04, 2.1118124e-04, ..., 8.5578568e-04,\n",
       "        3.1096695e-04, 2.7167733e-04], dtype=float32),\n",
       " array([4.1474228e-05, 5.0712971e-04, 2.0433930e-04, ..., 8.6279475e-04,\n",
       "        1.8075212e-04, 2.3700669e-04], dtype=float32),\n",
       " array([2.55399755e-05, 3.93099006e-04, 1.06387466e-04, ...,\n",
       "        8.10759666e-04, 1.86977311e-04, 1.78071859e-04], dtype=float32),\n",
       " array([4.7470545e-05, 6.0646143e-04, 1.4202282e-04, ..., 9.9639315e-04,\n",
       "        2.8658044e-04, 2.9512760e-04], dtype=float32),\n",
       " array([3.7875525e-05, 3.1787707e-04, 1.1718946e-04, ..., 8.8856695e-04,\n",
       "        2.6072629e-04, 2.6189603e-04], dtype=float32),\n",
       " array([7.8060846e-05, 6.0743938e-04, 1.9203332e-04, ..., 1.4079169e-03,\n",
       "        3.8842548e-04, 3.7106691e-04], dtype=float32),\n",
       " array([2.9935194e-05, 2.3953701e-04, 9.4886389e-05, ..., 4.3659736e-04,\n",
       "        1.3643802e-04, 2.3417310e-04], dtype=float32),\n",
       " array([5.5432443e-05, 5.5585784e-04, 2.2974776e-04, ..., 1.1263936e-03,\n",
       "        2.5761485e-04, 3.1717084e-04], dtype=float32),\n",
       " array([4.7189398e-05, 7.4441015e-04, 2.1865196e-04, ..., 1.1168640e-03,\n",
       "        3.2471993e-04, 2.9036120e-04], dtype=float32),\n",
       " array([4.8482256e-05, 5.1101553e-04, 2.1478510e-04, ..., 6.9081853e-04,\n",
       "        2.8685437e-04, 3.0608752e-04], dtype=float32),\n",
       " array([6.5563785e-05, 6.2022754e-04, 2.1042211e-04, ..., 1.0763161e-03,\n",
       "        3.6961379e-04, 4.0668261e-04], dtype=float32),\n",
       " array([5.7308516e-05, 5.7126721e-04, 1.5601270e-04, ..., 1.3364167e-03,\n",
       "        3.3781177e-04, 3.6551946e-04], dtype=float32),\n",
       " array([5.1062743e-05, 5.8242411e-04, 2.2656244e-04, ..., 9.4912440e-04,\n",
       "        3.7274125e-04, 4.8016608e-04], dtype=float32),\n",
       " array([2.4363564e-05, 3.0622672e-04, 1.0273781e-04, ..., 4.7286274e-04,\n",
       "        1.3534979e-04, 1.8735279e-04], dtype=float32),\n",
       " array([3.4005712e-05, 2.9104273e-04, 1.7947868e-04, ..., 5.4161833e-04,\n",
       "        1.6679299e-04, 3.1627979e-04], dtype=float32),\n",
       " array([4.0887600e-05, 6.2260515e-04, 2.0555985e-04, ..., 1.1713225e-03,\n",
       "        2.7409405e-04, 3.4792296e-04], dtype=float32),\n",
       " array([6.7455796e-05, 4.9250125e-04, 1.9373377e-04, ..., 1.0008123e-03,\n",
       "        2.5592980e-04, 3.6795082e-04], dtype=float32),\n",
       " array([6.5685694e-05, 6.0817797e-04, 1.9389880e-04, ..., 7.6234259e-04,\n",
       "        4.6628257e-04, 3.8822190e-04], dtype=float32),\n",
       " array([3.8621489e-05, 4.1514123e-04, 1.3745514e-04, ..., 7.6773344e-04,\n",
       "        2.6299324e-04, 3.1802076e-04], dtype=float32),\n",
       " array([4.44687066e-05, 4.31100227e-04, 1.01193604e-04, ...,\n",
       "        9.30566981e-04, 2.60695000e-04, 3.54985357e-04], dtype=float32),\n",
       " array([4.9846032e-05, 4.5874238e-04, 1.7692757e-04, ..., 8.1513339e-04,\n",
       "        2.2542430e-04, 2.5347687e-04], dtype=float32),\n",
       " array([6.6357206e-05, 7.3835679e-04, 2.2766116e-04, ..., 1.2463850e-03,\n",
       "        3.1488706e-04, 3.2828085e-04], dtype=float32),\n",
       " array([3.5205889e-05, 3.3313423e-04, 1.1691054e-04, ..., 6.5441901e-04,\n",
       "        2.1101661e-04, 2.5977276e-04], dtype=float32),\n",
       " array([4.9536597e-05, 4.2099057e-04, 1.5810390e-04, ..., 7.4703316e-04,\n",
       "        2.2357832e-04, 4.1150939e-04], dtype=float32),\n",
       " array([7.3596042e-05, 5.6368473e-04, 2.7227114e-04, ..., 9.3622215e-04,\n",
       "        3.2890457e-04, 5.4865156e-04], dtype=float32),\n",
       " array([4.1002120e-05, 3.9872059e-04, 1.8869810e-04, ..., 6.7187403e-04,\n",
       "        2.2607886e-04, 2.7710156e-04], dtype=float32),\n",
       " array([6.8473062e-05, 4.6397987e-04, 1.8965612e-04, ..., 1.1793453e-03,\n",
       "        2.3834209e-04, 3.9065917e-04], dtype=float32),\n",
       " array([4.5896548e-05, 6.5250677e-04, 2.1630406e-04, ..., 9.3511894e-04,\n",
       "        3.2383821e-04, 3.1553407e-04], dtype=float32),\n",
       " array([5.2833901e-05, 5.0553295e-04, 1.9796929e-04, ..., 1.0703079e-03,\n",
       "        2.5667195e-04, 3.6100572e-04], dtype=float32),\n",
       " array([3.4740271e-05, 4.8182902e-04, 1.4359124e-04, ..., 1.0641954e-03,\n",
       "        2.0261762e-04, 2.4507559e-04], dtype=float32),\n",
       " array([3.9670733e-05, 3.9367541e-04, 1.3957112e-04, ..., 1.0375892e-03,\n",
       "        2.0817923e-04, 3.4068749e-04], dtype=float32),\n",
       " array([4.46381455e-05, 3.69065208e-04, 1.18269985e-04, ...,\n",
       "        7.99021916e-04, 2.34063511e-04, 3.08664836e-04], dtype=float32),\n",
       " array([6.1115119e-05, 5.6926592e-04, 2.1549198e-04, ..., 1.0127998e-03,\n",
       "        3.3315743e-04, 3.1995584e-04], dtype=float32),\n",
       " array([3.2646523e-05, 4.5696666e-04, 1.4662828e-04, ..., 7.4526836e-04,\n",
       "        2.8006462e-04, 2.1841338e-04], dtype=float32),\n",
       " array([3.9738054e-05, 5.0867262e-04, 1.5191175e-04, ..., 7.8184652e-04,\n",
       "        2.5659680e-04, 2.4334676e-04], dtype=float32),\n",
       " array([3.1221050e-05, 4.6133908e-04, 2.0122796e-04, ..., 7.1572640e-04,\n",
       "        2.0621413e-04, 2.6897914e-04], dtype=float32),\n",
       " array([3.0597846e-05, 3.3234499e-04, 1.2433853e-04, ..., 8.5102976e-04,\n",
       "        1.7607836e-04, 3.6858104e-04], dtype=float32),\n",
       " array([3.5086068e-05, 4.3849973e-04, 1.5268562e-04, ..., 7.2050665e-04,\n",
       "        1.7000463e-04, 2.6480251e-04], dtype=float32),\n",
       " array([4.1460426e-05, 3.7901619e-04, 1.4876782e-04, ..., 8.8908745e-04,\n",
       "        2.6164792e-04, 3.9328416e-04], dtype=float32),\n",
       " array([4.3087453e-05, 4.2953569e-04, 1.4366616e-04, ..., 8.1932487e-04,\n",
       "        2.5333746e-04, 3.6198497e-04], dtype=float32),\n",
       " array([3.8098238e-05, 4.2070934e-04, 1.3171553e-04, ..., 7.8630185e-04,\n",
       "        2.7050471e-04, 4.5851563e-04], dtype=float32),\n",
       " array([3.5485318e-05, 4.3381279e-04, 1.2278365e-04, ..., 9.4323047e-04,\n",
       "        1.5851374e-04, 3.3100712e-04], dtype=float32),\n",
       " array([8.4672130e-05, 6.7981664e-04, 2.1001100e-04, ..., 1.4645422e-03,\n",
       "        2.9486266e-04, 5.2438764e-04], dtype=float32),\n",
       " array([5.1136376e-05, 4.5987501e-04, 1.8433582e-04, ..., 8.1812456e-04,\n",
       "        2.9428271e-04, 3.9450510e-04], dtype=float32),\n",
       " array([6.6592009e-05, 5.4038537e-04, 2.0273784e-04, ..., 1.0150374e-03,\n",
       "        3.4386880e-04, 4.4200121e-04], dtype=float32),\n",
       " array([3.2069889e-05, 4.1056800e-04, 1.4534443e-04, ..., 7.3704001e-04,\n",
       "        2.4073053e-04, 2.3236779e-04], dtype=float32),\n",
       " array([4.3617791e-05, 5.1016186e-04, 1.6258440e-04, ..., 1.1467880e-03,\n",
       "        2.9621739e-04, 2.9692141e-04], dtype=float32),\n",
       " array([4.1653144e-05, 3.4676993e-04, 1.3190845e-04, ..., 5.9325987e-04,\n",
       "        2.3451383e-04, 3.6636123e-04], dtype=float32),\n",
       " array([2.1283749e-05, 2.7479243e-04, 1.0403480e-04, ..., 6.7605224e-04,\n",
       "        1.6479133e-04, 1.9817153e-04], dtype=float32),\n",
       " array([4.3479580e-05, 3.9754476e-04, 1.3829139e-04, ..., 1.0892039e-03,\n",
       "        2.1394996e-04, 2.7123088e-04], dtype=float32),\n",
       " array([7.4138501e-05, 5.2563468e-04, 1.9205657e-04, ..., 1.1575960e-03,\n",
       "        2.9499567e-04, 5.6955271e-04], dtype=float32),\n",
       " array([3.0238209e-05, 2.9521622e-04, 1.1527593e-04, ..., 7.6298066e-04,\n",
       "        1.4893970e-04, 1.9358493e-04], dtype=float32),\n",
       " array([7.7321762e-05, 6.2230468e-04, 2.6833135e-04, ..., 1.4498015e-03,\n",
       "        3.8634491e-04, 4.5904395e-04], dtype=float32),\n",
       " array([2.9329713e-05, 1.9585538e-04, 9.9292862e-05, ..., 7.4744615e-04,\n",
       "        1.3227561e-04, 2.5481905e-04], dtype=float32),\n",
       " array([4.9236496e-05, 4.2860661e-04, 1.7928284e-04, ..., 7.2144659e-04,\n",
       "        2.6145068e-04, 2.9018076e-04], dtype=float32),\n",
       " array([3.2479609e-05, 5.0750910e-04, 1.9406193e-04, ..., 8.0903288e-04,\n",
       "        2.0850741e-04, 2.4716737e-04], dtype=float32),\n",
       " array([4.6744241e-05, 3.3764448e-04, 1.5654200e-04, ..., 6.5218844e-04,\n",
       "        2.1624342e-04, 2.6929192e-04], dtype=float32),\n",
       " array([4.8425147e-05, 7.6103932e-04, 2.3795836e-04, ..., 1.1981661e-03,\n",
       "        3.4632027e-04, 3.0037027e-04], dtype=float32),\n",
       " array([3.8453283e-05, 3.8836591e-04, 1.2847495e-04, ..., 1.0017027e-03,\n",
       "        2.2216393e-04, 3.7461898e-04], dtype=float32),\n",
       " array([5.0744307e-05, 3.6841028e-04, 1.2895386e-04, ..., 6.6881551e-04,\n",
       "        2.8676877e-04, 4.1567086e-04], dtype=float32),\n",
       " array([4.0175066e-05, 4.2576337e-04, 1.7511495e-04, ..., 8.4124441e-04,\n",
       "        2.3901045e-04, 3.3404728e-04], dtype=float32),\n",
       " array([4.2053231e-05, 6.0540717e-04, 1.7156942e-04, ..., 9.0822484e-04,\n",
       "        2.5043543e-04, 2.7819694e-04], dtype=float32),\n",
       " array([5.9965932e-05, 6.9016614e-04, 2.9826767e-04, ..., 9.8397746e-04,\n",
       "        3.2591773e-04, 3.2029217e-04], dtype=float32),\n",
       " array([3.0250265e-05, 5.0322810e-04, 1.6741041e-04, ..., 7.4102625e-04,\n",
       "        1.7727358e-04, 1.7474266e-04], dtype=float32),\n",
       " array([5.4984201e-05, 6.2247488e-04, 2.2366637e-04, ..., 9.6905045e-04,\n",
       "        3.1492158e-04, 4.3896999e-04], dtype=float32),\n",
       " array([6.0072616e-05, 4.8727592e-04, 1.7957506e-04, ..., 8.8140962e-04,\n",
       "        2.5665137e-04, 4.1502327e-04], dtype=float32),\n",
       " array([3.9915270e-05, 3.9150586e-04, 1.6153041e-04, ..., 8.1158942e-04,\n",
       "        2.6302758e-04, 2.4454409e-04], dtype=float32),\n",
       " array([3.5526460e-05, 3.2199078e-04, 1.1189268e-04, ..., 1.1779318e-03,\n",
       "        2.4131217e-04, 2.7820811e-04], dtype=float32),\n",
       " array([3.7738879e-05, 5.5014133e-04, 1.6755765e-04, ..., 7.9291267e-04,\n",
       "        2.4584765e-04, 2.5043497e-04], dtype=float32),\n",
       " array([3.7447164e-05, 3.3482045e-04, 1.1004790e-04, ..., 9.0645911e-04,\n",
       "        1.7077960e-04, 1.9343474e-04], dtype=float32),\n",
       " array([6.5037842e-05, 5.5420463e-04, 2.1344566e-04, ..., 1.0090864e-03,\n",
       "        3.3058706e-04, 5.0013652e-04], dtype=float32),\n",
       " array([5.7777965e-05, 4.6923655e-04, 1.6693093e-04, ..., 1.0100834e-03,\n",
       "        2.8552228e-04, 3.7951319e-04], dtype=float32),\n",
       " array([7.3471994e-05, 7.5632799e-04, 2.0345743e-04, ..., 1.1613114e-03,\n",
       "        4.3288808e-04, 3.7287152e-04], dtype=float32),\n",
       " array([3.5851077e-05, 5.5467442e-04, 1.5837504e-04, ..., 7.6235714e-04,\n",
       "        2.7472171e-04, 2.4266510e-04], dtype=float32),\n",
       " array([3.1928175e-05, 3.6713408e-04, 1.4102274e-04, ..., 7.2738464e-04,\n",
       "        2.9833536e-04, 3.6496928e-04], dtype=float32),\n",
       " array([2.2746310e-05, 3.1207863e-04, 1.1728135e-04, ..., 5.8135204e-04,\n",
       "        1.6284554e-04, 1.3075097e-04], dtype=float32),\n",
       " array([4.7181969e-05, 4.0434097e-04, 1.4209651e-04, ..., 8.2136743e-04,\n",
       "        2.1179425e-04, 2.8442600e-04], dtype=float32),\n",
       " array([3.8312763e-05, 3.8980134e-04, 1.3004459e-04, ..., 8.9780329e-04,\n",
       "        1.7233263e-04, 2.8395673e-04], dtype=float32),\n",
       " array([1.7569351e-05, 1.9717769e-04, 6.7406610e-05, ..., 5.4135127e-04,\n",
       "        1.2903665e-04, 2.7414112e-04], dtype=float32),\n",
       " array([2.5924528e-05, 4.1696982e-04, 1.4180198e-04, ..., 5.6285900e-04,\n",
       "        1.9640819e-04, 2.0883408e-04], dtype=float32),\n",
       " array([2.19955054e-05, 3.41621722e-04, 1.12557245e-04, ...,\n",
       "        7.43356417e-04, 1.40797812e-04, 1.71436957e-04], dtype=float32),\n",
       " array([2.4614477e-05, 2.4628686e-04, 9.0443071e-05, ..., 5.1580672e-04,\n",
       "        1.6416637e-04, 2.2183351e-04], dtype=float32),\n",
       " array([6.6736124e-05, 4.3445113e-04, 1.5803639e-04, ..., 9.5783640e-04,\n",
       "        3.0289919e-04, 4.5424839e-04], dtype=float32),\n",
       " array([6.2722218e-05, 6.1161479e-04, 1.4770334e-04, ..., 1.1056419e-03,\n",
       "        3.7090867e-04, 3.7920396e-04], dtype=float32),\n",
       " array([7.0013833e-05, 7.6508813e-04, 2.3503452e-04, ..., 1.5020982e-03,\n",
       "        3.6661766e-04, 4.5705619e-04], dtype=float32),\n",
       " array([3.7844220e-05, 4.3060945e-04, 1.5093712e-04, ..., 8.5051707e-04,\n",
       "        2.8303478e-04, 3.0811268e-04], dtype=float32),\n",
       " array([5.3683423e-05, 5.2817643e-04, 1.6466678e-04, ..., 1.1519251e-03,\n",
       "        2.7214398e-04, 4.1451957e-04], dtype=float32),\n",
       " array([7.7659468e-05, 6.4552802e-04, 2.2201380e-04, ..., 1.0087183e-03,\n",
       "        4.2931954e-04, 4.5149698e-04], dtype=float32),\n",
       " array([4.5237623e-05, 4.3416093e-04, 2.0722073e-04, ..., 7.0631638e-04,\n",
       "        2.6720652e-04, 2.6073004e-04], dtype=float32),\n",
       " array([6.3313608e-05, 7.4674666e-04, 2.6519160e-04, ..., 9.3853084e-04,\n",
       "        4.5735014e-04, 4.4440833e-04], dtype=float32),\n",
       " array([2.9428838e-05, 4.1630911e-04, 1.2932908e-04, ..., 8.7344134e-04,\n",
       "        1.5235577e-04, 2.0877716e-04], dtype=float32),\n",
       " array([4.9348142e-05, 6.6521525e-04, 2.4364973e-04, ..., 8.4741233e-04,\n",
       "        3.2066155e-04, 2.5213358e-04], dtype=float32),\n",
       " array([3.8627386e-05, 4.0988286e-04, 1.4676551e-04, ..., 8.5490459e-04,\n",
       "        2.5221342e-04, 3.3675242e-04], dtype=float32),\n",
       " array([4.5057353e-05, 3.6840959e-04, 1.4357494e-04, ..., 8.0980459e-04,\n",
       "        1.5463401e-04, 2.3346151e-04], dtype=float32),\n",
       " array([3.7206144e-05, 4.6566207e-04, 1.6743947e-04, ..., 1.2420440e-03,\n",
       "        2.0492716e-04, 3.3671502e-04], dtype=float32),\n",
       " array([5.9224807e-05, 7.1697606e-04, 1.9064241e-04, ..., 1.1081558e-03,\n",
       "        2.9226035e-04, 3.8597014e-04], dtype=float32),\n",
       " array([2.99062631e-05, 4.74159955e-04, 1.17244446e-04, ...,\n",
       "        6.83026679e-04, 2.85410148e-04, 2.15783526e-04], dtype=float32),\n",
       " array([4.6513062e-05, 3.7092529e-04, 1.3717479e-04, ..., 8.4018486e-04,\n",
       "        2.1578908e-04, 3.3664505e-04], dtype=float32),\n",
       " array([6.5219945e-05, 6.1827427e-04, 1.8697180e-04, ..., 1.1032127e-03,\n",
       "        2.6832928e-04, 4.8028622e-04], dtype=float32),\n",
       " array([6.3354681e-05, 5.6717894e-04, 2.0002166e-04, ..., 1.2952511e-03,\n",
       "        3.0903349e-04, 4.2565909e-04], dtype=float32),\n",
       " array([5.8440764e-05, 5.6606316e-04, 2.2082058e-04, ..., 1.0051630e-03,\n",
       "        3.2160146e-04, 3.3354928e-04], dtype=float32),\n",
       " array([3.8608418e-05, 4.4442376e-04, 1.2752610e-04, ..., 7.2895677e-04,\n",
       "        2.0696265e-04, 1.9216555e-04], dtype=float32),\n",
       " array([2.6043666e-05, 2.9301114e-04, 1.3032452e-04, ..., 6.9320592e-04,\n",
       "        1.6170977e-04, 2.0941412e-04], dtype=float32),\n",
       " array([2.0000740e-05, 2.3959365e-04, 8.2257720e-05, ..., 3.2247492e-04,\n",
       "        9.2436203e-05, 1.0513932e-04], dtype=float32),\n",
       " array([2.9935596e-05, 4.2741848e-04, 1.7221847e-04, ..., 7.9414941e-04,\n",
       "        2.1670495e-04, 2.9958293e-04], dtype=float32),\n",
       " array([4.0810937e-05, 4.8648860e-04, 1.6631449e-04, ..., 7.7659334e-04,\n",
       "        2.0394418e-04, 3.0991479e-04], dtype=float32),\n",
       " array([4.4639972e-05, 4.3717684e-04, 1.6770534e-04, ..., 9.3213317e-04,\n",
       "        2.7527701e-04, 3.0673895e-04], dtype=float32),\n",
       " array([2.8807213e-05, 2.6975651e-04, 1.0363519e-04, ..., 5.5912416e-04,\n",
       "        1.2873222e-04, 1.6714260e-04], dtype=float32),\n",
       " array([3.63752952e-05, 4.07495623e-04, 1.08116146e-04, ...,\n",
       "        9.68015636e-04, 1.78532078e-04, 2.98748084e-04], dtype=float32),\n",
       " array([4.1371008e-05, 3.7379705e-04, 1.3435748e-04, ..., 8.9750782e-04,\n",
       "        1.9624794e-04, 3.5705179e-04], dtype=float32),\n",
       " array([5.6632194e-05, 4.9640535e-04, 1.5928494e-04, ..., 8.2839519e-04,\n",
       "        3.1875717e-04, 4.3490299e-04], dtype=float32),\n",
       " array([3.5168778e-05, 4.1804419e-04, 1.7527983e-04, ..., 6.4682349e-04,\n",
       "        1.8833915e-04, 2.5081084e-04], dtype=float32),\n",
       " array([0.00010147, 0.00084418, 0.00026136, ..., 0.00146047, 0.00053709,\n",
       "        0.00064142], dtype=float32),\n",
       " array([4.9345414e-05, 6.1441335e-04, 2.4267852e-04, ..., 1.0677563e-03,\n",
       "        3.1578535e-04, 3.8501449e-04], dtype=float32),\n",
       " array([3.2435284e-05, 2.7172576e-04, 8.9719542e-05, ..., 5.9964560e-04,\n",
       "        1.6524181e-04, 2.7793873e-04], dtype=float32),\n",
       " array([7.2046765e-05, 4.6522549e-04, 1.8631351e-04, ..., 9.9785370e-04,\n",
       "        3.0357568e-04, 4.6505945e-04], dtype=float32),\n",
       " array([1.8782082e-05, 3.5848567e-04, 1.1625486e-04, ..., 5.4437644e-04,\n",
       "        1.5275202e-04, 1.4212646e-04], dtype=float32),\n",
       " array([3.1754851e-05, 5.0540577e-04, 1.3127967e-04, ..., 6.3843344e-04,\n",
       "        2.4282178e-04, 3.1111226e-04], dtype=float32),\n",
       " array([3.6594320e-05, 3.5919331e-04, 1.2683206e-04, ..., 1.0432424e-03,\n",
       "        2.0310796e-04, 2.7393940e-04], dtype=float32),\n",
       " array([2.81076500e-05, 4.49531770e-04, 1.17645934e-04, ...,\n",
       "        7.25611870e-04, 1.91521685e-04, 2.23064941e-04], dtype=float32),\n",
       " array([2.8510818e-05, 2.7644556e-04, 1.0525347e-04, ..., 1.0080626e-03,\n",
       "        1.7674851e-04, 2.8528366e-04], dtype=float32),\n",
       " array([1.3518303e-05, 2.0468209e-04, 6.9845257e-05, ..., 3.4514148e-04,\n",
       "        8.9017922e-05, 1.3126239e-04], dtype=float32),\n",
       " array([3.9755076e-05, 3.3927930e-04, 1.4959757e-04, ..., 6.7030737e-04,\n",
       "        2.1214513e-04, 2.1407830e-04], dtype=float32),\n",
       " array([4.1663992e-05, 4.8973458e-04, 1.8874994e-04, ..., 8.1712456e-04,\n",
       "        1.9988917e-04, 3.3974426e-04], dtype=float32),\n",
       " array([8.0212587e-05, 4.6459996e-04, 1.7211915e-04, ..., 9.3075098e-04,\n",
       "        3.0706052e-04, 5.5176957e-04], dtype=float32),\n",
       " array([3.9149316e-05, 5.2644318e-04, 2.1810309e-04, ..., 7.7164976e-04,\n",
       "        2.7243057e-04, 2.8098599e-04], dtype=float32),\n",
       " array([5.1709972e-05, 4.8123440e-04, 2.0302237e-04, ..., 7.1120524e-04,\n",
       "        2.9733925e-04, 3.7072803e-04], dtype=float32),\n",
       " array([3.5066299e-05, 3.5306395e-04, 1.2139734e-04, ..., 8.0388557e-04,\n",
       "        1.8543161e-04, 3.1397995e-04], dtype=float32),\n",
       " array([4.3501892e-05, 6.4642815e-04, 2.5315830e-04, ..., 1.1960816e-03,\n",
       "        2.4898860e-04, 3.2893624e-04], dtype=float32),\n",
       " array([5.4020926e-05, 4.8994139e-04, 1.3740179e-04, ..., 1.3417477e-03,\n",
       "        2.3129465e-04, 2.7979293e-04], dtype=float32),\n",
       " array([3.8784590e-05, 4.3544229e-04, 1.4637489e-04, ..., 5.6726864e-04,\n",
       "        3.0201796e-04, 3.3365836e-04], dtype=float32),\n",
       " array([3.6874146e-05, 4.5741492e-04, 1.4572940e-04, ..., 9.3744008e-04,\n",
       "        2.2980780e-04, 3.5703054e-04], dtype=float32),\n",
       " array([5.9133723e-05, 6.8415178e-04, 2.3335447e-04, ..., 1.0715425e-03,\n",
       "        3.3433977e-04, 4.4132021e-04], dtype=float32),\n",
       " array([4.9816095e-05, 5.2221934e-04, 2.3609327e-04, ..., 8.5936714e-04,\n",
       "        3.3234403e-04, 3.2198709e-04], dtype=float32),\n",
       " array([4.2122341e-05, 4.4339805e-04, 1.6133460e-04, ..., 8.4363850e-04,\n",
       "        3.5245961e-04, 2.8891809e-04], dtype=float32),\n",
       " array([5.9927977e-05, 6.4593542e-04, 2.6049075e-04, ..., 1.3555507e-03,\n",
       "        3.2359007e-04, 4.6777775e-04], dtype=float32),\n",
       " array([4.0717365e-05, 4.1165456e-04, 1.5176609e-04, ..., 8.2223199e-04,\n",
       "        2.1627024e-04, 3.0683985e-04], dtype=float32),\n",
       " array([3.0524199e-05, 3.5767560e-04, 1.2022208e-04, ..., 6.3717848e-04,\n",
       "        1.6591692e-04, 2.0826003e-04], dtype=float32),\n",
       " array([3.4602992e-05, 2.8887871e-04, 1.0582249e-04, ..., 6.4851786e-04,\n",
       "        1.6513991e-04, 3.4763798e-04], dtype=float32),\n",
       " array([7.2591094e-05, 6.2804343e-04, 2.6294409e-04, ..., 1.0003113e-03,\n",
       "        3.6732946e-04, 4.2617961e-04], dtype=float32),\n",
       " array([3.7550726e-05, 3.5806181e-04, 1.7338437e-04, ..., 8.0911577e-04,\n",
       "        1.8908083e-04, 3.1377317e-04], dtype=float32),\n",
       " array([6.1452971e-05, 4.8670752e-04, 1.7727647e-04, ..., 1.0248394e-03,\n",
       "        2.8334366e-04, 3.8916178e-04], dtype=float32),\n",
       " array([4.1348092e-05, 4.5182568e-04, 1.5483687e-04, ..., 9.4229903e-04,\n",
       "        2.3036193e-04, 3.4632557e-04], dtype=float32),\n",
       " array([4.0411302e-05, 5.6996656e-04, 1.9321484e-04, ..., 8.9883263e-04,\n",
       "        2.3451875e-04, 2.7979986e-04], dtype=float32),\n",
       " array([4.098754e-05, 5.461289e-04, 1.868677e-04, ..., 9.912315e-04,\n",
       "        2.521247e-04, 3.432375e-04], dtype=float32),\n",
       " array([5.2648964e-05, 4.2863440e-04, 1.6615837e-04, ..., 7.7763275e-04,\n",
       "        3.3331756e-04, 3.8899764e-04], dtype=float32),\n",
       " array([5.3179596e-05, 5.4311234e-04, 1.7140884e-04, ..., 1.2146524e-03,\n",
       "        2.5425988e-04, 4.4592854e-04], dtype=float32),\n",
       " array([3.9244562e-05, 4.4894146e-04, 1.9828307e-04, ..., 1.1970322e-03,\n",
       "        2.1716102e-04, 3.5612256e-04], dtype=float32),\n",
       " array([2.2455688e-05, 3.1967656e-04, 1.2353939e-04, ..., 3.5592623e-04,\n",
       "        1.5887433e-04, 1.9219122e-04], dtype=float32),\n",
       " array([7.7499957e-05, 5.6188105e-04, 2.8000347e-04, ..., 1.1445786e-03,\n",
       "        3.6034160e-04, 5.5557553e-04], dtype=float32),\n",
       " array([3.6020469e-05, 3.8192747e-04, 1.2036856e-04, ..., 6.8496959e-04,\n",
       "        1.5968170e-04, 2.5550215e-04], dtype=float32),\n",
       " array([4.1358660e-05, 3.9936710e-04, 1.3632150e-04, ..., 9.9527265e-04,\n",
       "        2.2680752e-04, 3.6402050e-04], dtype=float32),\n",
       " array([5.7175599e-05, 5.3974293e-04, 1.6165983e-04, ..., 1.1054170e-03,\n",
       "        3.0840098e-04, 5.4655125e-04], dtype=float32),\n",
       " array([4.0572671e-05, 3.2001504e-04, 1.3750207e-04, ..., 4.5765608e-04,\n",
       "        2.4201884e-04, 2.2310216e-04], dtype=float32),\n",
       " array([3.6766418e-05, 3.8009594e-04, 1.5626790e-04, ..., 7.5929024e-04,\n",
       "        1.7682521e-04, 2.7711003e-04], dtype=float32),\n",
       " array([4.0730996e-05, 4.3971653e-04, 1.5763289e-04, ..., 8.8389433e-04,\n",
       "        2.0387942e-04, 3.0037228e-04], dtype=float32),\n",
       " array([3.6007557e-05, 4.9559993e-04, 1.5056926e-04, ..., 8.6510961e-04,\n",
       "        2.1049434e-04, 1.8261107e-04], dtype=float32),\n",
       " array([3.9752042e-05, 6.0354394e-04, 1.9606258e-04, ..., 9.2504243e-04,\n",
       "        1.8954909e-04, 2.5416343e-04], dtype=float32),\n",
       " array([1.8700674e-05, 2.2669921e-04, 7.2165094e-05, ..., 7.3225243e-04,\n",
       "        1.7462623e-04, 2.2364398e-04], dtype=float32),\n",
       " array([5.9002759e-05, 6.4869371e-04, 2.0626214e-04, ..., 8.5371127e-04,\n",
       "        2.2782966e-04, 2.6775480e-04], dtype=float32),\n",
       " array([3.2826592e-05, 3.9397820e-04, 1.6016341e-04, ..., 1.0917027e-03,\n",
       "        2.2607369e-04, 2.8256804e-04], dtype=float32),\n",
       " array([5.0292947e-05, 4.5876595e-04, 1.8130431e-04, ..., 7.1585365e-04,\n",
       "        2.1616717e-04, 2.8177685e-04], dtype=float32),\n",
       " array([5.4648292e-05, 3.7199346e-04, 1.2516338e-04, ..., 1.1292552e-03,\n",
       "        1.8816289e-04, 3.8145535e-04], dtype=float32),\n",
       " array([4.6259327e-05, 4.5087418e-04, 1.9518481e-04, ..., 8.7202387e-04,\n",
       "        2.3245443e-04, 3.4805335e-04], dtype=float32),\n",
       " array([6.5627406e-05, 5.0108996e-04, 2.2646676e-04, ..., 1.2543418e-03,\n",
       "        4.3510308e-04, 3.7728026e-04], dtype=float32),\n",
       " array([3.9685110e-05, 3.2926505e-04, 1.2552913e-04, ..., 8.5879624e-04,\n",
       "        1.9623109e-04, 3.2448629e-04], dtype=float32),\n",
       " array([5.0265568e-05, 8.1777386e-04, 2.9335075e-04, ..., 1.1957011e-03,\n",
       "        2.9615496e-04, 3.5041186e-04], dtype=float32),\n",
       " array([6.4003587e-05, 5.4644310e-04, 2.1195508e-04, ..., 1.0422171e-03,\n",
       "        3.0035479e-04, 4.0491862e-04], dtype=float32),\n",
       " array([6.0381266e-05, 5.3232774e-04, 1.9439361e-04, ..., 1.0724013e-03,\n",
       "        2.6458851e-04, 4.9050309e-04], dtype=float32),\n",
       " array([7.4062678e-05, 5.7669805e-04, 2.2309218e-04, ..., 9.5641694e-04,\n",
       "        3.4335270e-04, 4.5212856e-04], dtype=float32),\n",
       " array([5.2387928e-05, 4.4269403e-04, 1.5413055e-04, ..., 1.1100222e-03,\n",
       "        2.6530237e-04, 3.4375340e-04], dtype=float32),\n",
       " array([5.4672892e-05, 4.4222712e-04, 1.7294862e-04, ..., 6.9192058e-04,\n",
       "        2.2219040e-04, 2.8535057e-04], dtype=float32),\n",
       " array([5.9030728e-05, 4.7385748e-04, 2.0027815e-04, ..., 8.6192699e-04,\n",
       "        2.4882983e-04, 3.0750933e-04], dtype=float32),\n",
       " array([4.9089194e-05, 7.6786149e-04, 2.7167654e-04, ..., 1.0254541e-03,\n",
       "        2.9453504e-04, 3.2142826e-04], dtype=float32),\n",
       " array([5.6289598e-05, 5.4873759e-04, 1.8524429e-04, ..., 1.0859418e-03,\n",
       "        2.7442901e-04, 4.0937349e-04], dtype=float32),\n",
       " array([6.5819375e-05, 4.5497730e-04, 1.2304327e-04, ..., 7.8631460e-04,\n",
       "        2.3047991e-04, 3.1063714e-04], dtype=float32),\n",
       " array([4.0555457e-05, 5.1487685e-04, 1.3778753e-04, ..., 9.6580747e-04,\n",
       "        2.5486594e-04, 2.0890080e-04], dtype=float32),\n",
       " array([3.6537131e-05, 6.1259198e-04, 1.9386072e-04, ..., 9.0907153e-04,\n",
       "        2.0823759e-04, 2.9508257e-04], dtype=float32),\n",
       " array([4.4753826e-05, 5.4899702e-04, 2.1377968e-04, ..., 7.3084631e-04,\n",
       "        2.8539411e-04, 3.1166355e-04], dtype=float32),\n",
       " array([3.6406982e-05, 5.0081924e-04, 1.2839706e-04, ..., 9.1470388e-04,\n",
       "        2.6764686e-04, 2.2950978e-04], dtype=float32),\n",
       " array([4.1483680e-05, 3.5503408e-04, 1.3023309e-04, ..., 9.1915159e-04,\n",
       "        1.6964936e-04, 2.7274556e-04], dtype=float32),\n",
       " array([3.9888899e-05, 4.1668888e-04, 1.6702503e-04, ..., 5.0458743e-04,\n",
       "        1.8680053e-04, 3.1884652e-04], dtype=float32),\n",
       " array([4.09624154e-05, 2.44844385e-04, 1.01330435e-04, ...,\n",
       "        7.31430831e-04, 2.07022444e-04, 2.32285849e-04], dtype=float32),\n",
       " array([4.6699817e-05, 4.9796287e-04, 1.7532428e-04, ..., 1.0751887e-03,\n",
       "        2.6573526e-04, 3.5737531e-04], dtype=float32),\n",
       " array([3.4787216e-05, 5.7334633e-04, 1.6316680e-04, ..., 1.0438114e-03,\n",
       "        2.3528293e-04, 2.1780033e-04], dtype=float32),\n",
       " array([4.6307439e-05, 5.7481194e-04, 2.0913877e-04, ..., 8.3753199e-04,\n",
       "        3.5663729e-04, 3.5367688e-04], dtype=float32),\n",
       " array([3.91874528e-05, 4.12524096e-04, 1.15791074e-04, ...,\n",
       "        1.07280235e-03, 2.18950692e-04, 2.48682307e-04], dtype=float32),\n",
       " array([3.6313464e-05, 5.4169475e-04, 1.6463036e-04, ..., 1.4857096e-03,\n",
       "        1.6845491e-04, 2.6091357e-04], dtype=float32),\n",
       " array([5.2051448e-05, 3.8991449e-04, 1.3188369e-04, ..., 1.1350006e-03,\n",
       "        2.2104345e-04, 4.1066215e-04], dtype=float32),\n",
       " array([3.0499785e-05, 4.1436704e-04, 1.2747016e-04, ..., 9.2819473e-04,\n",
       "        1.4853210e-04, 2.0697943e-04], dtype=float32),\n",
       " array([3.6302245e-05, 4.3548088e-04, 1.5614337e-04, ..., 1.1960992e-03,\n",
       "        2.0668007e-04, 3.3484824e-04], dtype=float32),\n",
       " array([5.3685722e-05, 6.2281225e-04, 2.1202420e-04, ..., 9.4357075e-04,\n",
       "        2.2248125e-04, 3.5414402e-04], dtype=float32),\n",
       " array([3.2982924e-05, 3.2821295e-04, 1.1738463e-04, ..., 6.7815266e-04,\n",
       "        2.4929835e-04, 3.6908066e-04], dtype=float32),\n",
       " array([3.5015506e-05, 4.8870093e-04, 1.4162956e-04, ..., 8.3025231e-04,\n",
       "        2.3398029e-04, 3.3876378e-04], dtype=float32),\n",
       " array([4.5709734e-05, 6.4192427e-04, 1.6239462e-04, ..., 9.8887435e-04,\n",
       "        3.6336831e-04, 2.7021675e-04], dtype=float32),\n",
       " array([5.0292660e-05, 5.4395112e-04, 1.9920630e-04, ..., 9.7144797e-04,\n",
       "        3.2305683e-04, 3.4415544e-04], dtype=float32),\n",
       " array([2.3486025e-05, 2.6504070e-04, 9.5084572e-05, ..., 5.6319579e-04,\n",
       "        1.8483477e-04, 3.5490107e-04], dtype=float32),\n",
       " array([4.2390802e-05, 4.5371306e-04, 1.6632925e-04, ..., 8.4786909e-04,\n",
       "        2.2643653e-04, 2.6273809e-04], dtype=float32),\n",
       " array([4.0499686e-05, 4.6407167e-04, 1.4266021e-04, ..., 8.2154863e-04,\n",
       "        2.1071926e-04, 2.7243578e-04], dtype=float32),\n",
       " array([3.2151562e-05, 5.3422264e-04, 1.6791704e-04, ..., 5.8310007e-04,\n",
       "        1.8777415e-04, 2.0082066e-04], dtype=float32),\n",
       " array([5.0807688e-05, 5.7503959e-04, 1.8048879e-04, ..., 9.1233989e-04,\n",
       "        2.5935995e-04, 2.9517882e-04], dtype=float32),\n",
       " array([3.1755182e-05, 4.9044908e-04, 1.4757903e-04, ..., 8.0728665e-04,\n",
       "        2.5831582e-04, 1.6991209e-04], dtype=float32),\n",
       " array([4.5809753e-05, 4.6369783e-04, 1.6553861e-04, ..., 9.1694423e-04,\n",
       "        2.7851222e-04, 3.4923360e-04], dtype=float32),\n",
       " array([5.9383554e-05, 5.3563068e-04, 2.3032307e-04, ..., 8.1827427e-04,\n",
       "        3.4917649e-04, 4.1686129e-04], dtype=float32),\n",
       " array([4.7003679e-05, 4.7400384e-04, 1.7014588e-04, ..., 7.0753577e-04,\n",
       "        2.7773820e-04, 2.7867718e-04], dtype=float32),\n",
       " array([4.9561688e-05, 5.8923522e-04, 1.3876785e-04, ..., 1.0165825e-03,\n",
       "        3.2909404e-04, 3.6719884e-04], dtype=float32),\n",
       " array([8.4489693e-05, 8.3290681e-04, 2.5913207e-04, ..., 1.3986257e-03,\n",
       "        4.4727451e-04, 3.2392342e-04], dtype=float32),\n",
       " array([5.6012224e-05, 7.7310897e-04, 2.8143989e-04, ..., 1.2627941e-03,\n",
       "        3.4564146e-04, 3.8606086e-04], dtype=float32),\n",
       " array([3.6814519e-05, 3.5624750e-04, 1.2205815e-04, ..., 7.5613306e-04,\n",
       "        2.6185607e-04, 2.5858020e-04], dtype=float32),\n",
       " array([2.38600769e-05, 2.85004731e-04, 1.07980966e-04, ...,\n",
       "        5.95212157e-04, 2.08328944e-04, 1.91150059e-04], dtype=float32),\n",
       " array([5.2991330e-05, 4.6054419e-04, 1.7724113e-04, ..., 8.6551032e-04,\n",
       "        2.1533095e-04, 3.3652550e-04], dtype=float32),\n",
       " array([4.5059547e-05, 5.1224668e-04, 2.0112628e-04, ..., 8.0252701e-04,\n",
       "        3.1813752e-04, 3.1879058e-04], dtype=float32),\n",
       " array([4.1877898e-05, 3.1597840e-04, 9.8494493e-05, ..., 6.7083369e-04,\n",
       "        1.9778665e-04, 2.6512437e-04], dtype=float32),\n",
       " array([3.2051823e-05, 5.5244443e-04, 1.5017854e-04, ..., 6.5580069e-04,\n",
       "        2.4247475e-04, 2.2260008e-04], dtype=float32),\n",
       " array([3.8638107e-05, 4.3736966e-04, 1.4800334e-04, ..., 6.7126181e-04,\n",
       "        2.2977975e-04, 2.0496742e-04], dtype=float32),\n",
       " array([2.6451162e-05, 2.9851490e-04, 1.0920450e-04, ..., 8.1717799e-04,\n",
       "        1.9284268e-04, 2.7126528e-04], dtype=float32),\n",
       " array([3.6495414e-05, 4.4488217e-04, 1.3576537e-04, ..., 6.9270440e-04,\n",
       "        1.5138554e-04, 2.4719612e-04], dtype=float32),\n",
       " array([4.1966694e-05, 3.8181170e-04, 1.3121085e-04, ..., 9.7345887e-04,\n",
       "        2.4923537e-04, 3.5101335e-04], dtype=float32),\n",
       " array([5.4035969e-05, 5.6999287e-04, 2.0020371e-04, ..., 9.6007471e-04,\n",
       "        2.4731798e-04, 3.4580397e-04], dtype=float32),\n",
       " array([5.1213381e-05, 5.9955387e-04, 2.0937641e-04, ..., 7.3108624e-04,\n",
       "        2.3388193e-04, 2.4918761e-04], dtype=float32),\n",
       " array([4.1458254e-05, 3.7243738e-04, 1.2823445e-04, ..., 6.4363930e-04,\n",
       "        1.6932290e-04, 2.3764005e-04], dtype=float32),\n",
       " array([5.2178722e-05, 5.4231158e-04, 1.6960019e-04, ..., 6.9929450e-04,\n",
       "        2.8819317e-04, 2.9434415e-04], dtype=float32),\n",
       " array([2.7608210e-05, 3.7672391e-04, 1.2943248e-04, ..., 6.5876020e-04,\n",
       "        1.6184908e-04, 1.8571614e-04], dtype=float32),\n",
       " array([0.00012183, 0.00083783, 0.00029703, ..., 0.00199266, 0.00046533,\n",
       "        0.00081067], dtype=float32),\n",
       " array([3.4298799e-05, 4.2304912e-04, 1.5252380e-04, ..., 7.8798615e-04,\n",
       "        1.5748387e-04, 2.2202606e-04], dtype=float32),\n",
       " array([3.5248151e-05, 4.2646835e-04, 1.5181284e-04, ..., 7.6657179e-04,\n",
       "        1.9425557e-04, 2.3223867e-04], dtype=float32),\n",
       " array([3.2456170e-05, 3.5712821e-04, 1.1532420e-04, ..., 5.1969802e-04,\n",
       "        1.9057644e-04, 2.0956554e-04], dtype=float32),\n",
       " array([8.3368031e-05, 5.5921712e-04, 1.7869897e-04, ..., 1.4661358e-03,\n",
       "        3.0171176e-04, 5.3092436e-04], dtype=float32),\n",
       " array([2.5864791e-05, 4.7835792e-04, 1.6559055e-04, ..., 6.8174879e-04,\n",
       "        1.9380564e-04, 2.3273143e-04], dtype=float32),\n",
       " array([4.3454209e-05, 5.7536719e-04, 1.6797133e-04, ..., 1.0510784e-03,\n",
       "        1.7954184e-04, 2.1134481e-04], dtype=float32),\n",
       " array([5.2037503e-05, 7.0162793e-04, 1.9703523e-04, ..., 1.2673392e-03,\n",
       "        3.1258602e-04, 3.6861742e-04], dtype=float32),\n",
       " array([4.2754848e-05, 4.8555393e-04, 2.0159091e-04, ..., 7.9594640e-04,\n",
       "        2.2156570e-04, 2.8742405e-04], dtype=float32),\n",
       " array([6.4773303e-05, 4.9909716e-04, 1.7486334e-04, ..., 1.0400658e-03,\n",
       "        3.2157908e-04, 5.6963938e-04], dtype=float32),\n",
       " array([3.0669507e-05, 3.6778866e-04, 1.4203596e-04, ..., 6.9759780e-04,\n",
       "        2.2275443e-04, 2.7381640e-04], dtype=float32),\n",
       " array([8.4176856e-05, 5.5745861e-04, 2.0228213e-04, ..., 1.2890705e-03,\n",
       "        4.0093795e-04, 5.5728701e-04], dtype=float32),\n",
       " array([3.907904e-05, 3.629046e-04, 1.540283e-04, ..., 8.227160e-04,\n",
       "        2.820174e-04, 2.898697e-04], dtype=float32),\n",
       " array([2.8390270e-05, 4.2444840e-04, 1.1780231e-04, ..., 7.0719502e-04,\n",
       "        1.8179040e-04, 1.8242105e-04], dtype=float32),\n",
       " array([4.2344986e-05, 3.4463414e-04, 1.2979101e-04, ..., 9.2942611e-04,\n",
       "        2.7411836e-04, 3.0599561e-04], dtype=float32),\n",
       " array([8.7269254e-05, 7.5056677e-04, 2.7578507e-04, ..., 1.2308201e-03,\n",
       "        4.1302422e-04, 4.3824519e-04], dtype=float32),\n",
       " array([6.4823354e-05, 6.6011929e-04, 2.0385726e-04, ..., 1.3148962e-03,\n",
       "        3.0261604e-04, 4.0373491e-04], dtype=float32),\n",
       " array([6.1852996e-05, 4.4959542e-04, 2.0415855e-04, ..., 1.1080829e-03,\n",
       "        2.7537966e-04, 3.9302165e-04], dtype=float32),\n",
       " array([5.9412723e-05, 5.1891373e-04, 2.0267424e-04, ..., 7.8912009e-04,\n",
       "        3.5053500e-04, 3.5743992e-04], dtype=float32),\n",
       " array([5.1485109e-05, 4.2665724e-04, 1.7770988e-04, ..., 8.1294816e-04,\n",
       "        2.1923709e-04, 2.9668995e-04], dtype=float32),\n",
       " array([3.7880796e-05, 4.4965564e-04, 1.6048031e-04, ..., 1.0073876e-03,\n",
       "        2.2254851e-04, 2.1775920e-04], dtype=float32),\n",
       " array([5.1706324e-05, 3.9503499e-04, 1.2791874e-04, ..., 1.1694256e-03,\n",
       "        2.3924644e-04, 4.0719277e-04], dtype=float32),\n",
       " array([5.2912608e-05, 5.1812961e-04, 2.4837570e-04, ..., 1.2862766e-03,\n",
       "        3.9922091e-04, 4.9987010e-04], dtype=float32),\n",
       " array([4.4025233e-05, 4.5590397e-04, 1.3365010e-04, ..., 6.3284492e-04,\n",
       "        2.6743615e-04, 2.5529275e-04], dtype=float32),\n",
       " array([5.1976993e-05, 3.2669667e-04, 1.4199385e-04, ..., 7.6777150e-04,\n",
       "        2.0322129e-04, 3.9216963e-04], dtype=float32),\n",
       " array([3.8814487e-05, 3.0817642e-04, 1.1582255e-04, ..., 3.8876076e-04,\n",
       "        1.8469788e-04, 2.4079251e-04], dtype=float32),\n",
       " array([3.0350215e-05, 3.8383168e-04, 1.6405087e-04, ..., 4.0384309e-04,\n",
       "        1.9562583e-04, 1.5365350e-04], dtype=float32),\n",
       " array([3.3441218e-05, 3.2154567e-04, 1.2572091e-04, ..., 6.1137904e-04,\n",
       "        1.6899273e-04, 1.9361595e-04], dtype=float32),\n",
       " array([2.4969208e-05, 2.8296353e-04, 9.8151060e-05, ..., 8.3333394e-04,\n",
       "        1.6529398e-04, 1.6179275e-04], dtype=float32),\n",
       " array([5.0205686e-05, 4.8315892e-04, 1.6574535e-04, ..., 1.1262594e-03,\n",
       "        2.5799708e-04, 3.9510071e-04], dtype=float32),\n",
       " array([6.7210778e-05, 6.5620552e-04, 1.9500084e-04, ..., 8.0518931e-04,\n",
       "        3.7282423e-04, 4.0944625e-04], dtype=float32),\n",
       " array([6.0883951e-05, 4.3395732e-04, 1.5870853e-04, ..., 1.0259437e-03,\n",
       "        1.7876766e-04, 4.4615733e-04], dtype=float32),\n",
       " array([5.4726675e-05, 4.9592508e-04, 1.9183072e-04, ..., 8.9173915e-04,\n",
       "        3.2577605e-04, 3.9852259e-04], dtype=float32),\n",
       " array([3.6215315e-05, 4.9747614e-04, 1.4711692e-04, ..., 7.8353361e-04,\n",
       "        2.4379588e-04, 1.8824777e-04], dtype=float32),\n",
       " array([8.1805738e-05, 6.7002891e-04, 2.5975538e-04, ..., 1.1166284e-03,\n",
       "        3.3399762e-04, 3.9383062e-04], dtype=float32),\n",
       " array([2.7417174e-05, 2.5162639e-04, 8.0380509e-05, ..., 5.0117646e-04,\n",
       "        1.5868660e-04, 2.0728793e-04], dtype=float32),\n",
       " array([4.9624919e-05, 5.4496230e-04, 1.8164483e-04, ..., 1.1214110e-03,\n",
       "        2.7959721e-04, 3.5349437e-04], dtype=float32),\n",
       " array([2.9084966e-05, 3.0998187e-04, 1.4548864e-04, ..., 5.7829893e-04,\n",
       "        1.2642948e-04, 1.6543274e-04], dtype=float32),\n",
       " array([5.1961928e-05, 4.9981865e-04, 1.4240212e-04, ..., 1.0629583e-03,\n",
       "        3.4453903e-04, 4.2755238e-04], dtype=float32),\n",
       " array([3.7023725e-05, 4.1542901e-04, 1.6535357e-04, ..., 8.3662465e-04,\n",
       "        2.7884007e-04, 3.9802256e-04], dtype=float32),\n",
       " array([5.8375597e-05, 6.8331516e-04, 2.3667452e-04, ..., 9.3203504e-04,\n",
       "        3.9633748e-04, 4.2310078e-04], dtype=float32),\n",
       " array([7.0631453e-05, 4.6277404e-04, 2.0073584e-04, ..., 1.0316392e-03,\n",
       "        2.9737441e-04, 5.7830801e-04], dtype=float32),\n",
       " array([3.3472614e-05, 3.9785868e-04, 1.3989996e-04, ..., 8.7335100e-04,\n",
       "        2.2675132e-04, 2.3190609e-04], dtype=float32),\n",
       " array([5.76297789e-05, 4.16252966e-04, 1.20356744e-04, ...,\n",
       "        1.09097653e-03, 2.71098776e-04, 3.71959788e-04], dtype=float32),\n",
       " array([5.1614003e-05, 5.4363388e-04, 2.2599868e-04, ..., 9.9440920e-04,\n",
       "        2.7184808e-04, 4.1487417e-04], dtype=float32),\n",
       " array([0.00010009, 0.00066705, 0.00021256, ..., 0.0016673 , 0.00044289,\n",
       "        0.00059441], dtype=float32),\n",
       " array([5.5803655e-05, 5.6559342e-04, 2.0311822e-04, ..., 1.0661087e-03,\n",
       "        3.6665160e-04, 3.7539905e-04], dtype=float32),\n",
       " array([4.6801113e-05, 5.6786265e-04, 2.2231162e-04, ..., 7.0314744e-04,\n",
       "        2.7218473e-04, 3.2335878e-04], dtype=float32),\n",
       " array([4.2050342e-05, 4.5217425e-04, 1.4567062e-04, ..., 7.6387299e-04,\n",
       "        2.4984256e-04, 2.6283582e-04], dtype=float32),\n",
       " array([2.88973533e-05, 3.68909183e-04, 1.20408964e-04, ...,\n",
       "        4.79975046e-04, 1.40718359e-04, 2.01955670e-04], dtype=float32),\n",
       " array([3.8739345e-05, 4.0288927e-04, 1.3656584e-04, ..., 9.3286618e-04,\n",
       "        2.5447283e-04, 2.8435362e-04], dtype=float32),\n",
       " array([3.6771715e-05, 5.0875969e-04, 1.3271807e-04, ..., 6.6362048e-04,\n",
       "        1.6115687e-04, 3.0260158e-04], dtype=float32),\n",
       " array([5.5108085e-05, 4.9402675e-04, 2.1318572e-04, ..., 7.4878143e-04,\n",
       "        2.1123725e-04, 2.6337086e-04], dtype=float32),\n",
       " array([4.0221334e-05, 4.8422790e-04, 1.2214349e-04, ..., 9.5424382e-04,\n",
       "        2.1092508e-04, 2.7509677e-04], dtype=float32),\n",
       " array([5.5742708e-05, 4.2007116e-04, 1.7363981e-04, ..., 9.3873474e-04,\n",
       "        1.9578704e-04, 3.7677705e-04], dtype=float32),\n",
       " array([3.6237045e-05, 3.5319134e-04, 1.1491409e-04, ..., 8.9981291e-04,\n",
       "        2.3202618e-04, 3.2562795e-04], dtype=float32),\n",
       " array([2.6863390e-05, 3.9327424e-04, 1.0277976e-04, ..., 5.6077732e-04,\n",
       "        1.4767503e-04, 2.3685826e-04], dtype=float32),\n",
       " array([2.9824323e-05, 3.3866175e-04, 1.6986414e-04, ..., 9.1843156e-04,\n",
       "        1.5828673e-04, 2.5075607e-04], dtype=float32),\n",
       " array([3.5935518e-05, 4.2338076e-04, 2.0106071e-04, ..., 6.4185698e-04,\n",
       "        1.6374441e-04, 2.2307876e-04], dtype=float32),\n",
       " array([4.3444848e-05, 6.4944377e-04, 1.7287805e-04, ..., 9.3834440e-04,\n",
       "        2.6296513e-04, 2.1451415e-04], dtype=float32),\n",
       " array([3.6759619e-05, 5.5496872e-04, 1.6528263e-04, ..., 8.7903813e-04,\n",
       "        2.7376917e-04, 4.0568842e-04], dtype=float32),\n",
       " array([3.9161489e-05, 3.4802879e-04, 1.0936050e-04, ..., 1.2261437e-03,\n",
       "        1.8335014e-04, 3.1670218e-04], dtype=float32),\n",
       " array([0.00012071, 0.00058183, 0.00021556, ..., 0.00104512, 0.00038706,\n",
       "        0.00071316], dtype=float32),\n",
       " array([5.1319326e-05, 4.8392726e-04, 1.5169433e-04, ..., 1.0023338e-03,\n",
       "        2.6596009e-04, 3.6024902e-04], dtype=float32),\n",
       " array([6.7488611e-05, 6.8224699e-04, 2.0238342e-04, ..., 1.2303559e-03,\n",
       "        2.8992942e-04, 3.6560098e-04], dtype=float32),\n",
       " array([4.9260168e-05, 3.9750859e-04, 1.5097411e-04, ..., 8.9553290e-04,\n",
       "        2.1164348e-04, 3.4756743e-04], dtype=float32),\n",
       " array([7.0458234e-05, 5.1466707e-04, 2.3001934e-04, ..., 9.4890472e-04,\n",
       "        2.9361236e-04, 5.1234849e-04], dtype=float32),\n",
       " array([5.9521546e-05, 5.1825901e-04, 1.9373506e-04, ..., 9.3300221e-04,\n",
       "        2.9249283e-04, 3.3452312e-04], dtype=float32),\n",
       " array([2.3276851e-05, 4.0081490e-04, 1.5074151e-04, ..., 6.0149870e-04,\n",
       "        1.8136794e-04, 1.5887691e-04], dtype=float32),\n",
       " array([6.0884529e-05, 4.9760321e-04, 1.7470484e-04, ..., 7.5182097e-04,\n",
       "        2.8608361e-04, 3.8009917e-04], dtype=float32),\n",
       " array([1.7561495e-05, 2.6207810e-04, 9.3144597e-05, ..., 3.4312528e-04,\n",
       "        1.4583991e-04, 1.3036218e-04], dtype=float32),\n",
       " array([6.8073052e-05, 6.9904263e-04, 2.2113304e-04, ..., 1.4764653e-03,\n",
       "        2.6260084e-04, 4.0734027e-04], dtype=float32),\n",
       " array([6.7394336e-05, 8.5111288e-04, 2.4123900e-04, ..., 9.9350722e-04,\n",
       "        4.9422338e-04, 4.1020400e-04], dtype=float32),\n",
       " array([2.48622837e-05, 2.84224341e-04, 9.08431030e-05, ...,\n",
       "        5.87040035e-04, 1.21820354e-04, 2.42434544e-04], dtype=float32),\n",
       " array([7.6016964e-05, 7.7957113e-04, 2.5844909e-04, ..., 1.6043100e-03,\n",
       "        3.9267089e-04, 5.0116208e-04], dtype=float32),\n",
       " array([3.0345644e-05, 3.6205832e-04, 1.2728568e-04, ..., 4.9349252e-04,\n",
       "        2.1818109e-04, 1.3997922e-04], dtype=float32),\n",
       " array([5.3057469e-05, 4.9767108e-04, 1.9470655e-04, ..., 7.2378275e-04,\n",
       "        2.3528181e-04, 2.3063135e-04], dtype=float32),\n",
       " array([3.4090750e-05, 4.0155914e-04, 1.5295389e-04, ..., 8.0035126e-04,\n",
       "        1.9569615e-04, 1.9980817e-04], dtype=float32),\n",
       " array([7.6327124e-05, 6.1675813e-04, 1.9594542e-04, ..., 1.1515493e-03,\n",
       "        4.3000581e-04, 3.8472738e-04], dtype=float32),\n",
       " array([4.1908101e-05, 4.0297493e-04, 1.2684609e-04, ..., 1.1662935e-03,\n",
       "        2.2824560e-04, 3.7570854e-04], dtype=float32),\n",
       " array([4.8693728e-05, 4.0539424e-04, 1.4720786e-04, ..., 8.3065504e-04,\n",
       "        2.9613945e-04, 2.2711417e-04], dtype=float32),\n",
       " array([2.4314890e-05, 3.2621986e-04, 1.0153258e-04, ..., 6.0288975e-04,\n",
       "        1.2442951e-04, 2.2014219e-04], dtype=float32),\n",
       " array([5.2617743e-05, 4.3543792e-04, 1.7954064e-04, ..., 8.9439441e-04,\n",
       "        2.1601161e-04, 2.9136258e-04], dtype=float32),\n",
       " array([3.2682627e-05, 5.0883071e-04, 1.4570869e-04, ..., 1.1347660e-03,\n",
       "        1.9747308e-04, 2.6111040e-04], dtype=float32),\n",
       " array([6.1738618e-05, 5.1380269e-04, 1.7542145e-04, ..., 1.0413284e-03,\n",
       "        2.7179133e-04, 3.3069108e-04], dtype=float32),\n",
       " array([2.9678857e-05, 4.4005804e-04, 1.7382650e-04, ..., 6.5113045e-04,\n",
       "        2.3183756e-04, 2.3366437e-04], dtype=float32),\n",
       " array([3.4428111e-05, 3.8195733e-04, 1.3937429e-04, ..., 1.1962019e-03,\n",
       "        2.2375297e-04, 3.9743981e-04], dtype=float32),\n",
       " array([3.7061098e-05, 4.6032848e-04, 1.6467823e-04, ..., 7.0458691e-04,\n",
       "        1.5600273e-04, 1.8777307e-04], dtype=float32),\n",
       " array([3.0692594e-05, 4.5423841e-04, 1.5445937e-04, ..., 9.0423867e-04,\n",
       "        1.6591328e-04, 2.5701549e-04], dtype=float32),\n",
       " array([5.6433211e-05, 5.9860462e-04, 2.1244328e-04, ..., 9.6888992e-04,\n",
       "        2.6022192e-04, 4.6285722e-04], dtype=float32),\n",
       " array([4.6338537e-05, 4.2197676e-04, 1.3407324e-04, ..., 6.6195132e-04,\n",
       "        2.6321324e-04, 2.8503136e-04], dtype=float32),\n",
       " array([7.3823292e-05, 8.1343908e-04, 2.5031655e-04, ..., 1.5809130e-03,\n",
       "        3.1383001e-04, 3.7408739e-04], dtype=float32),\n",
       " array([3.6647754e-05, 4.5148080e-04, 1.2329954e-04, ..., 7.3981541e-04,\n",
       "        1.9829535e-04, 2.0475432e-04], dtype=float32),\n",
       " array([4.0571045e-05, 4.7847739e-04, 1.8668783e-04, ..., 6.2651775e-04,\n",
       "        2.6427160e-04, 2.8870496e-04], dtype=float32),\n",
       " array([3.6228925e-05, 4.5412889e-04, 1.6608804e-04, ..., 7.6738198e-04,\n",
       "        1.6284878e-04, 2.3537427e-04], dtype=float32),\n",
       " array([4.7390389e-05, 5.5619725e-04, 1.8089885e-04, ..., 1.4512256e-03,\n",
       "        3.0430997e-04, 3.7538400e-04], dtype=float32),\n",
       " array([5.6597099e-05, 6.3408888e-04, 1.8457396e-04, ..., 1.3271733e-03,\n",
       "        2.8945849e-04, 4.5606587e-04], dtype=float32),\n",
       " array([4.1609714e-05, 4.3700641e-04, 1.8594506e-04, ..., 7.2106713e-04,\n",
       "        2.4626713e-04, 3.1123954e-04], dtype=float32),\n",
       " array([3.0942989e-05, 5.8691780e-04, 1.4643979e-04, ..., 6.9116428e-04,\n",
       "        2.1276335e-04, 3.3074876e-04], dtype=float32),\n",
       " array([6.0835959e-05, 6.1174890e-04, 2.0150117e-04, ..., 1.2705293e-03,\n",
       "        3.1834535e-04, 4.4148663e-04], dtype=float32),\n",
       " array([4.1089999e-05, 3.7288322e-04, 1.3146921e-04, ..., 9.4068341e-04,\n",
       "        2.7507788e-04, 3.1052582e-04], dtype=float32),\n",
       " array([3.8644001e-05, 5.5220333e-04, 2.0216375e-04, ..., 7.1861024e-04,\n",
       "        2.8319971e-04, 3.4079078e-04], dtype=float32),\n",
       " array([3.6967838e-05, 3.9690992e-04, 1.4546464e-04, ..., 8.7030564e-04,\n",
       "        1.8372921e-04, 2.3384893e-04], dtype=float32),\n",
       " array([2.4624669e-05, 3.6066637e-04, 1.4730460e-04, ..., 9.1504777e-04,\n",
       "        2.1107175e-04, 2.7883265e-04], dtype=float32),\n",
       " array([3.5144069e-05, 3.5564569e-04, 1.4535178e-04, ..., 8.1035844e-04,\n",
       "        1.7810480e-04, 1.9289822e-04], dtype=float32),\n",
       " array([5.9826223e-05, 5.5594236e-04, 2.5827417e-04, ..., 9.5105934e-04,\n",
       "        3.2641523e-04, 3.8385019e-04], dtype=float32),\n",
       " array([5.0438812e-05, 4.4945852e-04, 1.5122409e-04, ..., 7.2076073e-04,\n",
       "        2.0117847e-04, 2.1597701e-04], dtype=float32),\n",
       " array([3.2259391e-05, 3.7319656e-04, 9.2158261e-05, ..., 6.3427020e-04,\n",
       "        1.9355633e-04, 2.2547609e-04], dtype=float32),\n",
       " array([3.0942665e-05, 2.9631512e-04, 9.2643924e-05, ..., 4.7592644e-04,\n",
       "        1.4785129e-04, 2.1868967e-04], dtype=float32),\n",
       " array([4.3911899e-05, 5.6687411e-04, 1.6485419e-04, ..., 8.3002570e-04,\n",
       "        2.5727294e-04, 3.2892055e-04], dtype=float32),\n",
       " array([3.7272730e-05, 4.7334150e-04, 1.6590711e-04, ..., 8.4011204e-04,\n",
       "        2.1511159e-04, 2.9943473e-04], dtype=float32),\n",
       " array([3.5153687e-05, 3.2382339e-04, 1.0957387e-04, ..., 8.5854460e-04,\n",
       "        1.4087006e-04, 2.9949154e-04], dtype=float32),\n",
       " array([7.6140299e-05, 1.0007103e-03, 3.4497536e-04, ..., 1.1157416e-03,\n",
       "        4.5122247e-04, 4.9573625e-04], dtype=float32),\n",
       " array([5.4926240e-05, 5.2214944e-04, 2.1612368e-04, ..., 9.6553925e-04,\n",
       "        2.2392457e-04, 3.7673448e-04], dtype=float32),\n",
       " array([3.4799727e-05, 3.7913618e-04, 1.5950213e-04, ..., 6.0564058e-04,\n",
       "        2.2757023e-04, 2.5108477e-04], dtype=float32),\n",
       " array([3.03341585e-05, 3.03835113e-04, 1.13450325e-04, ...,\n",
       "        6.15152530e-04, 1.52260502e-04, 2.16608474e-04], dtype=float32),\n",
       " array([4.5052930e-05, 4.6099749e-04, 1.6490939e-04, ..., 8.6740096e-04,\n",
       "        2.5451431e-04, 3.0713048e-04], dtype=float32),\n",
       " array([4.1923093e-05, 5.9832452e-04, 1.6637507e-04, ..., 8.2233653e-04,\n",
       "        2.0472288e-04, 2.6389319e-04], dtype=float32),\n",
       " array([2.25071617e-05, 3.53869487e-04, 1.11733076e-04, ...,\n",
       "        4.13644826e-04, 1.58581766e-04, 1.89442479e-04], dtype=float32),\n",
       " array([6.4349057e-05, 5.0622196e-04, 1.6988050e-04, ..., 7.8886142e-04,\n",
       "        2.7412674e-04, 4.3717813e-04], dtype=float32),\n",
       " array([5.2249972e-05, 5.8904401e-04, 2.2528657e-04, ..., 8.0487976e-04,\n",
       "        2.2260306e-04, 3.6751683e-04], dtype=float32),\n",
       " array([3.6960155e-05, 3.5160934e-04, 1.2227343e-04, ..., 6.6824653e-04,\n",
       "        1.9384093e-04, 2.3386854e-04], dtype=float32),\n",
       " array([5.9028087e-05, 5.4370693e-04, 1.6966375e-04, ..., 1.5656444e-03,\n",
       "        2.3919877e-04, 4.0175230e-04], dtype=float32),\n",
       " array([5.7747115e-05, 5.6357088e-04, 1.9091017e-04, ..., 6.7670201e-04,\n",
       "        2.1689739e-04, 2.5123707e-04], dtype=float32),\n",
       " array([5.1874147e-05, 5.5655604e-04, 1.8265008e-04, ..., 9.2740002e-04,\n",
       "        2.5987555e-04, 2.7525655e-04], dtype=float32),\n",
       " array([5.9435501e-05, 5.3252256e-04, 2.7185585e-04, ..., 1.0733570e-03,\n",
       "        3.5492645e-04, 5.6536082e-04], dtype=float32),\n",
       " array([5.2661966e-05, 5.6422281e-04, 1.7261699e-04, ..., 7.3599705e-04,\n",
       "        2.8765516e-04, 2.8458875e-04], dtype=float32),\n",
       " array([3.9107264e-05, 3.7944008e-04, 1.3967909e-04, ..., 1.0836507e-03,\n",
       "        2.2900113e-04, 2.6150528e-04], dtype=float32),\n",
       " array([5.5695895e-05, 3.9339348e-04, 1.8803412e-04, ..., 6.6360593e-04,\n",
       "        2.6999143e-04, 3.2844802e-04], dtype=float32),\n",
       " array([5.4508910e-05, 6.9536333e-04, 2.0965307e-04, ..., 9.0126169e-04,\n",
       "        2.3178475e-04, 3.1083415e-04], dtype=float32),\n",
       " array([4.2712058e-05, 4.3298380e-04, 1.4768729e-04, ..., 8.6282933e-04,\n",
       "        2.0728455e-04, 3.9412038e-04], dtype=float32),\n",
       " array([3.7477817e-05, 3.4595683e-04, 1.1376372e-04, ..., 6.9349509e-04,\n",
       "        2.3960164e-04, 2.5926330e-04], dtype=float32),\n",
       " array([6.4776083e-05, 7.3902518e-04, 3.0491082e-04, ..., 1.1540080e-03,\n",
       "        3.7112122e-04, 5.0169026e-04], dtype=float32),\n",
       " array([2.5097574e-05, 3.6795979e-04, 1.2922048e-04, ..., 9.2003343e-04,\n",
       "        1.9670000e-04, 1.9826586e-04], dtype=float32),\n",
       " array([6.9995476e-05, 5.2331807e-04, 1.8962771e-04, ..., 1.1052460e-03,\n",
       "        2.4662030e-04, 3.4054313e-04], dtype=float32),\n",
       " array([5.3007603e-05, 4.4493331e-04, 2.2140497e-04, ..., 7.3385501e-04,\n",
       "        2.5242296e-04, 2.8266263e-04], dtype=float32),\n",
       " array([5.5954089e-05, 5.0546235e-04, 1.5857330e-04, ..., 9.9588395e-04,\n",
       "        2.4357493e-04, 4.4689627e-04], dtype=float32),\n",
       " array([4.4197579e-05, 3.7870306e-04, 1.4722288e-04, ..., 8.3348237e-04,\n",
       "        2.3583185e-04, 3.0002740e-04], dtype=float32),\n",
       " array([2.5222509e-05, 4.5148662e-04, 1.4554983e-04, ..., 6.4205768e-04,\n",
       "        2.0232805e-04, 1.4197287e-04], dtype=float32),\n",
       " array([5.2750078e-05, 4.9336627e-04, 1.7540473e-04, ..., 1.0358006e-03,\n",
       "        2.1890581e-04, 4.0363389e-04], dtype=float32),\n",
       " array([4.3064119e-05, 4.1723266e-04, 1.2102078e-04, ..., 6.1618356e-04,\n",
       "        2.5357597e-04, 3.2416038e-04], dtype=float32),\n",
       " array([5.5347140e-05, 4.9802935e-04, 2.0329938e-04, ..., 1.0708163e-03,\n",
       "        2.9342319e-04, 3.3149915e-04], dtype=float32),\n",
       " array([1.43931520e-05, 2.48746335e-04, 1.11166948e-04, ...,\n",
       "        3.66852270e-04, 1.03985316e-04, 1.28140819e-04], dtype=float32),\n",
       " array([5.0876824e-05, 4.4741415e-04, 1.8100359e-04, ..., 8.6972362e-04,\n",
       "        2.5691971e-04, 4.0492977e-04], dtype=float32),\n",
       " array([2.6652693e-05, 4.1027769e-04, 1.4370479e-04, ..., 5.7661365e-04,\n",
       "        1.7849939e-04, 1.9461116e-04], dtype=float32),\n",
       " array([2.3818269e-05, 3.1735445e-04, 1.0829847e-04, ..., 4.9362943e-04,\n",
       "        2.2532740e-04, 2.6360803e-04], dtype=float32),\n",
       " array([4.7460355e-05, 6.3419074e-04, 2.5702114e-04, ..., 1.2479115e-03,\n",
       "        2.1642308e-04, 2.8114731e-04], dtype=float32),\n",
       " array([4.1597850e-05, 3.5866071e-04, 1.1901791e-04, ..., 6.6237542e-04,\n",
       "        1.9285207e-04, 2.7158513e-04], dtype=float32),\n",
       " array([4.6382218e-05, 3.4364185e-04, 1.4170981e-04, ..., 7.3161244e-04,\n",
       "        1.8996939e-04, 3.2107360e-04], dtype=float32),\n",
       " array([3.7292284e-05, 4.7597976e-04, 1.8068423e-04, ..., 8.4525789e-04,\n",
       "        2.3151351e-04, 3.1573387e-04], dtype=float32),\n",
       " array([4.2776137e-05, 3.2754027e-04, 1.2424360e-04, ..., 6.0412352e-04,\n",
       "        1.8049414e-04, 2.3370715e-04], dtype=float32),\n",
       " array([4.8450274e-05, 4.8025695e-04, 1.6833609e-04, ..., 9.4105367e-04,\n",
       "        2.3254356e-04, 3.3420307e-04], dtype=float32),\n",
       " array([4.7279937e-05, 4.9641152e-04, 1.8079109e-04, ..., 9.9633902e-04,\n",
       "        2.4934256e-04, 4.3056489e-04], dtype=float32),\n",
       " array([5.0715957e-05, 6.0291728e-04, 1.6242976e-04, ..., 9.2941144e-04,\n",
       "        2.9245464e-04, 3.4075973e-04], dtype=float32),\n",
       " array([4.0166255e-05, 4.7322485e-04, 1.3111091e-04, ..., 8.6633337e-04,\n",
       "        2.2946688e-04, 2.2060130e-04], dtype=float32),\n",
       " array([5.4469674e-05, 5.5884494e-04, 1.5655828e-04, ..., 1.0009872e-03,\n",
       "        2.5580660e-04, 2.7877153e-04], dtype=float32),\n",
       " array([4.3229695e-05, 3.2020453e-04, 1.5259553e-04, ..., 7.0411066e-04,\n",
       "        1.7078531e-04, 3.6616132e-04], dtype=float32),\n",
       " array([3.5394911e-05, 4.6898299e-04, 1.4787653e-04, ..., 7.9323765e-04,\n",
       "        3.7094404e-04, 3.4629405e-04], dtype=float32),\n",
       " array([4.3800857e-05, 4.3053145e-04, 1.7126508e-04, ..., 8.9077529e-04,\n",
       "        2.9724062e-04, 3.7794045e-04], dtype=float32),\n",
       " array([5.1638122e-05, 5.6579127e-04, 2.2435431e-04, ..., 1.0908570e-03,\n",
       "        3.1334508e-04, 3.4933933e-04], dtype=float32),\n",
       " array([5.5803925e-05, 5.8075367e-04, 1.3773184e-04, ..., 1.2110284e-03,\n",
       "        2.5314599e-04, 3.8144898e-04], dtype=float32),\n",
       " array([4.4229455e-05, 6.2340550e-04, 2.3584129e-04, ..., 7.5743621e-04,\n",
       "        2.9085216e-04, 2.8300995e-04], dtype=float32),\n",
       " array([5.4407330e-05, 4.8881205e-04, 1.8858265e-04, ..., 9.1369823e-04,\n",
       "        2.8013779e-04, 3.8667300e-04], dtype=float32),\n",
       " array([4.0637377e-05, 4.5483437e-04, 1.6735838e-04, ..., 9.8764035e-04,\n",
       "        3.1804747e-04, 3.5925888e-04], dtype=float32),\n",
       " array([6.1270577e-05, 7.7804783e-04, 2.2803264e-04, ..., 1.1716003e-03,\n",
       "        3.9398720e-04, 3.8339556e-04], dtype=float32),\n",
       " array([3.5767138e-05, 5.5947329e-04, 1.4202621e-04, ..., 8.0799585e-04,\n",
       "        2.4015697e-04, 2.8374130e-04], dtype=float32),\n",
       " array([5.6435903e-05, 5.0373923e-04, 1.8582153e-04, ..., 9.5255702e-04,\n",
       "        2.3858332e-04, 3.9177426e-04], dtype=float32),\n",
       " array([5.8852889e-05, 4.4473485e-04, 1.8920311e-04, ..., 7.5961446e-04,\n",
       "        3.2431216e-04, 3.1736959e-04], dtype=float32),\n",
       " array([3.4317709e-05, 4.4913581e-04, 1.8833017e-04, ..., 8.3125808e-04,\n",
       "        2.4321243e-04, 2.4149101e-04], dtype=float32),\n",
       " array([2.3747143e-05, 3.5400511e-04, 1.2329649e-04, ..., 6.7170244e-04,\n",
       "        2.2526551e-04, 1.9786040e-04], dtype=float32),\n",
       " array([4.9481216e-05, 4.8406451e-04, 1.7581380e-04, ..., 8.0899044e-04,\n",
       "        3.7893691e-04, 4.3888090e-04], dtype=float32),\n",
       " array([5.7479116e-05, 6.7066809e-04, 2.7013177e-04, ..., 1.0783236e-03,\n",
       "        2.4891598e-04, 3.9237156e-04], dtype=float32),\n",
       " array([8.5454732e-05, 6.8849948e-04, 2.3532243e-04, ..., 1.6168101e-03,\n",
       "        3.9296807e-04, 4.8365514e-04], dtype=float32),\n",
       " array([2.5682810e-05, 3.5776597e-04, 1.4280557e-04, ..., 8.3654688e-04,\n",
       "        2.1379131e-04, 2.7046987e-04], dtype=float32),\n",
       " array([4.7274883e-05, 3.8815528e-04, 1.4037741e-04, ..., 1.0676109e-03,\n",
       "        1.9617107e-04, 3.1838450e-04], dtype=float32),\n",
       " array([5.6898687e-05, 6.3077139e-04, 2.4244402e-04, ..., 1.4503656e-03,\n",
       "        3.1961253e-04, 3.8269683e-04], dtype=float32),\n",
       " array([3.9943447e-05, 3.8513579e-04, 1.3944168e-04, ..., 8.0025021e-04,\n",
       "        1.8341449e-04, 2.6506040e-04], dtype=float32),\n",
       " array([3.0746411e-05, 4.3456524e-04, 1.9296481e-04, ..., 7.2189601e-04,\n",
       "        2.5076183e-04, 3.5470675e-04], dtype=float32),\n",
       " array([3.5743473e-05, 4.6510730e-04, 1.5944116e-04, ..., 1.0040461e-03,\n",
       "        3.2359408e-04, 4.0619250e-04], dtype=float32),\n",
       " array([7.0050766e-05, 5.6070968e-04, 1.9278770e-04, ..., 1.6244419e-03,\n",
       "        3.2276128e-04, 5.4225163e-04], dtype=float32),\n",
       " array([2.26154079e-05, 2.49541627e-04, 1.12727808e-04, ...,\n",
       "        5.56176878e-04, 1.16033036e-04, 1.78003611e-04], dtype=float32),\n",
       " array([4.7864472e-05, 6.8052422e-04, 2.0040825e-04, ..., 1.1876753e-03,\n",
       "        2.8555904e-04, 3.1428033e-04], dtype=float32),\n",
       " array([3.0829116e-05, 4.2160143e-04, 1.6380718e-04, ..., 9.0587582e-04,\n",
       "        2.0217552e-04, 3.0508297e-04], dtype=float32),\n",
       " array([2.7033264e-05, 3.1140546e-04, 9.8327830e-05, ..., 5.7803001e-04,\n",
       "        1.6454545e-04, 2.7567099e-04], dtype=float32),\n",
       " array([3.7956954e-05, 4.8126350e-04, 1.9269731e-04, ..., 1.1370915e-03,\n",
       "        2.2567183e-04, 3.6916125e-04], dtype=float32),\n",
       " array([4.8767710e-05, 6.9047528e-04, 2.4330730e-04, ..., 1.2418194e-03,\n",
       "        2.6407113e-04, 2.2990444e-04], dtype=float32),\n",
       " array([6.5388587e-05, 6.0395402e-04, 2.0255157e-04, ..., 9.6366857e-04,\n",
       "        2.2540301e-04, 3.8633551e-04], dtype=float32),\n",
       " array([8.5746877e-05, 8.2046475e-04, 2.5728691e-04, ..., 1.1707798e-03,\n",
       "        3.1628911e-04, 4.7894075e-04], dtype=float32),\n",
       " array([6.3684740e-05, 4.9561058e-04, 1.8541023e-04, ..., 1.1937170e-03,\n",
       "        3.2686896e-04, 3.9452317e-04], dtype=float32),\n",
       " array([3.1303036e-05, 3.5410534e-04, 1.4628825e-04, ..., 8.5266167e-04,\n",
       "        2.2115033e-04, 3.2473108e-04], dtype=float32),\n",
       " array([3.1747160e-05, 3.2423239e-04, 1.1666164e-04, ..., 6.2466075e-04,\n",
       "        1.6766234e-04, 2.6241390e-04], dtype=float32),\n",
       " array([5.5373901e-05, 5.7233544e-04, 1.6485451e-04, ..., 1.2543054e-03,\n",
       "        3.4102722e-04, 4.4537056e-04], dtype=float32),\n",
       " array([6.3273714e-05, 6.8960432e-04, 2.8254921e-04, ..., 1.3041693e-03,\n",
       "        4.7885402e-04, 4.3174057e-04], dtype=float32),\n",
       " array([3.1768086e-05, 3.0900020e-04, 9.7941724e-05, ..., 7.3753152e-04,\n",
       "        1.5869219e-04, 1.9564318e-04], dtype=float32),\n",
       " array([6.3577398e-05, 5.7572953e-04, 2.1993408e-04, ..., 1.3675257e-03,\n",
       "        3.7056653e-04, 5.1908294e-04], dtype=float32),\n",
       " array([5.6174140e-05, 5.8728911e-04, 2.0841259e-04, ..., 7.6064520e-04,\n",
       "        3.2077928e-04, 4.1192150e-04], dtype=float32),\n",
       " array([5.0842053e-05, 4.1328359e-04, 1.4263272e-04, ..., 8.4369804e-04,\n",
       "        2.7421274e-04, 3.6126428e-04], dtype=float32),\n",
       " array([4.8331814e-05, 4.0218187e-04, 1.2029376e-04, ..., 7.8912801e-04,\n",
       "        2.4589172e-04, 4.8067005e-04], dtype=float32),\n",
       " array([5.2577565e-05, 5.1365356e-04, 2.0764378e-04, ..., 1.0267758e-03,\n",
       "        3.1496843e-04, 3.9925860e-04], dtype=float32),\n",
       " array([2.7606551e-05, 4.0401367e-04, 1.4490535e-04, ..., 5.4342434e-04,\n",
       "        2.2790092e-04, 2.0355600e-04], dtype=float32),\n",
       " array([5.0097027e-05, 5.7949044e-04, 2.1708589e-04, ..., 9.5940358e-04,\n",
       "        2.9272464e-04, 3.2727714e-04], dtype=float32),\n",
       " array([4.4593940e-05, 5.3207000e-04, 1.9063223e-04, ..., 9.5082639e-04,\n",
       "        2.1221956e-04, 3.2669856e-04], dtype=float32),\n",
       " array([5.4302571e-05, 4.2593630e-04, 1.8572819e-04, ..., 8.1111939e-04,\n",
       "        2.6340049e-04, 3.9862635e-04], dtype=float32),\n",
       " array([3.9108756e-05, 4.4821345e-04, 1.9612673e-04, ..., 7.3741027e-04,\n",
       "        2.7996398e-04, 2.5683717e-04], dtype=float32),\n",
       " array([5.4695105e-05, 4.8532651e-04, 1.5801965e-04, ..., 9.8934595e-04,\n",
       "        2.5256595e-04, 4.1989537e-04], dtype=float32),\n",
       " array([4.3322594e-05, 5.4858957e-04, 1.6157322e-04, ..., 9.2404481e-04,\n",
       "        2.4326253e-04, 2.7221741e-04], dtype=float32),\n",
       " array([6.1980478e-05, 5.4919330e-04, 2.3623512e-04, ..., 1.2330719e-03,\n",
       "        2.8481786e-04, 4.6216545e-04], dtype=float32),\n",
       " array([2.5164798e-05, 4.5710892e-04, 1.1954659e-04, ..., 5.8073894e-04,\n",
       "        1.6873414e-04, 1.8827218e-04], dtype=float32),\n",
       " array([3.5363468e-05, 4.5484002e-04, 1.5333385e-04, ..., 7.4855314e-04,\n",
       "        1.7841926e-04, 2.3853056e-04], dtype=float32),\n",
       " array([4.3986292e-05, 6.1547483e-04, 1.7017200e-04, ..., 1.1667518e-03,\n",
       "        3.5416646e-04, 3.2781140e-04], dtype=float32),\n",
       " array([4.9298189e-05, 5.9410610e-04, 1.9828799e-04, ..., 1.0064135e-03,\n",
       "        2.9832911e-04, 3.7210254e-04], dtype=float32),\n",
       " array([6.1605235e-05, 5.5150798e-04, 1.9097170e-04, ..., 1.2880585e-03,\n",
       "        2.7752540e-04, 4.5927329e-04], dtype=float32),\n",
       " array([3.2023134e-05, 4.6281575e-04, 1.4479003e-04, ..., 8.4880996e-04,\n",
       "        2.7315569e-04, 2.5581929e-04], dtype=float32),\n",
       " array([4.3724573e-05, 3.6074285e-04, 1.3316225e-04, ..., 6.8160781e-04,\n",
       "        2.4121439e-04, 2.2945135e-04], dtype=float32),\n",
       " array([4.1111554e-05, 2.9173921e-04, 1.0946338e-04, ..., 6.8325031e-04,\n",
       "        1.9628387e-04, 2.6655919e-04], dtype=float32),\n",
       " array([4.1052830e-05, 4.8641997e-04, 1.2848867e-04, ..., 9.0205035e-04,\n",
       "        2.2381292e-04, 1.8964635e-04], dtype=float32),\n",
       " array([4.2077656e-05, 4.8527122e-04, 1.5552434e-04, ..., 9.4585551e-04,\n",
       "        2.7931877e-04, 2.9465021e-04], dtype=float32),\n",
       " array([2.61409095e-05, 3.44032276e-04, 1.04314444e-04, ...,\n",
       "        7.43936806e-04, 1.58952971e-04, 1.88544160e-04], dtype=float32),\n",
       " array([4.7600101e-05, 4.1110397e-04, 1.8205580e-04, ..., 7.5250800e-04,\n",
       "        2.4327693e-04, 3.9520845e-04], dtype=float32),\n",
       " array([6.0845068e-05, 5.9834594e-04, 2.5214441e-04, ..., 1.2128449e-03,\n",
       "        3.2447977e-04, 4.3445695e-04], dtype=float32),\n",
       " array([2.92901623e-05, 3.40206141e-04, 1.19764176e-04, ...,\n",
       "        5.41651156e-04, 1.11733927e-04, 1.85842262e-04], dtype=float32),\n",
       " array([7.5426018e-05, 5.9232931e-04, 2.4273268e-04, ..., 1.3949882e-03,\n",
       "        3.6383938e-04, 4.6346957e-04], dtype=float32),\n",
       " array([5.1038307e-05, 4.3383447e-04, 1.6146879e-04, ..., 7.5050991e-04,\n",
       "        2.0507220e-04, 3.3082574e-04], dtype=float32),\n",
       " array([5.9433238e-05, 4.0876941e-04, 1.7668582e-04, ..., 1.1353305e-03,\n",
       "        2.3034371e-04, 3.8906958e-04], dtype=float32),\n",
       " array([0.00010765, 0.00085467, 0.00027683, ..., 0.00125506, 0.00042218,\n",
       "        0.0006098 ], dtype=float32),\n",
       " array([4.9014674e-05, 4.8154368e-04, 1.6689036e-04, ..., 1.0219456e-03,\n",
       "        2.0239172e-04, 2.9194233e-04], dtype=float32),\n",
       " array([4.3206368e-05, 4.7030207e-04, 2.0271134e-04, ..., 1.0206554e-03,\n",
       "        2.4087449e-04, 3.9432052e-04], dtype=float32),\n",
       " array([8.6009262e-05, 6.7312183e-04, 2.5908981e-04, ..., 1.3415836e-03,\n",
       "        3.6681260e-04, 5.0016423e-04], dtype=float32),\n",
       " array([4.2754116e-05, 2.9688264e-04, 1.0546365e-04, ..., 8.2771503e-04,\n",
       "        1.9577323e-04, 4.0544372e-04], dtype=float32),\n",
       " array([5.1000599e-05, 5.0551270e-04, 2.1307802e-04, ..., 8.9367287e-04,\n",
       "        2.8499388e-04, 3.8971662e-04], dtype=float32),\n",
       " array([1.73708449e-05, 2.82924157e-04, 8.79000800e-05, ...,\n",
       "        3.96321208e-04, 1.33301233e-04, 1.15415394e-04], dtype=float32),\n",
       " array([4.4159242e-05, 5.4252590e-04, 1.9918256e-04, ..., 9.7304536e-04,\n",
       "        2.2440930e-04, 3.3464719e-04], dtype=float32),\n",
       " array([3.65522574e-05, 2.92050070e-04, 1.04549654e-04, ...,\n",
       "        6.45297405e-04, 1.95743734e-04, 1.94745910e-04], dtype=float32),\n",
       " array([2.7780750e-05, 3.3115642e-04, 1.2299856e-04, ..., 6.6805544e-04,\n",
       "        2.5752201e-04, 3.3144321e-04], dtype=float32),\n",
       " array([3.4343117e-05, 3.0650100e-04, 1.5442728e-04, ..., 7.7412778e-04,\n",
       "        1.6220765e-04, 2.5998161e-04], dtype=float32),\n",
       " array([2.3616112e-05, 2.8340553e-04, 7.9662219e-05, ..., 4.8436917e-04,\n",
       "        1.5122395e-04, 1.2467107e-04], dtype=float32),\n",
       " array([3.6617290e-05, 3.9772011e-04, 1.3582519e-04, ..., 5.9060712e-04,\n",
       "        1.8724635e-04, 3.4853347e-04], dtype=float32),\n",
       " array([3.0908777e-05, 3.7042474e-04, 1.3605268e-04, ..., 5.4201443e-04,\n",
       "        1.5252395e-04, 1.8812809e-04], dtype=float32),\n",
       " array([4.3078991e-05, 4.8298185e-04, 1.8522362e-04, ..., 1.0275454e-03,\n",
       "        2.3678917e-04, 3.2935580e-04], dtype=float32),\n",
       " array([3.9616105e-05, 3.5190309e-04, 1.2776186e-04, ..., 7.1423902e-04,\n",
       "        2.7701148e-04, 2.7375689e-04], dtype=float32),\n",
       " array([2.8585766e-05, 4.2644376e-04, 1.8085988e-04, ..., 6.5739511e-04,\n",
       "        1.6551446e-04, 2.7882415e-04], dtype=float32),\n",
       " array([2.3801582e-05, 3.5580780e-04, 1.2912108e-04, ..., 6.8845548e-04,\n",
       "        1.8659671e-04, 2.0987168e-04], dtype=float32),\n",
       " array([4.4098768e-05, 3.8293752e-04, 1.4983826e-04, ..., 7.9847692e-04,\n",
       "        2.1674049e-04, 3.1148948e-04], dtype=float32),\n",
       " array([3.9743587e-05, 3.8177366e-04, 1.4348366e-04, ..., 7.7352719e-04,\n",
       "        1.9837213e-04, 2.6368871e-04], dtype=float32),\n",
       " array([4.8503345e-05, 4.1887793e-04, 1.4495772e-04, ..., 5.7331409e-04,\n",
       "        2.4940749e-04, 2.5498940e-04], dtype=float32),\n",
       " array([5.6183308e-05, 4.5984672e-04, 1.3714367e-04, ..., 1.1022562e-03,\n",
       "        2.2260178e-04, 3.0405939e-04], dtype=float32),\n",
       " array([9.7037184e-05, 6.9961912e-04, 3.1496544e-04, ..., 9.8446466e-04,\n",
       "        3.1787163e-04, 4.2645700e-04], dtype=float32),\n",
       " array([3.4037897e-05, 3.8099580e-04, 1.2594649e-04, ..., 7.4595754e-04,\n",
       "        1.4467548e-04, 2.4120520e-04], dtype=float32),\n",
       " array([4.3183380e-05, 3.9524876e-04, 1.3035037e-04, ..., 5.8856839e-04,\n",
       "        1.9169999e-04, 2.5818506e-04], dtype=float32),\n",
       " array([3.5902875e-05, 3.9782020e-04, 1.2250777e-04, ..., 8.6249720e-04,\n",
       "        2.5539575e-04, 3.2355892e-04], dtype=float32),\n",
       " array([5.1797771e-05, 5.8673660e-04, 2.0556709e-04, ..., 8.8664930e-04,\n",
       "        2.4146060e-04, 4.6811899e-04], dtype=float32),\n",
       " array([3.2288477e-05, 3.3885214e-04, 1.3169443e-04, ..., 5.9605349e-04,\n",
       "        1.7631541e-04, 2.3637887e-04], dtype=float32),\n",
       " array([3.3321459e-05, 4.3206027e-04, 1.4161984e-04, ..., 8.8691461e-04,\n",
       "        2.0534475e-04, 2.3449931e-04], dtype=float32),\n",
       " array([3.7694419e-05, 4.5606890e-04, 1.3973424e-04, ..., 9.3353924e-04,\n",
       "        2.1822064e-04, 2.8773470e-04], dtype=float32),\n",
       " array([6.4173488e-05, 5.2233337e-04, 2.1094963e-04, ..., 8.0578221e-04,\n",
       "        3.7866444e-04, 5.1447848e-04], dtype=float32),\n",
       " array([5.9729427e-05, 5.0242239e-04, 2.1073953e-04, ..., 8.7111449e-04,\n",
       "        3.4772416e-04, 3.8017891e-04], dtype=float32),\n",
       " array([5.5243469e-05, 4.8888545e-04, 1.7370952e-04, ..., 9.6651801e-04,\n",
       "        2.6044605e-04, 2.5432318e-04], dtype=float32),\n",
       " array([4.8848651e-05, 3.8582669e-04, 1.3410060e-04, ..., 7.2652975e-04,\n",
       "        2.4818466e-04, 4.4141931e-04], dtype=float32),\n",
       " array([3.8692862e-05, 4.2610426e-04, 1.6075261e-04, ..., 5.0194736e-04,\n",
       "        2.7597707e-04, 2.5458762e-04], dtype=float32),\n",
       " array([3.9949657e-05, 4.2295660e-04, 1.6100373e-04, ..., 9.0011169e-04,\n",
       "        1.9154488e-04, 2.4819956e-04], dtype=float32),\n",
       " array([5.6620152e-05, 4.6505878e-04, 1.9737858e-04, ..., 9.3504367e-04,\n",
       "        2.8307392e-04, 3.6296429e-04], dtype=float32),\n",
       " array([4.7090180e-05, 4.5515425e-04, 1.5512164e-04, ..., 9.9869212e-04,\n",
       "        2.6193421e-04, 3.1671277e-04], dtype=float32),\n",
       " array([3.5264624e-05, 2.3903689e-04, 9.5240117e-05, ..., 8.0391282e-04,\n",
       "        1.8564622e-04, 2.0388253e-04], dtype=float32),\n",
       " array([5.5947577e-05, 5.2046916e-04, 1.9827172e-04, ..., 1.1094343e-03,\n",
       "        2.5729451e-04, 3.6437705e-04], dtype=float32),\n",
       " array([5.4190830e-05, 3.7823513e-04, 1.4584714e-04, ..., 7.9480466e-04,\n",
       "        2.0735948e-04, 3.1872099e-04], dtype=float32),\n",
       " array([6.5651373e-05, 5.1348907e-04, 1.6657208e-04, ..., 1.1989749e-03,\n",
       "        2.3989630e-04, 4.2805212e-04], dtype=float32),\n",
       " array([3.4718480e-05, 4.2955679e-04, 1.4124654e-04, ..., 9.7577943e-04,\n",
       "        2.2310960e-04, 2.6910380e-04], dtype=float32),\n",
       " array([3.3228418e-05, 3.2775549e-04, 1.3682497e-04, ..., 6.2218547e-04,\n",
       "        2.6890554e-04, 2.7162267e-04], dtype=float32),\n",
       " array([3.2902157e-05, 3.1609318e-04, 1.3452170e-04, ..., 7.3038990e-04,\n",
       "        1.7594745e-04, 3.0668927e-04], dtype=float32),\n",
       " array([4.5946912e-05, 4.4666542e-04, 1.6567773e-04, ..., 6.1250880e-04,\n",
       "        2.2308047e-04, 2.5208938e-04], dtype=float32),\n",
       " array([4.6270754e-05, 5.5656640e-04, 1.9938302e-04, ..., 7.8840682e-04,\n",
       "        2.4901994e-04, 2.3754104e-04], dtype=float32),\n",
       " array([3.7642731e-05, 5.2523904e-04, 1.3629902e-04, ..., 8.7890413e-04,\n",
       "        3.7753570e-04, 3.0045104e-04], dtype=float32),\n",
       " array([4.8496964e-05, 5.7121494e-04, 2.1804051e-04, ..., 8.4125157e-04,\n",
       "        2.6286062e-04, 4.2522149e-04], dtype=float32),\n",
       " array([4.9890212e-05, 4.4291897e-04, 1.9403566e-04, ..., 7.9348753e-04,\n",
       "        2.8116017e-04, 4.8166208e-04], dtype=float32),\n",
       " array([8.3619067e-05, 7.1102910e-04, 3.0124927e-04, ..., 1.1594545e-03,\n",
       "        4.1080173e-04, 5.5414758e-04], dtype=float32),\n",
       " array([6.8905909e-05, 5.7426351e-04, 1.9003225e-04, ..., 1.3112238e-03,\n",
       "        2.3814288e-04, 3.3880596e-04], dtype=float32),\n",
       " array([7.4166928e-05, 6.7902508e-04, 2.3901045e-04, ..., 1.0718508e-03,\n",
       "        3.5966650e-04, 4.9579085e-04], dtype=float32),\n",
       " array([6.0682352e-05, 5.6429056e-04, 1.9590078e-04, ..., 8.7178551e-04,\n",
       "        3.3420339e-04, 3.8369047e-04], dtype=float32),\n",
       " array([4.0344956e-05, 5.3386937e-04, 1.8408324e-04, ..., 8.3890132e-04,\n",
       "        3.4526471e-04, 2.8691371e-04], dtype=float32),\n",
       " array([4.8500387e-05, 5.5584114e-04, 1.5876302e-04, ..., 7.8288052e-04,\n",
       "        3.3304247e-04, 4.7589309e-04], dtype=float32),\n",
       " array([4.1407086e-05, 4.7604443e-04, 1.5152027e-04, ..., 9.2844100e-04,\n",
       "        1.5206434e-04, 2.4180088e-04], dtype=float32),\n",
       " array([4.5739602e-05, 3.8149426e-04, 1.3347370e-04, ..., 6.8617146e-04,\n",
       "        1.9290521e-04, 2.3943790e-04], dtype=float32),\n",
       " array([1.9192159e-05, 3.7409007e-04, 1.3114105e-04, ..., 7.5004052e-04,\n",
       "        1.3083691e-04, 1.3132350e-04], dtype=float32),\n",
       " array([3.9770621e-05, 3.4449223e-04, 1.0262189e-04, ..., 5.2965060e-04,\n",
       "        1.6087589e-04, 2.5797664e-04], dtype=float32),\n",
       " array([3.2910662e-05, 3.0717385e-04, 1.1941305e-04, ..., 6.4628676e-04,\n",
       "        2.0837624e-04, 3.2029889e-04], dtype=float32),\n",
       " array([7.7154938e-05, 5.2814477e-04, 1.6905752e-04, ..., 9.9219475e-04,\n",
       "        3.1106838e-04, 4.0195629e-04], dtype=float32),\n",
       " array([6.2742620e-05, 6.2479445e-04, 2.7490247e-04, ..., 9.8903780e-04,\n",
       "        3.3298723e-04, 3.8377166e-04], dtype=float32),\n",
       " array([5.1928440e-05, 6.7377812e-04, 2.1452783e-04, ..., 1.0743666e-03,\n",
       "        3.0303147e-04, 3.7470128e-04], dtype=float32),\n",
       " array([2.2682972e-05, 2.6273209e-04, 6.8524343e-05, ..., 5.4566114e-04,\n",
       "        1.9151164e-04, 2.7576930e-04], dtype=float32),\n",
       " array([3.0559910e-05, 3.5415700e-04, 1.1907875e-04, ..., 5.3402485e-04,\n",
       "        1.5848609e-04, 2.0213272e-04], dtype=float32),\n",
       " array([3.8121096e-05, 4.0183676e-04, 1.5863864e-04, ..., 6.9560925e-04,\n",
       "        1.9126346e-04, 2.4346418e-04], dtype=float32),\n",
       " array([3.0440100e-05, 4.4777637e-04, 1.3497732e-04, ..., 7.3635805e-04,\n",
       "        1.6917895e-04, 2.6906814e-04], dtype=float32),\n",
       " array([5.7443769e-05, 4.8706488e-04, 2.1209597e-04, ..., 1.0352485e-03,\n",
       "        3.4324764e-04, 3.9833836e-04], dtype=float32),\n",
       " array([4.5481891e-05, 4.4911867e-04, 2.0839034e-04, ..., 1.0750506e-03,\n",
       "        3.0712990e-04, 4.4352573e-04], dtype=float32),\n",
       " array([3.9048529e-05, 4.4418446e-04, 1.6049195e-04, ..., 9.7809744e-04,\n",
       "        1.5382766e-04, 2.7590289e-04], dtype=float32),\n",
       " array([6.9238937e-05, 4.7242420e-04, 1.9241693e-04, ..., 1.1031302e-03,\n",
       "        2.6989775e-04, 5.1917345e-04], dtype=float32),\n",
       " array([5.1509069e-05, 4.1202008e-04, 1.3290993e-04, ..., 9.8384486e-04,\n",
       "        2.0114701e-04, 2.6168185e-04], dtype=float32),\n",
       " array([3.53641408e-05, 3.05853842e-04, 1.09335066e-04, ...,\n",
       "        6.38656784e-04, 2.33100742e-04, 2.60305795e-04], dtype=float32),\n",
       " array([9.4165862e-06, 1.6725165e-04, 5.9866230e-05, ..., 3.8974668e-04,\n",
       "        1.0702831e-04, 9.6719392e-05], dtype=float32),\n",
       " array([4.3779935e-05, 3.8059737e-04, 1.2761976e-04, ..., 9.2973880e-04,\n",
       "        1.9055445e-04, 3.3176315e-04], dtype=float32),\n",
       " array([5.1800984e-05, 4.4495935e-04, 1.4711916e-04, ..., 7.9359865e-04,\n",
       "        2.7347804e-04, 3.0862924e-04], dtype=float32),\n",
       " array([5.6538138e-05, 4.2846426e-04, 1.7999847e-04, ..., 1.0497140e-03,\n",
       "        2.7762118e-04, 3.1712369e-04], dtype=float32),\n",
       " array([5.9928487e-05, 5.1275105e-04, 1.5882662e-04, ..., 9.6888992e-04,\n",
       "        2.7617501e-04, 5.3748331e-04], dtype=float32),\n",
       " array([5.2827498e-05, 3.5154616e-04, 1.4241882e-04, ..., 1.1373509e-03,\n",
       "        2.2209932e-04, 3.3371849e-04], dtype=float32),\n",
       " array([4.5969919e-05, 4.8780482e-04, 2.0676068e-04, ..., 6.5339264e-04,\n",
       "        2.3292788e-04, 1.8703705e-04], dtype=float32),\n",
       " array([2.7666589e-05, 2.8354820e-04, 9.2593415e-05, ..., 7.4691820e-04,\n",
       "        1.6207006e-04, 2.2830849e-04], dtype=float32),\n",
       " array([4.8388261e-05, 3.6092364e-04, 1.5311105e-04, ..., 6.4920675e-04,\n",
       "        2.9904387e-04, 3.1397876e-04], dtype=float32),\n",
       " array([4.5085937e-05, 3.8193527e-04, 1.5573655e-04, ..., 7.0163462e-04,\n",
       "        2.4590627e-04, 2.7208406e-04], dtype=float32),\n",
       " array([7.3749477e-05, 7.3281163e-04, 2.1745877e-04, ..., 1.7178425e-03,\n",
       "        4.3543667e-04, 4.3737085e-04], dtype=float32),\n",
       " array([3.2110958e-05, 3.9395623e-04, 1.6437359e-04, ..., 5.4312998e-04,\n",
       "        1.6634859e-04, 2.1859568e-04], dtype=float32),\n",
       " array([3.3074266e-05, 2.5915282e-04, 1.0996807e-04, ..., 5.3363130e-04,\n",
       "        1.3017115e-04, 2.9316454e-04], dtype=float32),\n",
       " array([3.6260448e-05, 4.0014775e-04, 1.4615132e-04, ..., 8.8473485e-04,\n",
       "        2.3710073e-04, 3.1060312e-04], dtype=float32),\n",
       " array([4.1032086e-05, 4.1721412e-04, 1.3429280e-04, ..., 7.4356998e-04,\n",
       "        1.6458814e-04, 2.5620300e-04], dtype=float32),\n",
       " array([5.4762117e-05, 5.9347140e-04, 1.9811939e-04, ..., 1.0831290e-03,\n",
       "        3.6514364e-04, 3.9683862e-04], dtype=float32),\n",
       " array([5.1093579e-05, 6.0806988e-04, 2.1881316e-04, ..., 8.9075824e-04,\n",
       "        3.2493856e-04, 3.1479911e-04], dtype=float32),\n",
       " array([2.9742096e-05, 3.7176107e-04, 1.6025017e-04, ..., 7.0831634e-04,\n",
       "        2.2576608e-04, 2.0122890e-04], dtype=float32),\n",
       " array([4.0726958e-05, 4.0910215e-04, 1.7721867e-04, ..., 5.6879083e-04,\n",
       "        2.3734817e-04, 2.2926110e-04], dtype=float32),\n",
       " array([4.2327665e-05, 4.0232603e-04, 1.4533196e-04, ..., 9.1578264e-04,\n",
       "        1.6632021e-04, 2.7808585e-04], dtype=float32),\n",
       " array([3.4109384e-05, 3.9388731e-04, 1.4196610e-04, ..., 8.1964931e-04,\n",
       "        1.7188839e-04, 3.0757295e-04], dtype=float32),\n",
       " array([3.5426689e-05, 3.2534523e-04, 1.3127204e-04, ..., 7.1471289e-04,\n",
       "        1.9778420e-04, 2.1335349e-04], dtype=float32),\n",
       " array([5.0957966e-05, 4.6506300e-04, 1.7688997e-04, ..., 8.3273934e-04,\n",
       "        2.3824078e-04, 3.2006629e-04], dtype=float32),\n",
       " array([3.0961732e-05, 4.2485117e-04, 1.4451030e-04, ..., 6.1881158e-04,\n",
       "        3.6899818e-04, 3.7715223e-04], dtype=float32),\n",
       " array([2.2000919e-05, 3.4143956e-04, 1.4192185e-04, ..., 4.8787176e-04,\n",
       "        9.9916688e-05, 1.3454043e-04], dtype=float32),\n",
       " array([3.3010398e-05, 4.7909605e-04, 1.6771862e-04, ..., 5.6446245e-04,\n",
       "        1.7201956e-04, 2.1007408e-04], dtype=float32),\n",
       " array([3.7491616e-05, 4.5235662e-04, 1.5401391e-04, ..., 7.8158727e-04,\n",
       "        1.9505719e-04, 2.9931800e-04], dtype=float32),\n",
       " array([4.0486830e-05, 4.1231397e-04, 1.4700362e-04, ..., 9.0380671e-04,\n",
       "        2.5874987e-04, 2.7894060e-04], dtype=float32),\n",
       " array([3.8584418e-05, 3.4721967e-04, 1.3269301e-04, ..., 6.2054623e-04,\n",
       "        1.6004831e-04, 2.1620879e-04], dtype=float32),\n",
       " array([3.3262186e-05, 4.5728692e-04, 1.6327591e-04, ..., 8.1533100e-04,\n",
       "        2.3051200e-04, 2.3475903e-04], dtype=float32),\n",
       " array([3.9185881e-05, 4.3881583e-04, 1.6476683e-04, ..., 5.2645651e-04,\n",
       "        2.3131847e-04, 2.3445861e-04], dtype=float32),\n",
       " array([4.7953512e-05, 4.4438755e-04, 1.1973117e-04, ..., 7.1719266e-04,\n",
       "        2.3132110e-04, 2.6082079e-04], dtype=float32),\n",
       " array([4.0963390e-05, 5.6589913e-04, 1.6900466e-04, ..., 8.6557836e-04,\n",
       "        3.3326636e-04, 2.8284243e-04], dtype=float32),\n",
       " array([5.2874573e-05, 4.1476524e-04, 1.5806773e-04, ..., 1.0620407e-03,\n",
       "        1.8904658e-04, 3.8360726e-04], dtype=float32),\n",
       " array([3.9926501e-05, 3.8230084e-04, 1.9241290e-04, ..., 6.5802073e-04,\n",
       "        2.3370827e-04, 2.9030142e-04], dtype=float32),\n",
       " array([1.1783532e-05, 2.4813734e-04, 9.5979420e-05, ..., 7.0529967e-04,\n",
       "        1.3113630e-04, 1.6394252e-04], dtype=float32),\n",
       " array([3.7458311e-05, 5.4727448e-04, 1.7222619e-04, ..., 1.2953349e-03,\n",
       "        2.1246434e-04, 2.8809154e-04], dtype=float32),\n",
       " array([3.4734639e-05, 4.9499114e-04, 1.4742037e-04, ..., 1.2040335e-03,\n",
       "        2.2425424e-04, 1.9773310e-04], dtype=float32),\n",
       " array([5.0286762e-05, 6.0438819e-04, 1.8770719e-04, ..., 1.2552962e-03,\n",
       "        3.5310027e-04, 3.1483182e-04], dtype=float32),\n",
       " array([3.8220911e-05, 5.1564723e-04, 1.9040407e-04, ..., 7.6552719e-04,\n",
       "        3.1509908e-04, 2.6183561e-04], dtype=float32),\n",
       " array([4.6382218e-05, 6.1174651e-04, 1.6403163e-04, ..., 8.3046115e-04,\n",
       "        2.3428141e-04, 1.9283348e-04], dtype=float32),\n",
       " array([2.4212432e-05, 3.7190627e-04, 1.1150944e-04, ..., 8.0564478e-04,\n",
       "        1.4692375e-04, 2.0227712e-04], dtype=float32),\n",
       " array([4.2071479e-05, 3.3046983e-04, 9.8997698e-05, ..., 7.6123083e-04,\n",
       "        1.7217020e-04, 3.0068372e-04], dtype=float32),\n",
       " array([3.46553315e-05, 3.63751460e-04, 1.17823765e-04, ...,\n",
       "        8.65382550e-04, 1.69442268e-04, 2.25225158e-04], dtype=float32),\n",
       " array([4.4793789e-05, 4.7024668e-04, 1.5662411e-04, ..., 1.1253586e-03,\n",
       "        3.0046879e-04, 5.8296585e-04], dtype=float32),\n",
       " array([3.3694043e-05, 3.8966312e-04, 1.2928013e-04, ..., 9.2508161e-04,\n",
       "        1.9738912e-04, 2.1456956e-04], dtype=float32),\n",
       " array([2.7263528e-05, 4.9432518e-04, 1.3318917e-04, ..., 6.4514886e-04,\n",
       "        2.3182938e-04, 2.2806569e-04], dtype=float32),\n",
       " array([3.6687266e-05, 5.6228501e-04, 2.5702335e-04, ..., 5.9980963e-04,\n",
       "        2.6715506e-04, 2.8120575e-04], dtype=float32),\n",
       " array([3.1329106e-05, 4.1962508e-04, 1.8267082e-04, ..., 7.3914771e-04,\n",
       "        2.0462064e-04, 2.3017862e-04], dtype=float32),\n",
       " array([7.1598966e-05, 5.2298873e-04, 1.5008950e-04, ..., 1.4954366e-03,\n",
       "        3.2119302e-04, 4.2699822e-04], dtype=float32),\n",
       " array([5.2495951e-05, 4.0686989e-04, 1.2797621e-04, ..., 1.0480034e-03,\n",
       "        1.9314687e-04, 3.2204849e-04], dtype=float32),\n",
       " array([6.2328756e-05, 4.2664463e-04, 1.5746629e-04, ..., 9.7346073e-04,\n",
       "        2.1968971e-04, 3.0233659e-04], dtype=float32),\n",
       " array([1.1937003e-05, 2.1736944e-04, 7.4486445e-05, ..., 4.1145447e-04,\n",
       "        9.4734954e-05, 1.1918406e-04], dtype=float32),\n",
       " array([3.0480713e-05, 3.6720533e-04, 1.4165603e-04, ..., 6.7794265e-04,\n",
       "        1.7420646e-04, 3.1486875e-04], dtype=float32),\n",
       " array([7.9816811e-05, 5.7022710e-04, 2.3850078e-04, ..., 9.8677981e-04,\n",
       "        4.2493179e-04, 5.0111813e-04], dtype=float32),\n",
       " array([5.4594377e-05, 5.4580520e-04, 2.0825031e-04, ..., 1.1354072e-03,\n",
       "        2.8838942e-04, 4.7345815e-04], dtype=float32),\n",
       " array([5.7956262e-05, 6.7679997e-04, 2.1569589e-04, ..., 1.0435639e-03,\n",
       "        3.5598577e-04, 3.7927480e-04], dtype=float32),\n",
       " array([5.1206549e-05, 3.8780080e-04, 1.3558748e-04, ..., 9.6687407e-04,\n",
       "        2.6658564e-04, 3.5169968e-04], dtype=float32),\n",
       " array([5.2841806e-05, 4.7163092e-04, 2.1519591e-04, ..., 9.4647944e-04,\n",
       "        2.7157529e-04, 3.7250452e-04], dtype=float32),\n",
       " array([4.4158653e-05, 4.9200503e-04, 1.7771141e-04, ..., 1.5520703e-03,\n",
       "        2.3756416e-04, 3.7640028e-04], dtype=float32),\n",
       " array([3.1159299e-05, 6.3486019e-04, 1.3848128e-04, ..., 9.9050417e-04,\n",
       "        2.8204214e-04, 2.5564519e-04], dtype=float32),\n",
       " array([6.2444524e-05, 7.5608841e-04, 2.4581133e-04, ..., 1.2944137e-03,\n",
       "        3.2872870e-04, 3.2652356e-04], dtype=float32),\n",
       " array([4.6738583e-05, 6.9643639e-04, 2.6154018e-04, ..., 1.0527330e-03,\n",
       "        4.3813954e-04, 3.0734990e-04], dtype=float32),\n",
       " array([3.4707191e-05, 2.9772506e-04, 1.1787715e-04, ..., 7.5254851e-04,\n",
       "        2.2086249e-04, 2.9830125e-04], dtype=float32),\n",
       " array([3.2440854e-05, 4.0350866e-04, 1.6714372e-04, ..., 6.3329411e-04,\n",
       "        2.1436467e-04, 2.6733978e-04], dtype=float32),\n",
       " array([5.9512415e-05, 6.9516717e-04, 2.1998001e-04, ..., 9.1394817e-04,\n",
       "        3.8610850e-04, 3.0517142e-04], dtype=float32),\n",
       " array([5.1766267e-05, 6.1533344e-04, 2.1547226e-04, ..., 8.7436853e-04,\n",
       "        3.0659334e-04, 4.1251862e-04], dtype=float32),\n",
       " array([4.2333922e-05, 5.5052870e-04, 2.1481438e-04, ..., 8.3934632e-04,\n",
       "        2.5651950e-04, 2.8818194e-04], dtype=float32),\n",
       " array([3.1327494e-05, 3.6655040e-04, 1.4571342e-04, ..., 5.6894153e-04,\n",
       "        1.9859015e-04, 2.3507822e-04], dtype=float32),\n",
       " array([5.0850293e-05, 5.9079321e-04, 2.6484014e-04, ..., 8.8265887e-04,\n",
       "        2.0449561e-04, 3.2045651e-04], dtype=float32),\n",
       " array([3.6589365e-05, 3.9036394e-04, 1.7032427e-04, ..., 7.6236622e-04,\n",
       "        2.1084586e-04, 3.3672544e-04], dtype=float32),\n",
       " array([2.9637818e-05, 5.5828918e-04, 1.5012114e-04, ..., 6.4160046e-04,\n",
       "        1.4743669e-04, 2.5013930e-04], dtype=float32),\n",
       " array([6.1473489e-05, 3.5569438e-04, 1.4441028e-04, ..., 9.4301079e-04,\n",
       "        2.6835591e-04, 5.6122430e-04], dtype=float32),\n",
       " array([2.1110429e-05, 3.5150175e-04, 1.3796476e-04, ..., 4.8466519e-04,\n",
       "        1.3110742e-04, 1.2715865e-04], dtype=float32),\n",
       " array([5.5787586e-05, 5.2707508e-04, 2.3741856e-04, ..., 8.2488917e-04,\n",
       "        2.1545500e-04, 3.6109454e-04], dtype=float32),\n",
       " array([6.2772000e-05, 5.3321262e-04, 2.0183268e-04, ..., 6.6392001e-04,\n",
       "        3.0597925e-04, 3.7073897e-04], dtype=float32),\n",
       " array([4.3719861e-05, 4.1164926e-04, 1.5474905e-04, ..., 7.8638690e-04,\n",
       "        2.6972618e-04, 4.2624929e-04], dtype=float32),\n",
       " array([4.8285976e-05, 5.0067436e-04, 2.1761745e-04, ..., 6.7967764e-04,\n",
       "        2.5530491e-04, 2.9268279e-04], dtype=float32),\n",
       " array([4.7195517e-05, 3.6849355e-04, 1.6109910e-04, ..., 9.5098373e-04,\n",
       "        2.2303475e-04, 3.3397821e-04], dtype=float32),\n",
       " array([4.8840968e-05, 3.7798638e-04, 1.2590735e-04, ..., 9.6423482e-04,\n",
       "        2.6352410e-04, 3.2694254e-04], dtype=float32),\n",
       " array([3.9208498e-05, 3.8752877e-04, 1.3003009e-04, ..., 8.0237683e-04,\n",
       "        2.0699817e-04, 2.0163359e-04], dtype=float32),\n",
       " array([7.2865529e-05, 7.1970100e-04, 2.7698878e-04, ..., 6.8326271e-04,\n",
       "        3.7393748e-04, 3.6228201e-04], dtype=float32),\n",
       " array([7.0441842e-05, 3.8705382e-04, 1.6679108e-04, ..., 7.9311483e-04,\n",
       "        2.7930969e-04, 5.3586916e-04], dtype=float32),\n",
       " array([3.2992553e-05, 3.1818060e-04, 9.2645438e-05, ..., 6.4349885e-04,\n",
       "        1.5651320e-04, 2.5764556e-04], dtype=float32),\n",
       " array([4.4886496e-05, 4.1162787e-04, 1.7348061e-04, ..., 5.6133908e-04,\n",
       "        2.6140432e-04, 2.9338375e-04], dtype=float32),\n",
       " array([3.1316980e-05, 3.2916150e-04, 1.3294441e-04, ..., 7.6437363e-04,\n",
       "        1.6561645e-04, 2.4726492e-04], dtype=float32),\n",
       " array([3.8497241e-05, 4.3700665e-04, 1.5964684e-04, ..., 6.4085604e-04,\n",
       "        2.6078199e-04, 2.8912173e-04], dtype=float32),\n",
       " array([3.4640630e-05, 3.5540559e-04, 1.4511732e-04, ..., 7.1105105e-04,\n",
       "        2.2126170e-04, 2.3268040e-04], dtype=float32),\n",
       " array([4.1918534e-05, 4.5612609e-04, 1.6774308e-04, ..., 7.1033451e-04,\n",
       "        2.5745010e-04, 4.5913982e-04], dtype=float32),\n",
       " array([3.4434153e-05, 4.3620213e-04, 1.3001260e-04, ..., 1.0016665e-03,\n",
       "        2.9755590e-04, 3.0769350e-04], dtype=float32),\n",
       " array([3.8518207e-05, 3.8367015e-04, 1.8439224e-04, ..., 6.5800914e-04,\n",
       "        2.4799851e-04, 2.6989827e-04], dtype=float32),\n",
       " array([2.1921942e-05, 3.1653137e-04, 1.2303986e-04, ..., 4.6595110e-04,\n",
       "        1.3167020e-04, 1.9521627e-04], dtype=float32),\n",
       " array([4.5315559e-05, 4.2465804e-04, 1.2958907e-04, ..., 6.2538544e-04,\n",
       "        1.9616938e-04, 2.5668467e-04], dtype=float32),\n",
       " array([5.8470090e-05, 5.4424565e-04, 2.2325602e-04, ..., 9.7409170e-04,\n",
       "        3.7750672e-04, 4.0798596e-04], dtype=float32),\n",
       " array([5.1609521e-05, 5.2137184e-04, 1.6328930e-04, ..., 8.9334173e-04,\n",
       "        3.0633129e-04, 3.7489730e-04], dtype=float32),\n",
       " array([6.2326675e-05, 4.6752254e-04, 1.9631813e-04, ..., 9.8750542e-04,\n",
       "        2.5239240e-04, 4.8652384e-04], dtype=float32),\n",
       " array([4.4263968e-05, 4.7016845e-04, 1.4540751e-04, ..., 6.7503884e-04,\n",
       "        2.2326324e-04, 2.6739330e-04], dtype=float32),\n",
       " array([2.3659732e-05, 5.2374299e-04, 1.9493057e-04, ..., 8.4276957e-04,\n",
       "        2.2618365e-04, 2.4373850e-04], dtype=float32),\n",
       " array([4.4596614e-05, 5.9843401e-04, 1.5927886e-04, ..., 1.0603816e-03,\n",
       "        2.3462233e-04, 3.3094370e-04], dtype=float32),\n",
       " array([3.9630573e-05, 4.6115616e-04, 1.7059472e-04, ..., 7.1857159e-04,\n",
       "        3.5915221e-04, 3.5267303e-04], dtype=float32),\n",
       " array([5.7511632e-05, 4.7398146e-04, 1.8344002e-04, ..., 1.0740883e-03,\n",
       "        2.7274166e-04, 3.7107663e-04], dtype=float32),\n",
       " array([5.5981196e-05, 6.2137452e-04, 1.9909294e-04, ..., 1.0417327e-03,\n",
       "        3.5025371e-04, 5.3697533e-04], dtype=float32),\n",
       " array([3.0448638e-05, 3.4153671e-04, 1.4312251e-04, ..., 1.0838923e-03,\n",
       "        1.4123051e-04, 2.6429631e-04], dtype=float32),\n",
       " array([4.0319112e-05, 3.8755132e-04, 1.4039213e-04, ..., 7.1511522e-04,\n",
       "        1.5800595e-04, 1.8690850e-04], dtype=float32),\n",
       " array([5.0097697e-05, 4.5588941e-04, 1.6962881e-04, ..., 1.0134537e-03,\n",
       "        2.3999397e-04, 4.2591602e-04], dtype=float32),\n",
       " array([4.3391683e-05, 4.1318947e-04, 1.3467378e-04, ..., 9.6886768e-04,\n",
       "        2.6132358e-04, 3.1839573e-04], dtype=float32),\n",
       " array([5.8218106e-05, 5.3847424e-04, 1.8433951e-04, ..., 1.0043125e-03,\n",
       "        4.0055820e-04, 4.8459705e-04], dtype=float32),\n",
       " array([4.4959197e-05, 4.4686176e-04, 2.5620934e-04, ..., 9.2329981e-04,\n",
       "        2.4953569e-04, 3.7340863e-04], dtype=float32),\n",
       " array([3.5862871e-05, 4.7523013e-04, 1.4263259e-04, ..., 8.3874428e-04,\n",
       "        2.7723238e-04, 2.4428964e-04], dtype=float32),\n",
       " array([5.6009019e-05, 5.0948490e-04, 1.9653370e-04, ..., 6.9535139e-04,\n",
       "        2.9866237e-04, 3.7076531e-04], dtype=float32),\n",
       " array([4.7385151e-05, 4.8885867e-04, 1.6447000e-04, ..., 1.0499837e-03,\n",
       "        2.4431571e-04, 2.4718596e-04], dtype=float32),\n",
       " array([3.8868267e-05, 3.1954766e-04, 1.2838580e-04, ..., 8.0866599e-04,\n",
       "        1.4621740e-04, 1.9112126e-04], dtype=float32),\n",
       " array([3.3858058e-05, 2.9624082e-04, 1.1673854e-04, ..., 7.5007731e-04,\n",
       "        2.1343143e-04, 2.8492539e-04], dtype=float32),\n",
       " array([6.7811947e-05, 6.2764256e-04, 2.2223701e-04, ..., 1.1266121e-03,\n",
       "        3.8366835e-04, 4.0356253e-04], dtype=float32),\n",
       " array([5.9375736e-05, 4.7711720e-04, 1.5204275e-04, ..., 8.8088150e-04,\n",
       "        2.4894730e-04, 3.8802490e-04], dtype=float32),\n",
       " array([4.3146210e-05, 4.4409282e-04, 2.1121083e-04, ..., 5.9204316e-04,\n",
       "        2.4337761e-04, 2.5843061e-04], dtype=float32),\n",
       " array([7.5400705e-05, 6.4203475e-04, 2.4220766e-04, ..., 1.3173065e-03,\n",
       "        3.1142417e-04, 5.2715425e-04], dtype=float32),\n",
       " array([3.8037975e-05, 3.1486992e-04, 1.3291843e-04, ..., 5.1129324e-04,\n",
       "        2.5312378e-04, 2.6513927e-04], dtype=float32),\n",
       " array([6.3139181e-05, 4.0306599e-04, 1.4974058e-04, ..., 1.0060305e-03,\n",
       "        2.2996384e-04, 3.3935322e-04], dtype=float32),\n",
       " array([2.4256458e-05, 3.7584180e-04, 1.2269587e-04, ..., 6.3626247e-04,\n",
       "        1.4596219e-04, 1.5814492e-04], dtype=float32),\n",
       " array([4.2977517e-05, 4.6588539e-04, 1.9184427e-04, ..., 9.2259672e-04,\n",
       "        2.0883430e-04, 3.6208730e-04], dtype=float32),\n",
       " array([3.4865763e-05, 4.1508063e-04, 1.7218431e-04, ..., 6.1198301e-04,\n",
       "        2.3600593e-04, 2.5897720e-04], dtype=float32),\n",
       " array([2.7227386e-05, 2.4552041e-04, 8.4009254e-05, ..., 6.5555790e-04,\n",
       "        1.2079813e-04, 2.0284146e-04], dtype=float32),\n",
       " array([2.5166695e-05, 3.6220226e-04, 8.6908083e-05, ..., 8.5517793e-04,\n",
       "        2.6540458e-04, 3.0570809e-04], dtype=float32),\n",
       " array([3.7975129e-05, 5.0545635e-04, 1.2241154e-04, ..., 6.5111584e-04,\n",
       "        2.5921312e-04, 2.6499524e-04], dtype=float32),\n",
       " array([3.0039231e-05, 3.2875410e-04, 1.5247990e-04, ..., 5.4508698e-04,\n",
       "        1.5657843e-04, 1.8299052e-04], dtype=float32),\n",
       " array([4.4883200e-05, 3.7493088e-04, 1.3793055e-04, ..., 8.2189200e-04,\n",
       "        2.8687296e-04, 5.4555840e-04], dtype=float32),\n",
       " array([6.5083819e-05, 5.4091489e-04, 2.3267130e-04, ..., 8.7334437e-04,\n",
       "        2.5214491e-04, 4.2110094e-04], dtype=float32),\n",
       " array([4.5836365e-05, 5.9206405e-04, 1.8190518e-04, ..., 8.2406937e-04,\n",
       "        2.2793852e-04, 3.5024469e-04], dtype=float32),\n",
       " array([2.5624973e-05, 3.2759897e-04, 1.4231606e-04, ..., 6.2617927e-04,\n",
       "        1.5641279e-04, 2.4291141e-04], dtype=float32),\n",
       " array([5.8426165e-05, 4.8009629e-04, 1.5246362e-04, ..., 1.1143788e-03,\n",
       "        2.9801982e-04, 4.9506337e-04], dtype=float32),\n",
       " array([3.3423810e-05, 5.3156691e-04, 1.6400348e-04, ..., 9.3351252e-04,\n",
       "        1.5578304e-04, 2.3514523e-04], dtype=float32),\n",
       " array([4.6682409e-05, 5.9170579e-04, 2.0367229e-04, ..., 6.0215004e-04,\n",
       "        3.1699491e-04, 2.8708775e-04], dtype=float32),\n",
       " array([6.38759666e-05, 3.51802300e-04, 1.19436285e-04, ...,\n",
       "        1.04437850e-03, 2.08866768e-04, 3.05163558e-04], dtype=float32),\n",
       " array([6.9959038e-05, 6.9910096e-04, 3.6175657e-04, ..., 1.1090190e-03,\n",
       "        3.1264979e-04, 4.9104460e-04], dtype=float32),\n",
       " array([6.9436435e-05, 4.9900060e-04, 1.7613747e-04, ..., 1.0377681e-03,\n",
       "        3.4824916e-04, 5.0373585e-04], dtype=float32),\n",
       " array([4.6965280e-05, 3.6742381e-04, 1.8096424e-04, ..., 8.9234090e-04,\n",
       "        2.0190813e-04, 3.8549304e-04], dtype=float32),\n",
       " array([4.6663670e-05, 6.0370704e-04, 1.7057503e-04, ..., 9.2846144e-04,\n",
       "        2.5269602e-04, 2.6420638e-04], dtype=float32),\n",
       " array([4.1129751e-05, 5.3883600e-04, 1.8117833e-04, ..., 1.3926864e-03,\n",
       "        1.9091854e-04, 2.9844744e-04], dtype=float32),\n",
       " array([4.2989443e-05, 5.1994179e-04, 1.8636964e-04, ..., 9.1406831e-04,\n",
       "        2.2440440e-04, 2.7552331e-04], dtype=float32),\n",
       " array([2.7636026e-05, 3.0144866e-04, 8.8402761e-05, ..., 8.7618415e-04,\n",
       "        2.0416499e-04, 3.0085203e-04], dtype=float32),\n",
       " array([3.0536543e-05, 3.0371349e-04, 8.9992791e-05, ..., 7.5514364e-04,\n",
       "        1.3600405e-04, 2.7032138e-04], dtype=float32),\n",
       " array([5.6151650e-05, 4.3079790e-04, 1.6533371e-04, ..., 8.3678932e-04,\n",
       "        2.5053407e-04, 3.7759024e-04], dtype=float32),\n",
       " array([3.6280788e-05, 5.3051283e-04, 1.9586005e-04, ..., 4.6273984e-04,\n",
       "        2.5998807e-04, 1.9819442e-04], dtype=float32),\n",
       " array([3.2559899e-05, 2.9690558e-04, 9.9521974e-05, ..., 8.0154155e-04,\n",
       "        1.7603571e-04, 2.1485577e-04], dtype=float32),\n",
       " array([4.9171886e-05, 5.0489942e-04, 1.8425235e-04, ..., 9.6384803e-04,\n",
       "        3.3395816e-04, 3.6639842e-04], dtype=float32),\n",
       " array([4.6320292e-05, 4.4550499e-04, 1.8608074e-04, ..., 8.1873406e-04,\n",
       "        2.1206705e-04, 2.9831062e-04], dtype=float32),\n",
       " array([3.3820594e-05, 3.9121686e-04, 1.2201997e-04, ..., 8.9865277e-04,\n",
       "        2.3611038e-04, 2.3679211e-04], dtype=float32),\n",
       " array([5.5503853e-05, 4.1196431e-04, 1.4750742e-04, ..., 1.0101281e-03,\n",
       "        3.1470729e-04, 3.9056403e-04], dtype=float32),\n",
       " array([0.00011138, 0.00083037, 0.00024219, ..., 0.00171469, 0.00034924,\n",
       "        0.00050397], dtype=float32),\n",
       " array([3.3584074e-05, 4.8016696e-04, 1.3626704e-04, ..., 7.9883955e-04,\n",
       "        1.8427783e-04, 1.7862744e-04], dtype=float32),\n",
       " array([5.1565050e-05, 6.9611293e-04, 2.6472099e-04, ..., 1.1421085e-03,\n",
       "        3.0897046e-04, 3.1548744e-04], dtype=float32),\n",
       " array([1.9297026e-05, 3.3031518e-04, 1.4295052e-04, ..., 5.0290779e-04,\n",
       "        1.7014863e-04, 2.0519660e-04], dtype=float32),\n",
       " array([4.1424228e-05, 4.9737771e-04, 1.5694075e-04, ..., 6.5372739e-04,\n",
       "        2.5757236e-04, 2.5757385e-04], dtype=float32),\n",
       " array([3.4625733e-05, 3.1882370e-04, 1.4578235e-04, ..., 7.2853384e-04,\n",
       "        1.9163183e-04, 2.0650732e-04], dtype=float32),\n",
       " array([3.4361918e-05, 5.7919865e-04, 1.4898318e-04, ..., 6.6489103e-04,\n",
       "        2.5451844e-04, 2.4998552e-04], dtype=float32),\n",
       " array([3.3071112e-05, 3.7321486e-04, 1.5440342e-04, ..., 7.2078063e-04,\n",
       "        2.4435882e-04, 2.1953245e-04], dtype=float32),\n",
       " array([4.1097563e-05, 5.3457415e-04, 2.4772910e-04, ..., 6.6807651e-04,\n",
       "        3.4971788e-04, 3.8088922e-04], dtype=float32),\n",
       " array([3.0132420e-05, 4.0944273e-04, 1.3354195e-04, ..., 5.2635267e-04,\n",
       "        2.0255891e-04, 3.2822360e-04], dtype=float32),\n",
       " array([3.7267473e-05, 3.0005400e-04, 1.0686289e-04, ..., 1.0828329e-03,\n",
       "        2.3341944e-04, 3.2740351e-04], dtype=float32),\n",
       " array([3.9822651e-05, 5.3034828e-04, 1.6517456e-04, ..., 1.0055116e-03,\n",
       "        3.0785252e-04, 2.5232453e-04], dtype=float32),\n",
       " array([6.0917751e-05, 6.9164037e-04, 1.9855380e-04, ..., 1.0701555e-03,\n",
       "        3.8081242e-04, 5.0752138e-04], dtype=float32),\n",
       " array([6.1864615e-05, 5.8591005e-04, 2.9532914e-04, ..., 8.5105206e-04,\n",
       "        2.5381858e-04, 3.1019445e-04], dtype=float32),\n",
       " array([4.5032357e-05, 4.1369334e-04, 2.1019191e-04, ..., 7.0417672e-04,\n",
       "        2.0524414e-04, 3.4194169e-04], dtype=float32),\n",
       " array([5.7974285e-05, 4.6010918e-04, 1.7442838e-04, ..., 8.1085000e-04,\n",
       "        1.8686877e-04, 3.3897057e-04], dtype=float32),\n",
       " array([5.5524710e-05, 6.0541928e-04, 1.6969173e-04, ..., 1.1198028e-03,\n",
       "        3.1206108e-04, 4.5276905e-04], dtype=float32),\n",
       " array([3.9341910e-05, 4.7990002e-04, 1.6444962e-04, ..., 7.8325515e-04,\n",
       "        3.1159879e-04, 3.2314059e-04], dtype=float32),\n",
       " array([5.7766672e-05, 7.2870043e-04, 2.6337666e-04, ..., 9.8206883e-04,\n",
       "        2.7233371e-04, 3.8306971e-04], dtype=float32),\n",
       " array([3.7963069e-05, 4.1596874e-04, 1.6444162e-04, ..., 7.0385437e-04,\n",
       "        2.6153220e-04, 2.0324686e-04], dtype=float32),\n",
       " array([4.7445650e-05, 4.8566781e-04, 1.6736747e-04, ..., 7.3388434e-04,\n",
       "        1.8414257e-04, 3.1548954e-04], dtype=float32),\n",
       " array([5.1988744e-05, 4.3186446e-04, 1.7778784e-04, ..., 9.7708229e-04,\n",
       "        1.7755949e-04, 3.9231507e-04], dtype=float32),\n",
       " array([6.2259074e-05, 7.6390576e-04, 2.4652624e-04, ..., 1.2096760e-03,\n",
       "        3.0938457e-04, 4.2417840e-04], dtype=float32),\n",
       " array([3.8257815e-05, 4.3144554e-04, 1.2331847e-04, ..., 7.1348826e-04,\n",
       "        2.0201327e-04, 2.6296239e-04], dtype=float32),\n",
       " array([7.0316135e-05, 4.8588542e-04, 2.1562638e-04, ..., 1.1086008e-03,\n",
       "        2.9529675e-04, 3.8911166e-04], dtype=float32),\n",
       " array([2.9635952e-05, 3.0646625e-04, 1.1666398e-04, ..., 8.3007547e-04,\n",
       "        1.4420690e-04, 2.1943620e-04], dtype=float32),\n",
       " array([4.0178435e-05, 4.5905728e-04, 1.3929165e-04, ..., 1.3223125e-03,\n",
       "        2.2760323e-04, 3.9582263e-04], dtype=float32),\n",
       " array([3.6813151e-05, 4.9681694e-04, 1.6120620e-04, ..., 7.8898243e-04,\n",
       "        2.9670296e-04, 2.2040117e-04], dtype=float32),\n",
       " array([4.7735834e-05, 7.7393971e-04, 2.9560912e-04, ..., 1.0910181e-03,\n",
       "        4.5407281e-04, 4.2253063e-04], dtype=float32),\n",
       " array([3.9748364e-05, 2.9506459e-04, 1.1402361e-04, ..., 8.1190543e-04,\n",
       "        1.7802432e-04, 2.5160218e-04], dtype=float32),\n",
       " array([2.81970242e-05, 2.64247181e-04, 1.06979125e-04, ...,\n",
       "        4.97089291e-04, 1.51533721e-04, 1.73324865e-04], dtype=float32),\n",
       " array([3.8573162e-05, 3.7249259e-04, 1.2326862e-04, ..., 1.1078186e-03,\n",
       "        1.7903735e-04, 3.5168594e-04], dtype=float32),\n",
       " array([2.8941256e-05, 3.3316473e-04, 1.0567204e-04, ..., 5.4511084e-04,\n",
       "        1.5167090e-04, 2.4395378e-04], dtype=float32),\n",
       " array([4.3454460e-05, 4.8198798e-04, 1.6616819e-04, ..., 7.8478077e-04,\n",
       "        2.6873048e-04, 3.2018166e-04], dtype=float32),\n",
       " array([3.8472208e-05, 4.2920030e-04, 1.3136407e-04, ..., 1.0412828e-03,\n",
       "        2.7109179e-04, 3.7797631e-04], dtype=float32),\n",
       " array([5.3484593e-05, 4.4726810e-04, 1.4932791e-04, ..., 8.0044853e-04,\n",
       "        2.4718503e-04, 4.2609024e-04], dtype=float32),\n",
       " array([4.6555615e-05, 3.3651330e-04, 1.2462804e-04, ..., 7.8610738e-04,\n",
       "        1.7886159e-04, 3.2633124e-04], dtype=float32),\n",
       " array([5.3762578e-05, 3.2013954e-04, 1.5541153e-04, ..., 7.6814328e-04,\n",
       "        1.9867366e-04, 3.7184972e-04], dtype=float32),\n",
       " array([2.7165193e-05, 4.1045120e-04, 1.4231158e-04, ..., 6.1441894e-04,\n",
       "        2.1745049e-04, 2.2551889e-04], dtype=float32),\n",
       " array([5.4308319e-05, 5.8548833e-04, 1.8833556e-04, ..., 1.1272904e-03,\n",
       "        2.5244462e-04, 4.5074118e-04], dtype=float32),\n",
       " array([6.3825610e-05, 7.1973325e-04, 2.3037227e-04, ..., 1.0753886e-03,\n",
       "        3.2343031e-04, 4.0022633e-04], dtype=float32),\n",
       " array([6.4718668e-05, 6.3255936e-04, 2.6080338e-04, ..., 1.2245482e-03,\n",
       "        3.3932395e-04, 3.7624905e-04], dtype=float32),\n",
       " array([4.2538773e-05, 4.0380249e-04, 1.8254005e-04, ..., 7.3326187e-04,\n",
       "        2.7124176e-04, 2.8862929e-04], dtype=float32),\n",
       " array([5.1360501e-05, 3.1380099e-04, 1.3142133e-04, ..., 5.0922035e-04,\n",
       "        2.2625267e-04, 3.4672199e-04], dtype=float32),\n",
       " array([3.1486863e-05, 4.7925659e-04, 1.6210623e-04, ..., 7.9120276e-04,\n",
       "        2.0299743e-04, 2.4067957e-04], dtype=float32),\n",
       " array([5.8625414e-05, 5.5445108e-04, 1.9722903e-04, ..., 8.0532202e-04,\n",
       "        2.8963434e-04, 3.1524300e-04], dtype=float32),\n",
       " array([8.9572080e-05, 8.9260284e-04, 3.3411800e-04, ..., 1.6545344e-03,\n",
       "        4.6143431e-04, 5.7765469e-04], dtype=float32),\n",
       " array([5.4967582e-05, 3.7781367e-04, 1.3570520e-04, ..., 7.0257840e-04,\n",
       "        2.2797374e-04, 3.5084473e-04], dtype=float32),\n",
       " array([3.9314007e-05, 4.0234157e-04, 1.4317015e-04, ..., 6.8286335e-04,\n",
       "        2.4560871e-04, 2.0523006e-04], dtype=float32),\n",
       " array([6.7643959e-05, 5.1456259e-04, 2.2918309e-04, ..., 1.5715335e-03,\n",
       "        2.8593992e-04, 4.3959040e-04], dtype=float32),\n",
       " array([5.6533827e-05, 6.1287667e-04, 2.2785812e-04, ..., 1.0315566e-03,\n",
       "        3.7976343e-04, 4.0896726e-04], dtype=float32),\n",
       " array([6.4017440e-05, 5.3959974e-04, 1.9809145e-04, ..., 1.5618370e-03,\n",
       "        2.8562793e-04, 5.2554929e-04], dtype=float32),\n",
       " array([2.6832384e-05, 2.3262539e-04, 1.2122891e-04, ..., 5.7429337e-04,\n",
       "        1.8890208e-04, 2.3512752e-04], dtype=float32),\n",
       " array([7.0512338e-05, 6.2896684e-04, 2.3949634e-04, ..., 1.5580612e-03,\n",
       "        3.2344821e-04, 3.8303976e-04], dtype=float32),\n",
       " array([2.7534825e-05, 3.5895608e-04, 1.0603532e-04, ..., 7.0647389e-04,\n",
       "        1.6409515e-04, 1.6110738e-04], dtype=float32),\n",
       " array([3.5095705e-05, 4.7668692e-04, 1.2612808e-04, ..., 9.6713845e-04,\n",
       "        1.7334239e-04, 3.4132024e-04], dtype=float32),\n",
       " array([5.8916452e-05, 5.6205434e-04, 1.6897774e-04, ..., 1.4620988e-03,\n",
       "        2.5092324e-04, 4.3341701e-04], dtype=float32),\n",
       " array([5.5764234e-05, 4.5912951e-04, 1.8265234e-04, ..., 9.5822796e-04,\n",
       "        2.7058466e-04, 3.3650512e-04], dtype=float32),\n",
       " array([4.0987659e-05, 4.0578574e-04, 1.4762716e-04, ..., 8.1912382e-04,\n",
       "        2.8701138e-04, 3.2876193e-04], dtype=float32),\n",
       " array([4.2201391e-05, 3.8841643e-04, 1.2057512e-04, ..., 1.0175093e-03,\n",
       "        2.0184960e-04, 2.4853842e-04], dtype=float32),\n",
       " array([5.3986008e-05, 5.3777953e-04, 1.7230552e-04, ..., 1.0618879e-03,\n",
       "        2.8782248e-04, 2.9390893e-04], dtype=float32),\n",
       " array([5.4409866e-05, 6.0692057e-04, 2.0600426e-04, ..., 1.2960229e-03,\n",
       "        2.9591308e-04, 2.0393619e-04], dtype=float32),\n",
       " array([6.2162369e-05, 4.6835086e-04, 1.6003380e-04, ..., 9.9872344e-04,\n",
       "        3.2155239e-04, 3.3271906e-04], dtype=float32),\n",
       " array([4.5598103e-05, 6.1762612e-04, 2.3596498e-04, ..., 8.2539394e-04,\n",
       "        3.5314422e-04, 2.9737980e-04], dtype=float32),\n",
       " array([5.0155679e-05, 5.8720401e-04, 2.0231745e-04, ..., 7.8175863e-04,\n",
       "        2.4638008e-04, 3.8570954e-04], dtype=float32),\n",
       " array([5.4704135e-05, 7.2705647e-04, 2.0928439e-04, ..., 1.5245411e-03,\n",
       "        3.8787990e-04, 3.7727554e-04], dtype=float32),\n",
       " array([3.3985805e-05, 3.6871564e-04, 1.0177599e-04, ..., 6.3925661e-04,\n",
       "        2.0524394e-04, 2.3193816e-04], dtype=float32),\n",
       " array([3.8447564e-05, 5.2659475e-04, 1.5268693e-04, ..., 7.6527370e-04,\n",
       "        2.2246470e-04, 2.4084486e-04], dtype=float32),\n",
       " array([4.0854702e-05, 5.2945118e-04, 1.6187794e-04, ..., 7.1685686e-04,\n",
       "        1.8035667e-04, 2.1919195e-04], dtype=float32),\n",
       " array([7.4524527e-05, 6.4434326e-04, 2.5571857e-04, ..., 1.2721221e-03,\n",
       "        2.9653215e-04, 5.1525712e-04], dtype=float32),\n",
       " array([4.6720801e-05, 4.4096573e-04, 2.1225397e-04, ..., 1.0116175e-03,\n",
       "        2.3043004e-04, 2.6430388e-04], dtype=float32),\n",
       " array([8.0371770e-05, 6.1892311e-04, 2.3994638e-04, ..., 1.0550658e-03,\n",
       "        3.6971559e-04, 4.4092894e-04], dtype=float32),\n",
       " array([3.8660623e-05, 4.3969724e-04, 1.3409868e-04, ..., 7.7853026e-04,\n",
       "        2.0470981e-04, 2.9688264e-04], dtype=float32),\n",
       " array([4.8945269e-05, 5.8047083e-04, 2.3878634e-04, ..., 6.8334281e-04,\n",
       "        2.5279194e-04, 3.9237979e-04], dtype=float32),\n",
       " array([5.2187130e-05, 5.5626436e-04, 1.9592974e-04, ..., 1.2842519e-03,\n",
       "        3.8125939e-04, 4.2908388e-04], dtype=float32),\n",
       " array([6.1275248e-05, 5.3847145e-04, 2.2791463e-04, ..., 1.1163827e-03,\n",
       "        2.3173857e-04, 3.8964493e-04], dtype=float32),\n",
       " array([4.1367497e-05, 4.4622217e-04, 1.9643217e-04, ..., 6.9843035e-04,\n",
       "        2.9807325e-04, 3.1528957e-04], dtype=float32),\n",
       " array([2.3268463e-05, 2.6845853e-04, 9.2856382e-05, ..., 6.0496561e-04,\n",
       "        1.2309267e-04, 1.9420852e-04], dtype=float32),\n",
       " array([4.3733995e-05, 4.9907982e-04, 1.5437427e-04, ..., 6.3959241e-04,\n",
       "        1.9963051e-04, 3.1796499e-04], dtype=float32),\n",
       " array([4.0749332e-05, 5.7342008e-04, 1.7291761e-04, ..., 1.0956868e-03,\n",
       "        2.7406533e-04, 3.2880611e-04], dtype=float32),\n",
       " array([4.9466071e-05, 5.9134362e-04, 2.2585910e-04, ..., 9.8507304e-04,\n",
       "        2.2893172e-04, 4.1582444e-04], dtype=float32),\n",
       " array([3.3804987e-05, 3.6649013e-04, 1.4148674e-04, ..., 1.1721172e-03,\n",
       "        1.3084513e-04, 3.0039289e-04], dtype=float32),\n",
       " array([2.8388375e-05, 3.2676893e-04, 1.7090244e-04, ..., 6.1787135e-04,\n",
       "        2.1475233e-04, 2.6805364e-04], dtype=float32),\n",
       " array([4.6920341e-05, 5.3923106e-04, 2.0631346e-04, ..., 8.7983336e-04,\n",
       "        2.7516313e-04, 3.5291989e-04], dtype=float32),\n",
       " array([4.8754737e-05, 4.8103766e-04, 1.6848654e-04, ..., 1.2067661e-03,\n",
       "        2.3242032e-04, 3.8094239e-04], dtype=float32),\n",
       " array([6.0114395e-05, 5.8520603e-04, 1.9970877e-04, ..., 1.0402085e-03,\n",
       "        2.4226517e-04, 4.6663938e-04], dtype=float32),\n",
       " array([3.4844656e-05, 4.0399347e-04, 1.3745383e-04, ..., 7.3375431e-04,\n",
       "        2.8644386e-04, 2.8764829e-04], dtype=float32),\n",
       " array([5.6617508e-05, 8.0276182e-04, 2.9400171e-04, ..., 1.3203532e-03,\n",
       "        3.0732263e-04, 3.9128031e-04], dtype=float32),\n",
       " array([4.6354315e-05, 3.7664760e-04, 1.5104194e-04, ..., 5.8649929e-04,\n",
       "        2.2879925e-04, 3.3842793e-04], dtype=float32),\n",
       " array([3.9828425e-05, 4.0507555e-04, 1.3006729e-04, ..., 9.6351432e-04,\n",
       "        1.8748842e-04, 2.5024186e-04], dtype=float32),\n",
       " array([1.7091397e-05, 3.2343771e-04, 1.2496316e-04, ..., 5.7757541e-04,\n",
       "        2.7236954e-04, 1.7571458e-04], dtype=float32),\n",
       " array([5.3024283e-05, 5.2383036e-04, 1.6956104e-04, ..., 8.2320406e-04,\n",
       "        2.5009565e-04, 2.8940660e-04], dtype=float32),\n",
       " array([3.9637795e-05, 4.5292333e-04, 1.3174994e-04, ..., 1.3715664e-03,\n",
       "        2.1577756e-04, 2.4562437e-04], dtype=float32),\n",
       " array([4.5462381e-05, 3.6064402e-04, 1.3098220e-04, ..., 7.9079909e-04,\n",
       "        3.3823989e-04, 4.1665390e-04], dtype=float32),\n",
       " array([3.8226488e-05, 4.9299980e-04, 1.7622717e-04, ..., 8.3059014e-04,\n",
       "        2.9694889e-04, 2.7623426e-04], dtype=float32),\n",
       " array([3.3532135e-05, 4.4880240e-04, 1.3826502e-04, ..., 7.1903015e-04,\n",
       "        2.4846449e-04, 2.9817160e-04], dtype=float32),\n",
       " array([7.3146919e-05, 5.3097366e-04, 2.0632389e-04, ..., 9.6010591e-04,\n",
       "        2.9139285e-04, 4.0593895e-04], dtype=float32),\n",
       " array([4.6673373e-05, 4.2270689e-04, 1.4239995e-04, ..., 1.0502107e-03,\n",
       "        2.0976625e-04, 3.9587510e-04], dtype=float32),\n",
       " array([6.1746388e-05, 4.9150770e-04, 1.8304026e-04, ..., 9.1796136e-04,\n",
       "        2.7945300e-04, 4.1766319e-04], dtype=float32),\n",
       " array([7.4452786e-05, 6.1613682e-04, 2.5969598e-04, ..., 1.2596084e-03,\n",
       "        3.9085347e-04, 5.1782175e-04], dtype=float32),\n",
       " array([4.9861581e-05, 5.7418796e-04, 1.8134199e-04, ..., 1.1063062e-03,\n",
       "        3.4308046e-04, 4.5013209e-04], dtype=float32),\n",
       " array([2.3639568e-05, 4.2030343e-04, 1.2139004e-04, ..., 7.2213274e-04,\n",
       "        1.3591484e-04, 1.5662845e-04], dtype=float32),\n",
       " array([6.0731276e-05, 4.7590240e-04, 2.2294374e-04, ..., 8.7896071e-04,\n",
       "        2.3665218e-04, 3.8329838e-04], dtype=float32),\n",
       " array([4.4930908e-05, 4.4938011e-04, 1.6643951e-04, ..., 1.0237605e-03,\n",
       "        2.2018229e-04, 3.1134015e-04], dtype=float32),\n",
       " array([5.3961048e-05, 4.8450765e-04, 1.3532373e-04, ..., 1.2473494e-03,\n",
       "        2.9202137e-04, 5.3603342e-04], dtype=float32),\n",
       " array([3.9615235e-05, 4.6860607e-04, 1.7240265e-04, ..., 7.7838375e-04,\n",
       "        2.0033048e-04, 3.2825457e-04], dtype=float32),\n",
       " array([3.3935736e-05, 5.7043502e-04, 2.5909970e-04, ..., 5.5174716e-04,\n",
       "        1.9486925e-04, 2.0496293e-04], dtype=float32),\n",
       " array([2.8795594e-05, 2.9311870e-04, 1.2871074e-04, ..., 7.3642324e-04,\n",
       "        1.4763899e-04, 2.5605550e-04], dtype=float32),\n",
       " array([4.0422441e-05, 3.9330873e-04, 1.2810051e-04, ..., 7.9304684e-04,\n",
       "        2.2401383e-04, 3.4747829e-04], dtype=float32),\n",
       " array([3.4867524e-05, 5.7559070e-04, 1.7054008e-04, ..., 7.3599210e-04,\n",
       "        1.9028828e-04, 1.6991630e-04], dtype=float32),\n",
       " array([5.0327493e-05, 5.2976544e-04, 1.7468701e-04, ..., 1.2193287e-03,\n",
       "        2.3729567e-04, 2.8674910e-04], dtype=float32),\n",
       " ...]"
      ]
     },
     "execution_count": 23,
     "metadata": {},
     "output_type": "execute_result"
    }
   ],
   "source": [
    "import random\n",
    "\n",
    "# Create a vector of zero tensors representing 0 average per num_feature (right in the middle of the dist)\n",
    "sampled_mu = torch.Tensor([np.zeros(num_features)])\n",
    "\n",
    "# Create a vector of zero tensors representing 0 standard deviations away from the mean to create variations\n",
    "# Change this is you want to sample away from the mean to create \"off-quality\" data\n",
    "sampled_logvar = torch.Tensor([np.zeros(num_features)])\n",
    "\n",
    "X_train_negative_copy = X_train_negative.detach().cpu().numpy().copy()\n",
    "added_data_to_minority = []\n",
    "\n",
    "for i in range(ave_pos_neutral-len(X_train_negative)):\n",
    "    reconstruction = model.sample(sampled_mu, sampled_logvar)\n",
    "    reconstruction = reconstruction[0].detach().cpu().numpy()\n",
    "    added_data_to_minority.append(reconstruction)\n",
    "\n",
    "added_data_to_minority"
   ]
  },
  {
   "cell_type": "code",
   "execution_count": 24,
   "metadata": {},
   "outputs": [
    {
     "data": {
      "text/plain": [
       "(20964, 5000)"
      ]
     },
     "execution_count": 24,
     "metadata": {},
     "output_type": "execute_result"
    }
   ],
   "source": [
    "X_negative = np.concatenate((X_train_negative_copy, added_data_to_minority))\n",
    "X_negative.shape"
   ]
  },
  {
   "cell_type": "code",
   "execution_count": 25,
   "metadata": {},
   "outputs": [
    {
     "data": {
      "text/html": [
       "<div>\n",
       "<style scoped>\n",
       "    .dataframe tbody tr th:only-of-type {\n",
       "        vertical-align: middle;\n",
       "    }\n",
       "\n",
       "    .dataframe tbody tr th {\n",
       "        vertical-align: top;\n",
       "    }\n",
       "\n",
       "    .dataframe thead th {\n",
       "        text-align: right;\n",
       "    }\n",
       "</style>\n",
       "<table border=\"1\" class=\"dataframe\">\n",
       "  <thead>\n",
       "    <tr style=\"text-align: right;\">\n",
       "      <th></th>\n",
       "      <th>0</th>\n",
       "      <th>1</th>\n",
       "      <th>2</th>\n",
       "      <th>3</th>\n",
       "      <th>4</th>\n",
       "      <th>5</th>\n",
       "      <th>6</th>\n",
       "      <th>7</th>\n",
       "      <th>8</th>\n",
       "      <th>9</th>\n",
       "      <th>...</th>\n",
       "      <th>4991</th>\n",
       "      <th>4992</th>\n",
       "      <th>4993</th>\n",
       "      <th>4994</th>\n",
       "      <th>4995</th>\n",
       "      <th>4996</th>\n",
       "      <th>4997</th>\n",
       "      <th>4998</th>\n",
       "      <th>4999</th>\n",
       "      <th>5000</th>\n",
       "    </tr>\n",
       "  </thead>\n",
       "  <tbody>\n",
       "    <tr>\n",
       "      <th>0</th>\n",
       "      <td>0.000000</td>\n",
       "      <td>0.000000</td>\n",
       "      <td>0.000000</td>\n",
       "      <td>0.000000</td>\n",
       "      <td>0.000000</td>\n",
       "      <td>0.000000</td>\n",
       "      <td>0.000000</td>\n",
       "      <td>0.000000</td>\n",
       "      <td>0.000000</td>\n",
       "      <td>0.000000</td>\n",
       "      <td>...</td>\n",
       "      <td>0.000000</td>\n",
       "      <td>0.000000e+00</td>\n",
       "      <td>0.000000</td>\n",
       "      <td>0.000000</td>\n",
       "      <td>0.000000</td>\n",
       "      <td>0.000000</td>\n",
       "      <td>0.000000</td>\n",
       "      <td>0.000000</td>\n",
       "      <td>0.000000</td>\n",
       "      <td>0</td>\n",
       "    </tr>\n",
       "    <tr>\n",
       "      <th>1</th>\n",
       "      <td>0.000000</td>\n",
       "      <td>0.000000</td>\n",
       "      <td>0.000000</td>\n",
       "      <td>0.000000</td>\n",
       "      <td>0.000000</td>\n",
       "      <td>0.000000</td>\n",
       "      <td>0.000000</td>\n",
       "      <td>0.000000</td>\n",
       "      <td>0.000000</td>\n",
       "      <td>0.000000</td>\n",
       "      <td>...</td>\n",
       "      <td>0.000000</td>\n",
       "      <td>0.000000e+00</td>\n",
       "      <td>0.000000</td>\n",
       "      <td>0.000000</td>\n",
       "      <td>0.000000</td>\n",
       "      <td>0.000000</td>\n",
       "      <td>0.000000</td>\n",
       "      <td>0.000000</td>\n",
       "      <td>0.000000</td>\n",
       "      <td>0</td>\n",
       "    </tr>\n",
       "    <tr>\n",
       "      <th>2</th>\n",
       "      <td>0.000000</td>\n",
       "      <td>0.000000</td>\n",
       "      <td>0.000000</td>\n",
       "      <td>0.000000</td>\n",
       "      <td>0.000000</td>\n",
       "      <td>0.000000</td>\n",
       "      <td>0.000000</td>\n",
       "      <td>0.000000</td>\n",
       "      <td>0.000000</td>\n",
       "      <td>0.000000</td>\n",
       "      <td>...</td>\n",
       "      <td>0.000000</td>\n",
       "      <td>0.000000e+00</td>\n",
       "      <td>0.000000</td>\n",
       "      <td>0.000000</td>\n",
       "      <td>0.000000</td>\n",
       "      <td>0.000000</td>\n",
       "      <td>0.000000</td>\n",
       "      <td>0.000000</td>\n",
       "      <td>0.000000</td>\n",
       "      <td>0</td>\n",
       "    </tr>\n",
       "    <tr>\n",
       "      <th>3</th>\n",
       "      <td>0.000000</td>\n",
       "      <td>0.000000</td>\n",
       "      <td>0.000000</td>\n",
       "      <td>0.000000</td>\n",
       "      <td>0.000000</td>\n",
       "      <td>0.000000</td>\n",
       "      <td>0.000000</td>\n",
       "      <td>0.000000</td>\n",
       "      <td>0.000000</td>\n",
       "      <td>0.000000</td>\n",
       "      <td>...</td>\n",
       "      <td>0.000000</td>\n",
       "      <td>0.000000e+00</td>\n",
       "      <td>0.000000</td>\n",
       "      <td>0.000000</td>\n",
       "      <td>0.000000</td>\n",
       "      <td>0.000000</td>\n",
       "      <td>0.000000</td>\n",
       "      <td>0.000000</td>\n",
       "      <td>0.000000</td>\n",
       "      <td>0</td>\n",
       "    </tr>\n",
       "    <tr>\n",
       "      <th>4</th>\n",
       "      <td>0.000000</td>\n",
       "      <td>0.000000</td>\n",
       "      <td>0.000000</td>\n",
       "      <td>0.000000</td>\n",
       "      <td>0.000000</td>\n",
       "      <td>0.000000</td>\n",
       "      <td>0.000000</td>\n",
       "      <td>0.000000</td>\n",
       "      <td>0.000000</td>\n",
       "      <td>0.000000</td>\n",
       "      <td>...</td>\n",
       "      <td>0.000000</td>\n",
       "      <td>0.000000e+00</td>\n",
       "      <td>0.000000</td>\n",
       "      <td>0.000000</td>\n",
       "      <td>0.000000</td>\n",
       "      <td>0.000000</td>\n",
       "      <td>0.000000</td>\n",
       "      <td>0.000000</td>\n",
       "      <td>0.000000</td>\n",
       "      <td>0</td>\n",
       "    </tr>\n",
       "    <tr>\n",
       "      <th>...</th>\n",
       "      <td>...</td>\n",
       "      <td>...</td>\n",
       "      <td>...</td>\n",
       "      <td>...</td>\n",
       "      <td>...</td>\n",
       "      <td>...</td>\n",
       "      <td>...</td>\n",
       "      <td>...</td>\n",
       "      <td>...</td>\n",
       "      <td>...</td>\n",
       "      <td>...</td>\n",
       "      <td>...</td>\n",
       "      <td>...</td>\n",
       "      <td>...</td>\n",
       "      <td>...</td>\n",
       "      <td>...</td>\n",
       "      <td>...</td>\n",
       "      <td>...</td>\n",
       "      <td>...</td>\n",
       "      <td>...</td>\n",
       "      <td>...</td>\n",
       "    </tr>\n",
       "    <tr>\n",
       "      <th>20959</th>\n",
       "      <td>0.000051</td>\n",
       "      <td>0.000604</td>\n",
       "      <td>0.000176</td>\n",
       "      <td>0.000144</td>\n",
       "      <td>0.000515</td>\n",
       "      <td>0.000606</td>\n",
       "      <td>0.000057</td>\n",
       "      <td>0.000124</td>\n",
       "      <td>0.001340</td>\n",
       "      <td>0.000488</td>\n",
       "      <td>...</td>\n",
       "      <td>0.000254</td>\n",
       "      <td>2.857842e-06</td>\n",
       "      <td>0.001973</td>\n",
       "      <td>0.000438</td>\n",
       "      <td>0.000720</td>\n",
       "      <td>0.000238</td>\n",
       "      <td>0.000749</td>\n",
       "      <td>0.000323</td>\n",
       "      <td>0.000343</td>\n",
       "      <td>0</td>\n",
       "    </tr>\n",
       "    <tr>\n",
       "      <th>20960</th>\n",
       "      <td>0.000092</td>\n",
       "      <td>0.000755</td>\n",
       "      <td>0.000272</td>\n",
       "      <td>0.000249</td>\n",
       "      <td>0.000827</td>\n",
       "      <td>0.000730</td>\n",
       "      <td>0.000149</td>\n",
       "      <td>0.000176</td>\n",
       "      <td>0.002006</td>\n",
       "      <td>0.000840</td>\n",
       "      <td>...</td>\n",
       "      <td>0.000633</td>\n",
       "      <td>5.525983e-06</td>\n",
       "      <td>0.003514</td>\n",
       "      <td>0.000621</td>\n",
       "      <td>0.000844</td>\n",
       "      <td>0.000254</td>\n",
       "      <td>0.001343</td>\n",
       "      <td>0.000359</td>\n",
       "      <td>0.000502</td>\n",
       "      <td>0</td>\n",
       "    </tr>\n",
       "    <tr>\n",
       "      <th>20961</th>\n",
       "      <td>0.000037</td>\n",
       "      <td>0.000370</td>\n",
       "      <td>0.000114</td>\n",
       "      <td>0.000114</td>\n",
       "      <td>0.000368</td>\n",
       "      <td>0.000553</td>\n",
       "      <td>0.000070</td>\n",
       "      <td>0.000090</td>\n",
       "      <td>0.000868</td>\n",
       "      <td>0.000445</td>\n",
       "      <td>...</td>\n",
       "      <td>0.000291</td>\n",
       "      <td>2.306719e-06</td>\n",
       "      <td>0.001581</td>\n",
       "      <td>0.000405</td>\n",
       "      <td>0.000404</td>\n",
       "      <td>0.000139</td>\n",
       "      <td>0.001075</td>\n",
       "      <td>0.000181</td>\n",
       "      <td>0.000289</td>\n",
       "      <td>0</td>\n",
       "    </tr>\n",
       "    <tr>\n",
       "      <th>20962</th>\n",
       "      <td>0.000044</td>\n",
       "      <td>0.000491</td>\n",
       "      <td>0.000127</td>\n",
       "      <td>0.000170</td>\n",
       "      <td>0.000632</td>\n",
       "      <td>0.000454</td>\n",
       "      <td>0.000067</td>\n",
       "      <td>0.000092</td>\n",
       "      <td>0.001417</td>\n",
       "      <td>0.000674</td>\n",
       "      <td>...</td>\n",
       "      <td>0.000361</td>\n",
       "      <td>3.287385e-06</td>\n",
       "      <td>0.002735</td>\n",
       "      <td>0.000546</td>\n",
       "      <td>0.000745</td>\n",
       "      <td>0.000214</td>\n",
       "      <td>0.000767</td>\n",
       "      <td>0.000283</td>\n",
       "      <td>0.000281</td>\n",
       "      <td>0</td>\n",
       "    </tr>\n",
       "    <tr>\n",
       "      <th>20963</th>\n",
       "      <td>0.000020</td>\n",
       "      <td>0.000209</td>\n",
       "      <td>0.000080</td>\n",
       "      <td>0.000059</td>\n",
       "      <td>0.000325</td>\n",
       "      <td>0.000345</td>\n",
       "      <td>0.000034</td>\n",
       "      <td>0.000063</td>\n",
       "      <td>0.000607</td>\n",
       "      <td>0.000324</td>\n",
       "      <td>...</td>\n",
       "      <td>0.000229</td>\n",
       "      <td>9.578946e-07</td>\n",
       "      <td>0.001504</td>\n",
       "      <td>0.000379</td>\n",
       "      <td>0.000346</td>\n",
       "      <td>0.000101</td>\n",
       "      <td>0.000437</td>\n",
       "      <td>0.000158</td>\n",
       "      <td>0.000178</td>\n",
       "      <td>0</td>\n",
       "    </tr>\n",
       "  </tbody>\n",
       "</table>\n",
       "<p>20964 rows × 5001 columns</p>\n",
       "</div>"
      ],
      "text/plain": [
       "           0         1         2         3         4         5         6     \\\n",
       "0      0.000000  0.000000  0.000000  0.000000  0.000000  0.000000  0.000000   \n",
       "1      0.000000  0.000000  0.000000  0.000000  0.000000  0.000000  0.000000   \n",
       "2      0.000000  0.000000  0.000000  0.000000  0.000000  0.000000  0.000000   \n",
       "3      0.000000  0.000000  0.000000  0.000000  0.000000  0.000000  0.000000   \n",
       "4      0.000000  0.000000  0.000000  0.000000  0.000000  0.000000  0.000000   \n",
       "...         ...       ...       ...       ...       ...       ...       ...   \n",
       "20959  0.000051  0.000604  0.000176  0.000144  0.000515  0.000606  0.000057   \n",
       "20960  0.000092  0.000755  0.000272  0.000249  0.000827  0.000730  0.000149   \n",
       "20961  0.000037  0.000370  0.000114  0.000114  0.000368  0.000553  0.000070   \n",
       "20962  0.000044  0.000491  0.000127  0.000170  0.000632  0.000454  0.000067   \n",
       "20963  0.000020  0.000209  0.000080  0.000059  0.000325  0.000345  0.000034   \n",
       "\n",
       "           7         8         9     ...      4991          4992      4993  \\\n",
       "0      0.000000  0.000000  0.000000  ...  0.000000  0.000000e+00  0.000000   \n",
       "1      0.000000  0.000000  0.000000  ...  0.000000  0.000000e+00  0.000000   \n",
       "2      0.000000  0.000000  0.000000  ...  0.000000  0.000000e+00  0.000000   \n",
       "3      0.000000  0.000000  0.000000  ...  0.000000  0.000000e+00  0.000000   \n",
       "4      0.000000  0.000000  0.000000  ...  0.000000  0.000000e+00  0.000000   \n",
       "...         ...       ...       ...  ...       ...           ...       ...   \n",
       "20959  0.000124  0.001340  0.000488  ...  0.000254  2.857842e-06  0.001973   \n",
       "20960  0.000176  0.002006  0.000840  ...  0.000633  5.525983e-06  0.003514   \n",
       "20961  0.000090  0.000868  0.000445  ...  0.000291  2.306719e-06  0.001581   \n",
       "20962  0.000092  0.001417  0.000674  ...  0.000361  3.287385e-06  0.002735   \n",
       "20963  0.000063  0.000607  0.000324  ...  0.000229  9.578946e-07  0.001504   \n",
       "\n",
       "           4994      4995      4996      4997      4998      4999  5000  \n",
       "0      0.000000  0.000000  0.000000  0.000000  0.000000  0.000000     0  \n",
       "1      0.000000  0.000000  0.000000  0.000000  0.000000  0.000000     0  \n",
       "2      0.000000  0.000000  0.000000  0.000000  0.000000  0.000000     0  \n",
       "3      0.000000  0.000000  0.000000  0.000000  0.000000  0.000000     0  \n",
       "4      0.000000  0.000000  0.000000  0.000000  0.000000  0.000000     0  \n",
       "...         ...       ...       ...       ...       ...       ...   ...  \n",
       "20959  0.000438  0.000720  0.000238  0.000749  0.000323  0.000343     0  \n",
       "20960  0.000621  0.000844  0.000254  0.001343  0.000359  0.000502     0  \n",
       "20961  0.000405  0.000404  0.000139  0.001075  0.000181  0.000289     0  \n",
       "20962  0.000546  0.000745  0.000214  0.000767  0.000283  0.000281     0  \n",
       "20963  0.000379  0.000346  0.000101  0.000437  0.000158  0.000178     0  \n",
       "\n",
       "[20964 rows x 5001 columns]"
      ]
     },
     "execution_count": 25,
     "metadata": {},
     "output_type": "execute_result"
    }
   ],
   "source": [
    "X_negative = pd.DataFrame(X_negative)\n",
    "X_negative[5000] = 0\n",
    "X_negative"
   ]
  },
  {
   "cell_type": "code",
   "execution_count": 26,
   "metadata": {},
   "outputs": [
    {
     "data": {
      "text/html": [
       "<div>\n",
       "<style scoped>\n",
       "    .dataframe tbody tr th:only-of-type {\n",
       "        vertical-align: middle;\n",
       "    }\n",
       "\n",
       "    .dataframe tbody tr th {\n",
       "        vertical-align: top;\n",
       "    }\n",
       "\n",
       "    .dataframe thead th {\n",
       "        text-align: right;\n",
       "    }\n",
       "</style>\n",
       "<table border=\"1\" class=\"dataframe\">\n",
       "  <thead>\n",
       "    <tr style=\"text-align: right;\">\n",
       "      <th></th>\n",
       "      <th>0</th>\n",
       "      <th>1</th>\n",
       "      <th>2</th>\n",
       "      <th>3</th>\n",
       "      <th>4</th>\n",
       "      <th>5</th>\n",
       "      <th>6</th>\n",
       "      <th>7</th>\n",
       "      <th>8</th>\n",
       "      <th>9</th>\n",
       "      <th>...</th>\n",
       "      <th>4991</th>\n",
       "      <th>4992</th>\n",
       "      <th>4993</th>\n",
       "      <th>4994</th>\n",
       "      <th>4995</th>\n",
       "      <th>4996</th>\n",
       "      <th>4997</th>\n",
       "      <th>4998</th>\n",
       "      <th>4999</th>\n",
       "      <th>5000</th>\n",
       "    </tr>\n",
       "  </thead>\n",
       "  <tbody>\n",
       "    <tr>\n",
       "      <th>0</th>\n",
       "      <td>0.0</td>\n",
       "      <td>0.0</td>\n",
       "      <td>0.0</td>\n",
       "      <td>0.0</td>\n",
       "      <td>0.0</td>\n",
       "      <td>0.0</td>\n",
       "      <td>0.0</td>\n",
       "      <td>0.0</td>\n",
       "      <td>0.0</td>\n",
       "      <td>0.0</td>\n",
       "      <td>...</td>\n",
       "      <td>0.0</td>\n",
       "      <td>0.0</td>\n",
       "      <td>0.0</td>\n",
       "      <td>0.0</td>\n",
       "      <td>0.0</td>\n",
       "      <td>0.0</td>\n",
       "      <td>0.0</td>\n",
       "      <td>0.0</td>\n",
       "      <td>0.0</td>\n",
       "      <td>1.0</td>\n",
       "    </tr>\n",
       "    <tr>\n",
       "      <th>1</th>\n",
       "      <td>0.0</td>\n",
       "      <td>0.0</td>\n",
       "      <td>0.0</td>\n",
       "      <td>0.0</td>\n",
       "      <td>0.0</td>\n",
       "      <td>0.0</td>\n",
       "      <td>0.0</td>\n",
       "      <td>0.0</td>\n",
       "      <td>0.0</td>\n",
       "      <td>0.0</td>\n",
       "      <td>...</td>\n",
       "      <td>0.0</td>\n",
       "      <td>0.0</td>\n",
       "      <td>0.0</td>\n",
       "      <td>0.0</td>\n",
       "      <td>0.0</td>\n",
       "      <td>0.0</td>\n",
       "      <td>0.0</td>\n",
       "      <td>0.0</td>\n",
       "      <td>0.0</td>\n",
       "      <td>1.0</td>\n",
       "    </tr>\n",
       "    <tr>\n",
       "      <th>2</th>\n",
       "      <td>0.0</td>\n",
       "      <td>0.0</td>\n",
       "      <td>0.0</td>\n",
       "      <td>0.0</td>\n",
       "      <td>0.0</td>\n",
       "      <td>0.0</td>\n",
       "      <td>0.0</td>\n",
       "      <td>0.0</td>\n",
       "      <td>0.0</td>\n",
       "      <td>0.0</td>\n",
       "      <td>...</td>\n",
       "      <td>0.0</td>\n",
       "      <td>0.0</td>\n",
       "      <td>0.0</td>\n",
       "      <td>0.0</td>\n",
       "      <td>0.0</td>\n",
       "      <td>0.0</td>\n",
       "      <td>0.0</td>\n",
       "      <td>0.0</td>\n",
       "      <td>0.0</td>\n",
       "      <td>1.0</td>\n",
       "    </tr>\n",
       "    <tr>\n",
       "      <th>3</th>\n",
       "      <td>0.0</td>\n",
       "      <td>0.0</td>\n",
       "      <td>0.0</td>\n",
       "      <td>0.0</td>\n",
       "      <td>0.0</td>\n",
       "      <td>0.0</td>\n",
       "      <td>0.0</td>\n",
       "      <td>0.0</td>\n",
       "      <td>0.0</td>\n",
       "      <td>0.0</td>\n",
       "      <td>...</td>\n",
       "      <td>0.0</td>\n",
       "      <td>0.0</td>\n",
       "      <td>0.0</td>\n",
       "      <td>0.0</td>\n",
       "      <td>0.0</td>\n",
       "      <td>0.0</td>\n",
       "      <td>0.0</td>\n",
       "      <td>0.0</td>\n",
       "      <td>0.0</td>\n",
       "      <td>1.0</td>\n",
       "    </tr>\n",
       "    <tr>\n",
       "      <th>4</th>\n",
       "      <td>0.0</td>\n",
       "      <td>0.0</td>\n",
       "      <td>0.0</td>\n",
       "      <td>0.0</td>\n",
       "      <td>0.0</td>\n",
       "      <td>0.0</td>\n",
       "      <td>0.0</td>\n",
       "      <td>0.0</td>\n",
       "      <td>0.0</td>\n",
       "      <td>0.0</td>\n",
       "      <td>...</td>\n",
       "      <td>0.0</td>\n",
       "      <td>0.0</td>\n",
       "      <td>0.0</td>\n",
       "      <td>0.0</td>\n",
       "      <td>0.0</td>\n",
       "      <td>0.0</td>\n",
       "      <td>0.0</td>\n",
       "      <td>0.0</td>\n",
       "      <td>0.0</td>\n",
       "      <td>1.0</td>\n",
       "    </tr>\n",
       "    <tr>\n",
       "      <th>...</th>\n",
       "      <td>...</td>\n",
       "      <td>...</td>\n",
       "      <td>...</td>\n",
       "      <td>...</td>\n",
       "      <td>...</td>\n",
       "      <td>...</td>\n",
       "      <td>...</td>\n",
       "      <td>...</td>\n",
       "      <td>...</td>\n",
       "      <td>...</td>\n",
       "      <td>...</td>\n",
       "      <td>...</td>\n",
       "      <td>...</td>\n",
       "      <td>...</td>\n",
       "      <td>...</td>\n",
       "      <td>...</td>\n",
       "      <td>...</td>\n",
       "      <td>...</td>\n",
       "      <td>...</td>\n",
       "      <td>...</td>\n",
       "      <td>...</td>\n",
       "    </tr>\n",
       "    <tr>\n",
       "      <th>22251</th>\n",
       "      <td>0.0</td>\n",
       "      <td>0.0</td>\n",
       "      <td>0.0</td>\n",
       "      <td>0.0</td>\n",
       "      <td>0.0</td>\n",
       "      <td>0.0</td>\n",
       "      <td>0.0</td>\n",
       "      <td>0.0</td>\n",
       "      <td>0.0</td>\n",
       "      <td>0.0</td>\n",
       "      <td>...</td>\n",
       "      <td>0.0</td>\n",
       "      <td>0.0</td>\n",
       "      <td>0.0</td>\n",
       "      <td>0.0</td>\n",
       "      <td>0.0</td>\n",
       "      <td>0.0</td>\n",
       "      <td>0.0</td>\n",
       "      <td>0.0</td>\n",
       "      <td>0.0</td>\n",
       "      <td>1.0</td>\n",
       "    </tr>\n",
       "    <tr>\n",
       "      <th>22252</th>\n",
       "      <td>0.0</td>\n",
       "      <td>0.0</td>\n",
       "      <td>0.0</td>\n",
       "      <td>0.0</td>\n",
       "      <td>0.0</td>\n",
       "      <td>0.0</td>\n",
       "      <td>0.0</td>\n",
       "      <td>0.0</td>\n",
       "      <td>0.0</td>\n",
       "      <td>0.0</td>\n",
       "      <td>...</td>\n",
       "      <td>0.0</td>\n",
       "      <td>0.0</td>\n",
       "      <td>0.0</td>\n",
       "      <td>0.0</td>\n",
       "      <td>0.0</td>\n",
       "      <td>0.0</td>\n",
       "      <td>0.0</td>\n",
       "      <td>0.0</td>\n",
       "      <td>0.0</td>\n",
       "      <td>1.0</td>\n",
       "    </tr>\n",
       "    <tr>\n",
       "      <th>22253</th>\n",
       "      <td>0.0</td>\n",
       "      <td>0.0</td>\n",
       "      <td>0.0</td>\n",
       "      <td>0.0</td>\n",
       "      <td>0.0</td>\n",
       "      <td>0.0</td>\n",
       "      <td>0.0</td>\n",
       "      <td>0.0</td>\n",
       "      <td>0.0</td>\n",
       "      <td>0.0</td>\n",
       "      <td>...</td>\n",
       "      <td>0.0</td>\n",
       "      <td>0.0</td>\n",
       "      <td>0.0</td>\n",
       "      <td>0.0</td>\n",
       "      <td>0.0</td>\n",
       "      <td>0.0</td>\n",
       "      <td>0.0</td>\n",
       "      <td>0.0</td>\n",
       "      <td>0.0</td>\n",
       "      <td>1.0</td>\n",
       "    </tr>\n",
       "    <tr>\n",
       "      <th>22254</th>\n",
       "      <td>0.0</td>\n",
       "      <td>0.0</td>\n",
       "      <td>0.0</td>\n",
       "      <td>0.0</td>\n",
       "      <td>0.0</td>\n",
       "      <td>0.0</td>\n",
       "      <td>0.0</td>\n",
       "      <td>0.0</td>\n",
       "      <td>0.0</td>\n",
       "      <td>0.0</td>\n",
       "      <td>...</td>\n",
       "      <td>0.0</td>\n",
       "      <td>0.0</td>\n",
       "      <td>0.0</td>\n",
       "      <td>0.0</td>\n",
       "      <td>0.0</td>\n",
       "      <td>0.0</td>\n",
       "      <td>0.0</td>\n",
       "      <td>0.0</td>\n",
       "      <td>0.0</td>\n",
       "      <td>1.0</td>\n",
       "    </tr>\n",
       "    <tr>\n",
       "      <th>22255</th>\n",
       "      <td>0.0</td>\n",
       "      <td>0.0</td>\n",
       "      <td>0.0</td>\n",
       "      <td>0.0</td>\n",
       "      <td>0.0</td>\n",
       "      <td>0.0</td>\n",
       "      <td>0.0</td>\n",
       "      <td>0.0</td>\n",
       "      <td>0.0</td>\n",
       "      <td>0.0</td>\n",
       "      <td>...</td>\n",
       "      <td>0.0</td>\n",
       "      <td>0.0</td>\n",
       "      <td>0.0</td>\n",
       "      <td>0.0</td>\n",
       "      <td>0.0</td>\n",
       "      <td>0.0</td>\n",
       "      <td>0.0</td>\n",
       "      <td>0.0</td>\n",
       "      <td>0.0</td>\n",
       "      <td>1.0</td>\n",
       "    </tr>\n",
       "  </tbody>\n",
       "</table>\n",
       "<p>22256 rows × 5001 columns</p>\n",
       "</div>"
      ],
      "text/plain": [
       "       0     1     2     3     4     5     6     7     8     9     ...  4991  \\\n",
       "0       0.0   0.0   0.0   0.0   0.0   0.0   0.0   0.0   0.0   0.0  ...   0.0   \n",
       "1       0.0   0.0   0.0   0.0   0.0   0.0   0.0   0.0   0.0   0.0  ...   0.0   \n",
       "2       0.0   0.0   0.0   0.0   0.0   0.0   0.0   0.0   0.0   0.0  ...   0.0   \n",
       "3       0.0   0.0   0.0   0.0   0.0   0.0   0.0   0.0   0.0   0.0  ...   0.0   \n",
       "4       0.0   0.0   0.0   0.0   0.0   0.0   0.0   0.0   0.0   0.0  ...   0.0   \n",
       "...     ...   ...   ...   ...   ...   ...   ...   ...   ...   ...  ...   ...   \n",
       "22251   0.0   0.0   0.0   0.0   0.0   0.0   0.0   0.0   0.0   0.0  ...   0.0   \n",
       "22252   0.0   0.0   0.0   0.0   0.0   0.0   0.0   0.0   0.0   0.0  ...   0.0   \n",
       "22253   0.0   0.0   0.0   0.0   0.0   0.0   0.0   0.0   0.0   0.0  ...   0.0   \n",
       "22254   0.0   0.0   0.0   0.0   0.0   0.0   0.0   0.0   0.0   0.0  ...   0.0   \n",
       "22255   0.0   0.0   0.0   0.0   0.0   0.0   0.0   0.0   0.0   0.0  ...   0.0   \n",
       "\n",
       "       4992  4993  4994  4995  4996  4997  4998  4999  5000  \n",
       "0       0.0   0.0   0.0   0.0   0.0   0.0   0.0   0.0   1.0  \n",
       "1       0.0   0.0   0.0   0.0   0.0   0.0   0.0   0.0   1.0  \n",
       "2       0.0   0.0   0.0   0.0   0.0   0.0   0.0   0.0   1.0  \n",
       "3       0.0   0.0   0.0   0.0   0.0   0.0   0.0   0.0   1.0  \n",
       "4       0.0   0.0   0.0   0.0   0.0   0.0   0.0   0.0   1.0  \n",
       "...     ...   ...   ...   ...   ...   ...   ...   ...   ...  \n",
       "22251   0.0   0.0   0.0   0.0   0.0   0.0   0.0   0.0   1.0  \n",
       "22252   0.0   0.0   0.0   0.0   0.0   0.0   0.0   0.0   1.0  \n",
       "22253   0.0   0.0   0.0   0.0   0.0   0.0   0.0   0.0   1.0  \n",
       "22254   0.0   0.0   0.0   0.0   0.0   0.0   0.0   0.0   1.0  \n",
       "22255   0.0   0.0   0.0   0.0   0.0   0.0   0.0   0.0   1.0  \n",
       "\n",
       "[22256 rows x 5001 columns]"
      ]
     },
     "execution_count": 26,
     "metadata": {},
     "output_type": "execute_result"
    }
   ],
   "source": [
    "df_train_neutral = pd.DataFrame(df_train_neutral)\n",
    "df_train_neutral"
   ]
  },
  {
   "cell_type": "code",
   "execution_count": 27,
   "metadata": {},
   "outputs": [
    {
     "data": {
      "text/html": [
       "<div>\n",
       "<style scoped>\n",
       "    .dataframe tbody tr th:only-of-type {\n",
       "        vertical-align: middle;\n",
       "    }\n",
       "\n",
       "    .dataframe tbody tr th {\n",
       "        vertical-align: top;\n",
       "    }\n",
       "\n",
       "    .dataframe thead th {\n",
       "        text-align: right;\n",
       "    }\n",
       "</style>\n",
       "<table border=\"1\" class=\"dataframe\">\n",
       "  <thead>\n",
       "    <tr style=\"text-align: right;\">\n",
       "      <th></th>\n",
       "      <th>0</th>\n",
       "      <th>1</th>\n",
       "      <th>2</th>\n",
       "      <th>3</th>\n",
       "      <th>4</th>\n",
       "      <th>5</th>\n",
       "      <th>6</th>\n",
       "      <th>7</th>\n",
       "      <th>8</th>\n",
       "      <th>9</th>\n",
       "      <th>...</th>\n",
       "      <th>4991</th>\n",
       "      <th>4992</th>\n",
       "      <th>4993</th>\n",
       "      <th>4994</th>\n",
       "      <th>4995</th>\n",
       "      <th>4996</th>\n",
       "      <th>4997</th>\n",
       "      <th>4998</th>\n",
       "      <th>4999</th>\n",
       "      <th>5000</th>\n",
       "    </tr>\n",
       "  </thead>\n",
       "  <tbody>\n",
       "    <tr>\n",
       "      <th>0</th>\n",
       "      <td>0.0</td>\n",
       "      <td>0.0</td>\n",
       "      <td>0.0</td>\n",
       "      <td>0.0</td>\n",
       "      <td>0.0</td>\n",
       "      <td>0.0</td>\n",
       "      <td>0.0</td>\n",
       "      <td>0.0</td>\n",
       "      <td>0.0</td>\n",
       "      <td>0.0</td>\n",
       "      <td>...</td>\n",
       "      <td>0.0</td>\n",
       "      <td>0.0</td>\n",
       "      <td>0.623108</td>\n",
       "      <td>0.0</td>\n",
       "      <td>0.0</td>\n",
       "      <td>0.0</td>\n",
       "      <td>0.0</td>\n",
       "      <td>0.0</td>\n",
       "      <td>0.000000</td>\n",
       "      <td>2.0</td>\n",
       "    </tr>\n",
       "    <tr>\n",
       "      <th>1</th>\n",
       "      <td>0.0</td>\n",
       "      <td>0.0</td>\n",
       "      <td>0.0</td>\n",
       "      <td>0.0</td>\n",
       "      <td>0.0</td>\n",
       "      <td>0.0</td>\n",
       "      <td>0.0</td>\n",
       "      <td>0.0</td>\n",
       "      <td>0.0</td>\n",
       "      <td>0.0</td>\n",
       "      <td>...</td>\n",
       "      <td>0.0</td>\n",
       "      <td>0.0</td>\n",
       "      <td>0.000000</td>\n",
       "      <td>0.0</td>\n",
       "      <td>0.0</td>\n",
       "      <td>0.0</td>\n",
       "      <td>0.0</td>\n",
       "      <td>0.0</td>\n",
       "      <td>0.000000</td>\n",
       "      <td>2.0</td>\n",
       "    </tr>\n",
       "    <tr>\n",
       "      <th>2</th>\n",
       "      <td>0.0</td>\n",
       "      <td>0.0</td>\n",
       "      <td>0.0</td>\n",
       "      <td>0.0</td>\n",
       "      <td>0.0</td>\n",
       "      <td>0.0</td>\n",
       "      <td>0.0</td>\n",
       "      <td>0.0</td>\n",
       "      <td>0.0</td>\n",
       "      <td>0.0</td>\n",
       "      <td>...</td>\n",
       "      <td>0.0</td>\n",
       "      <td>0.0</td>\n",
       "      <td>0.000000</td>\n",
       "      <td>0.0</td>\n",
       "      <td>0.0</td>\n",
       "      <td>0.0</td>\n",
       "      <td>0.0</td>\n",
       "      <td>0.0</td>\n",
       "      <td>0.000000</td>\n",
       "      <td>2.0</td>\n",
       "    </tr>\n",
       "    <tr>\n",
       "      <th>3</th>\n",
       "      <td>0.0</td>\n",
       "      <td>0.0</td>\n",
       "      <td>0.0</td>\n",
       "      <td>0.0</td>\n",
       "      <td>0.0</td>\n",
       "      <td>0.0</td>\n",
       "      <td>0.0</td>\n",
       "      <td>0.0</td>\n",
       "      <td>0.0</td>\n",
       "      <td>0.0</td>\n",
       "      <td>...</td>\n",
       "      <td>0.0</td>\n",
       "      <td>0.0</td>\n",
       "      <td>0.000000</td>\n",
       "      <td>0.0</td>\n",
       "      <td>0.0</td>\n",
       "      <td>0.0</td>\n",
       "      <td>0.0</td>\n",
       "      <td>0.0</td>\n",
       "      <td>0.000000</td>\n",
       "      <td>2.0</td>\n",
       "    </tr>\n",
       "    <tr>\n",
       "      <th>4</th>\n",
       "      <td>0.0</td>\n",
       "      <td>0.0</td>\n",
       "      <td>0.0</td>\n",
       "      <td>0.0</td>\n",
       "      <td>0.0</td>\n",
       "      <td>0.0</td>\n",
       "      <td>0.0</td>\n",
       "      <td>0.0</td>\n",
       "      <td>0.0</td>\n",
       "      <td>0.0</td>\n",
       "      <td>...</td>\n",
       "      <td>0.0</td>\n",
       "      <td>0.0</td>\n",
       "      <td>0.000000</td>\n",
       "      <td>0.0</td>\n",
       "      <td>0.0</td>\n",
       "      <td>0.0</td>\n",
       "      <td>0.0</td>\n",
       "      <td>0.0</td>\n",
       "      <td>0.000000</td>\n",
       "      <td>2.0</td>\n",
       "    </tr>\n",
       "    <tr>\n",
       "      <th>...</th>\n",
       "      <td>...</td>\n",
       "      <td>...</td>\n",
       "      <td>...</td>\n",
       "      <td>...</td>\n",
       "      <td>...</td>\n",
       "      <td>...</td>\n",
       "      <td>...</td>\n",
       "      <td>...</td>\n",
       "      <td>...</td>\n",
       "      <td>...</td>\n",
       "      <td>...</td>\n",
       "      <td>...</td>\n",
       "      <td>...</td>\n",
       "      <td>...</td>\n",
       "      <td>...</td>\n",
       "      <td>...</td>\n",
       "      <td>...</td>\n",
       "      <td>...</td>\n",
       "      <td>...</td>\n",
       "      <td>...</td>\n",
       "      <td>...</td>\n",
       "    </tr>\n",
       "    <tr>\n",
       "      <th>19666</th>\n",
       "      <td>0.0</td>\n",
       "      <td>0.0</td>\n",
       "      <td>0.0</td>\n",
       "      <td>0.0</td>\n",
       "      <td>0.0</td>\n",
       "      <td>0.0</td>\n",
       "      <td>0.0</td>\n",
       "      <td>0.0</td>\n",
       "      <td>0.0</td>\n",
       "      <td>0.0</td>\n",
       "      <td>...</td>\n",
       "      <td>0.0</td>\n",
       "      <td>0.0</td>\n",
       "      <td>0.000000</td>\n",
       "      <td>0.0</td>\n",
       "      <td>0.0</td>\n",
       "      <td>0.0</td>\n",
       "      <td>0.0</td>\n",
       "      <td>0.0</td>\n",
       "      <td>0.000000</td>\n",
       "      <td>2.0</td>\n",
       "    </tr>\n",
       "    <tr>\n",
       "      <th>19667</th>\n",
       "      <td>0.0</td>\n",
       "      <td>0.0</td>\n",
       "      <td>0.0</td>\n",
       "      <td>0.0</td>\n",
       "      <td>0.0</td>\n",
       "      <td>0.0</td>\n",
       "      <td>0.0</td>\n",
       "      <td>0.0</td>\n",
       "      <td>0.0</td>\n",
       "      <td>0.0</td>\n",
       "      <td>...</td>\n",
       "      <td>0.0</td>\n",
       "      <td>0.0</td>\n",
       "      <td>0.000000</td>\n",
       "      <td>0.0</td>\n",
       "      <td>0.0</td>\n",
       "      <td>0.0</td>\n",
       "      <td>0.0</td>\n",
       "      <td>0.0</td>\n",
       "      <td>0.481976</td>\n",
       "      <td>2.0</td>\n",
       "    </tr>\n",
       "    <tr>\n",
       "      <th>19668</th>\n",
       "      <td>0.0</td>\n",
       "      <td>0.0</td>\n",
       "      <td>0.0</td>\n",
       "      <td>0.0</td>\n",
       "      <td>0.0</td>\n",
       "      <td>0.0</td>\n",
       "      <td>0.0</td>\n",
       "      <td>0.0</td>\n",
       "      <td>0.0</td>\n",
       "      <td>0.0</td>\n",
       "      <td>...</td>\n",
       "      <td>0.0</td>\n",
       "      <td>0.0</td>\n",
       "      <td>0.000000</td>\n",
       "      <td>0.0</td>\n",
       "      <td>0.0</td>\n",
       "      <td>0.0</td>\n",
       "      <td>0.0</td>\n",
       "      <td>0.0</td>\n",
       "      <td>0.000000</td>\n",
       "      <td>2.0</td>\n",
       "    </tr>\n",
       "    <tr>\n",
       "      <th>19669</th>\n",
       "      <td>0.0</td>\n",
       "      <td>0.0</td>\n",
       "      <td>0.0</td>\n",
       "      <td>0.0</td>\n",
       "      <td>0.0</td>\n",
       "      <td>0.0</td>\n",
       "      <td>0.0</td>\n",
       "      <td>0.0</td>\n",
       "      <td>0.0</td>\n",
       "      <td>0.0</td>\n",
       "      <td>...</td>\n",
       "      <td>0.0</td>\n",
       "      <td>0.0</td>\n",
       "      <td>0.000000</td>\n",
       "      <td>0.0</td>\n",
       "      <td>0.0</td>\n",
       "      <td>0.0</td>\n",
       "      <td>0.0</td>\n",
       "      <td>0.0</td>\n",
       "      <td>0.000000</td>\n",
       "      <td>2.0</td>\n",
       "    </tr>\n",
       "    <tr>\n",
       "      <th>19670</th>\n",
       "      <td>0.0</td>\n",
       "      <td>0.0</td>\n",
       "      <td>0.0</td>\n",
       "      <td>0.0</td>\n",
       "      <td>0.0</td>\n",
       "      <td>0.0</td>\n",
       "      <td>0.0</td>\n",
       "      <td>0.0</td>\n",
       "      <td>0.0</td>\n",
       "      <td>0.0</td>\n",
       "      <td>...</td>\n",
       "      <td>0.0</td>\n",
       "      <td>0.0</td>\n",
       "      <td>0.000000</td>\n",
       "      <td>0.0</td>\n",
       "      <td>0.0</td>\n",
       "      <td>0.0</td>\n",
       "      <td>0.0</td>\n",
       "      <td>0.0</td>\n",
       "      <td>0.000000</td>\n",
       "      <td>2.0</td>\n",
       "    </tr>\n",
       "  </tbody>\n",
       "</table>\n",
       "<p>19671 rows × 5001 columns</p>\n",
       "</div>"
      ],
      "text/plain": [
       "       0     1     2     3     4     5     6     7     8     9     ...  4991  \\\n",
       "0       0.0   0.0   0.0   0.0   0.0   0.0   0.0   0.0   0.0   0.0  ...   0.0   \n",
       "1       0.0   0.0   0.0   0.0   0.0   0.0   0.0   0.0   0.0   0.0  ...   0.0   \n",
       "2       0.0   0.0   0.0   0.0   0.0   0.0   0.0   0.0   0.0   0.0  ...   0.0   \n",
       "3       0.0   0.0   0.0   0.0   0.0   0.0   0.0   0.0   0.0   0.0  ...   0.0   \n",
       "4       0.0   0.0   0.0   0.0   0.0   0.0   0.0   0.0   0.0   0.0  ...   0.0   \n",
       "...     ...   ...   ...   ...   ...   ...   ...   ...   ...   ...  ...   ...   \n",
       "19666   0.0   0.0   0.0   0.0   0.0   0.0   0.0   0.0   0.0   0.0  ...   0.0   \n",
       "19667   0.0   0.0   0.0   0.0   0.0   0.0   0.0   0.0   0.0   0.0  ...   0.0   \n",
       "19668   0.0   0.0   0.0   0.0   0.0   0.0   0.0   0.0   0.0   0.0  ...   0.0   \n",
       "19669   0.0   0.0   0.0   0.0   0.0   0.0   0.0   0.0   0.0   0.0  ...   0.0   \n",
       "19670   0.0   0.0   0.0   0.0   0.0   0.0   0.0   0.0   0.0   0.0  ...   0.0   \n",
       "\n",
       "       4992      4993  4994  4995  4996  4997  4998      4999  5000  \n",
       "0       0.0  0.623108   0.0   0.0   0.0   0.0   0.0  0.000000   2.0  \n",
       "1       0.0  0.000000   0.0   0.0   0.0   0.0   0.0  0.000000   2.0  \n",
       "2       0.0  0.000000   0.0   0.0   0.0   0.0   0.0  0.000000   2.0  \n",
       "3       0.0  0.000000   0.0   0.0   0.0   0.0   0.0  0.000000   2.0  \n",
       "4       0.0  0.000000   0.0   0.0   0.0   0.0   0.0  0.000000   2.0  \n",
       "...     ...       ...   ...   ...   ...   ...   ...       ...   ...  \n",
       "19666   0.0  0.000000   0.0   0.0   0.0   0.0   0.0  0.000000   2.0  \n",
       "19667   0.0  0.000000   0.0   0.0   0.0   0.0   0.0  0.481976   2.0  \n",
       "19668   0.0  0.000000   0.0   0.0   0.0   0.0   0.0  0.000000   2.0  \n",
       "19669   0.0  0.000000   0.0   0.0   0.0   0.0   0.0  0.000000   2.0  \n",
       "19670   0.0  0.000000   0.0   0.0   0.0   0.0   0.0  0.000000   2.0  \n",
       "\n",
       "[19671 rows x 5001 columns]"
      ]
     },
     "execution_count": 27,
     "metadata": {},
     "output_type": "execute_result"
    }
   ],
   "source": [
    "df_train_positive = pd.DataFrame(df_train_positive)\n",
    "df_train_positive"
   ]
  },
  {
   "cell_type": "code",
   "execution_count": 28,
   "metadata": {},
   "outputs": [
    {
     "data": {
      "text/html": [
       "<div>\n",
       "<style scoped>\n",
       "    .dataframe tbody tr th:only-of-type {\n",
       "        vertical-align: middle;\n",
       "    }\n",
       "\n",
       "    .dataframe tbody tr th {\n",
       "        vertical-align: top;\n",
       "    }\n",
       "\n",
       "    .dataframe thead th {\n",
       "        text-align: right;\n",
       "    }\n",
       "</style>\n",
       "<table border=\"1\" class=\"dataframe\">\n",
       "  <thead>\n",
       "    <tr style=\"text-align: right;\">\n",
       "      <th></th>\n",
       "      <th>0</th>\n",
       "      <th>1</th>\n",
       "      <th>2</th>\n",
       "      <th>3</th>\n",
       "      <th>4</th>\n",
       "      <th>5</th>\n",
       "      <th>6</th>\n",
       "      <th>7</th>\n",
       "      <th>8</th>\n",
       "      <th>9</th>\n",
       "      <th>...</th>\n",
       "      <th>4991</th>\n",
       "      <th>4992</th>\n",
       "      <th>4993</th>\n",
       "      <th>4994</th>\n",
       "      <th>4995</th>\n",
       "      <th>4996</th>\n",
       "      <th>4997</th>\n",
       "      <th>4998</th>\n",
       "      <th>4999</th>\n",
       "      <th>5000</th>\n",
       "    </tr>\n",
       "  </thead>\n",
       "  <tbody>\n",
       "    <tr>\n",
       "      <th>10356</th>\n",
       "      <td>0.000046</td>\n",
       "      <td>0.000308</td>\n",
       "      <td>0.000130</td>\n",
       "      <td>0.000109</td>\n",
       "      <td>0.000401</td>\n",
       "      <td>0.000584</td>\n",
       "      <td>0.000063</td>\n",
       "      <td>0.000086</td>\n",
       "      <td>0.001058</td>\n",
       "      <td>0.000408</td>\n",
       "      <td>...</td>\n",
       "      <td>0.000309</td>\n",
       "      <td>0.000002</td>\n",
       "      <td>0.001849</td>\n",
       "      <td>0.000349</td>\n",
       "      <td>0.000445</td>\n",
       "      <td>0.000181</td>\n",
       "      <td>0.000675</td>\n",
       "      <td>0.000179</td>\n",
       "      <td>0.000295</td>\n",
       "      <td>0.0</td>\n",
       "    </tr>\n",
       "    <tr>\n",
       "      <th>37179</th>\n",
       "      <td>0.000000</td>\n",
       "      <td>0.000000</td>\n",
       "      <td>0.000000</td>\n",
       "      <td>0.000000</td>\n",
       "      <td>0.000000</td>\n",
       "      <td>0.000000</td>\n",
       "      <td>0.000000</td>\n",
       "      <td>0.000000</td>\n",
       "      <td>0.000000</td>\n",
       "      <td>0.000000</td>\n",
       "      <td>...</td>\n",
       "      <td>0.000000</td>\n",
       "      <td>0.000000</td>\n",
       "      <td>0.000000</td>\n",
       "      <td>0.000000</td>\n",
       "      <td>0.000000</td>\n",
       "      <td>0.000000</td>\n",
       "      <td>0.000000</td>\n",
       "      <td>0.000000</td>\n",
       "      <td>0.000000</td>\n",
       "      <td>1.0</td>\n",
       "    </tr>\n",
       "    <tr>\n",
       "      <th>11935</th>\n",
       "      <td>0.000052</td>\n",
       "      <td>0.000506</td>\n",
       "      <td>0.000148</td>\n",
       "      <td>0.000166</td>\n",
       "      <td>0.000448</td>\n",
       "      <td>0.000619</td>\n",
       "      <td>0.000078</td>\n",
       "      <td>0.000113</td>\n",
       "      <td>0.001241</td>\n",
       "      <td>0.000561</td>\n",
       "      <td>...</td>\n",
       "      <td>0.000323</td>\n",
       "      <td>0.000004</td>\n",
       "      <td>0.002170</td>\n",
       "      <td>0.000514</td>\n",
       "      <td>0.000500</td>\n",
       "      <td>0.000233</td>\n",
       "      <td>0.000981</td>\n",
       "      <td>0.000229</td>\n",
       "      <td>0.000313</td>\n",
       "      <td>0.0</td>\n",
       "    </tr>\n",
       "    <tr>\n",
       "      <th>25472</th>\n",
       "      <td>0.000000</td>\n",
       "      <td>0.000000</td>\n",
       "      <td>0.000000</td>\n",
       "      <td>0.000000</td>\n",
       "      <td>0.000000</td>\n",
       "      <td>0.000000</td>\n",
       "      <td>0.000000</td>\n",
       "      <td>0.000000</td>\n",
       "      <td>0.000000</td>\n",
       "      <td>0.000000</td>\n",
       "      <td>...</td>\n",
       "      <td>0.000000</td>\n",
       "      <td>0.000000</td>\n",
       "      <td>0.000000</td>\n",
       "      <td>0.000000</td>\n",
       "      <td>0.000000</td>\n",
       "      <td>0.000000</td>\n",
       "      <td>0.000000</td>\n",
       "      <td>0.000000</td>\n",
       "      <td>0.000000</td>\n",
       "      <td>1.0</td>\n",
       "    </tr>\n",
       "    <tr>\n",
       "      <th>49791</th>\n",
       "      <td>0.000000</td>\n",
       "      <td>0.000000</td>\n",
       "      <td>0.000000</td>\n",
       "      <td>0.000000</td>\n",
       "      <td>0.000000</td>\n",
       "      <td>0.000000</td>\n",
       "      <td>0.000000</td>\n",
       "      <td>0.000000</td>\n",
       "      <td>0.000000</td>\n",
       "      <td>0.000000</td>\n",
       "      <td>...</td>\n",
       "      <td>0.000000</td>\n",
       "      <td>0.000000</td>\n",
       "      <td>0.000000</td>\n",
       "      <td>0.000000</td>\n",
       "      <td>0.000000</td>\n",
       "      <td>0.000000</td>\n",
       "      <td>0.000000</td>\n",
       "      <td>0.000000</td>\n",
       "      <td>0.000000</td>\n",
       "      <td>2.0</td>\n",
       "    </tr>\n",
       "    <tr>\n",
       "      <th>...</th>\n",
       "      <td>...</td>\n",
       "      <td>...</td>\n",
       "      <td>...</td>\n",
       "      <td>...</td>\n",
       "      <td>...</td>\n",
       "      <td>...</td>\n",
       "      <td>...</td>\n",
       "      <td>...</td>\n",
       "      <td>...</td>\n",
       "      <td>...</td>\n",
       "      <td>...</td>\n",
       "      <td>...</td>\n",
       "      <td>...</td>\n",
       "      <td>...</td>\n",
       "      <td>...</td>\n",
       "      <td>...</td>\n",
       "      <td>...</td>\n",
       "      <td>...</td>\n",
       "      <td>...</td>\n",
       "      <td>...</td>\n",
       "      <td>...</td>\n",
       "    </tr>\n",
       "    <tr>\n",
       "      <th>24293</th>\n",
       "      <td>0.000000</td>\n",
       "      <td>0.000000</td>\n",
       "      <td>0.000000</td>\n",
       "      <td>0.000000</td>\n",
       "      <td>0.000000</td>\n",
       "      <td>0.000000</td>\n",
       "      <td>0.000000</td>\n",
       "      <td>0.000000</td>\n",
       "      <td>0.000000</td>\n",
       "      <td>0.000000</td>\n",
       "      <td>...</td>\n",
       "      <td>0.000000</td>\n",
       "      <td>0.000000</td>\n",
       "      <td>0.000000</td>\n",
       "      <td>0.000000</td>\n",
       "      <td>0.000000</td>\n",
       "      <td>0.000000</td>\n",
       "      <td>0.000000</td>\n",
       "      <td>0.000000</td>\n",
       "      <td>0.000000</td>\n",
       "      <td>1.0</td>\n",
       "    </tr>\n",
       "    <tr>\n",
       "      <th>30343</th>\n",
       "      <td>0.000000</td>\n",
       "      <td>0.000000</td>\n",
       "      <td>0.000000</td>\n",
       "      <td>0.000000</td>\n",
       "      <td>0.000000</td>\n",
       "      <td>0.000000</td>\n",
       "      <td>0.000000</td>\n",
       "      <td>0.000000</td>\n",
       "      <td>0.000000</td>\n",
       "      <td>0.000000</td>\n",
       "      <td>...</td>\n",
       "      <td>0.000000</td>\n",
       "      <td>0.000000</td>\n",
       "      <td>0.000000</td>\n",
       "      <td>0.000000</td>\n",
       "      <td>0.000000</td>\n",
       "      <td>0.000000</td>\n",
       "      <td>0.000000</td>\n",
       "      <td>0.000000</td>\n",
       "      <td>0.000000</td>\n",
       "      <td>1.0</td>\n",
       "    </tr>\n",
       "    <tr>\n",
       "      <th>34099</th>\n",
       "      <td>0.000000</td>\n",
       "      <td>0.000000</td>\n",
       "      <td>0.000000</td>\n",
       "      <td>0.000000</td>\n",
       "      <td>0.000000</td>\n",
       "      <td>0.000000</td>\n",
       "      <td>0.000000</td>\n",
       "      <td>0.000000</td>\n",
       "      <td>0.000000</td>\n",
       "      <td>0.000000</td>\n",
       "      <td>...</td>\n",
       "      <td>0.000000</td>\n",
       "      <td>0.000000</td>\n",
       "      <td>0.000000</td>\n",
       "      <td>0.000000</td>\n",
       "      <td>0.000000</td>\n",
       "      <td>0.000000</td>\n",
       "      <td>0.000000</td>\n",
       "      <td>0.000000</td>\n",
       "      <td>0.000000</td>\n",
       "      <td>1.0</td>\n",
       "    </tr>\n",
       "    <tr>\n",
       "      <th>6812</th>\n",
       "      <td>0.000000</td>\n",
       "      <td>0.000000</td>\n",
       "      <td>0.000000</td>\n",
       "      <td>0.000000</td>\n",
       "      <td>0.000000</td>\n",
       "      <td>0.000000</td>\n",
       "      <td>0.000000</td>\n",
       "      <td>0.000000</td>\n",
       "      <td>0.000000</td>\n",
       "      <td>0.000000</td>\n",
       "      <td>...</td>\n",
       "      <td>0.000000</td>\n",
       "      <td>0.000000</td>\n",
       "      <td>0.000000</td>\n",
       "      <td>0.000000</td>\n",
       "      <td>0.000000</td>\n",
       "      <td>0.000000</td>\n",
       "      <td>0.000000</td>\n",
       "      <td>0.000000</td>\n",
       "      <td>0.000000</td>\n",
       "      <td>0.0</td>\n",
       "    </tr>\n",
       "    <tr>\n",
       "      <th>14885</th>\n",
       "      <td>0.000022</td>\n",
       "      <td>0.000282</td>\n",
       "      <td>0.000083</td>\n",
       "      <td>0.000056</td>\n",
       "      <td>0.000332</td>\n",
       "      <td>0.000310</td>\n",
       "      <td>0.000032</td>\n",
       "      <td>0.000046</td>\n",
       "      <td>0.000627</td>\n",
       "      <td>0.000208</td>\n",
       "      <td>...</td>\n",
       "      <td>0.000178</td>\n",
       "      <td>0.000001</td>\n",
       "      <td>0.001348</td>\n",
       "      <td>0.000238</td>\n",
       "      <td>0.000266</td>\n",
       "      <td>0.000125</td>\n",
       "      <td>0.000616</td>\n",
       "      <td>0.000153</td>\n",
       "      <td>0.000192</td>\n",
       "      <td>0.0</td>\n",
       "    </tr>\n",
       "  </tbody>\n",
       "</table>\n",
       "<p>62891 rows × 5001 columns</p>\n",
       "</div>"
      ],
      "text/plain": [
       "           0         1         2         3         4         5         6     \\\n",
       "10356  0.000046  0.000308  0.000130  0.000109  0.000401  0.000584  0.000063   \n",
       "37179  0.000000  0.000000  0.000000  0.000000  0.000000  0.000000  0.000000   \n",
       "11935  0.000052  0.000506  0.000148  0.000166  0.000448  0.000619  0.000078   \n",
       "25472  0.000000  0.000000  0.000000  0.000000  0.000000  0.000000  0.000000   \n",
       "49791  0.000000  0.000000  0.000000  0.000000  0.000000  0.000000  0.000000   \n",
       "...         ...       ...       ...       ...       ...       ...       ...   \n",
       "24293  0.000000  0.000000  0.000000  0.000000  0.000000  0.000000  0.000000   \n",
       "30343  0.000000  0.000000  0.000000  0.000000  0.000000  0.000000  0.000000   \n",
       "34099  0.000000  0.000000  0.000000  0.000000  0.000000  0.000000  0.000000   \n",
       "6812   0.000000  0.000000  0.000000  0.000000  0.000000  0.000000  0.000000   \n",
       "14885  0.000022  0.000282  0.000083  0.000056  0.000332  0.000310  0.000032   \n",
       "\n",
       "           7         8         9     ...      4991      4992      4993  \\\n",
       "10356  0.000086  0.001058  0.000408  ...  0.000309  0.000002  0.001849   \n",
       "37179  0.000000  0.000000  0.000000  ...  0.000000  0.000000  0.000000   \n",
       "11935  0.000113  0.001241  0.000561  ...  0.000323  0.000004  0.002170   \n",
       "25472  0.000000  0.000000  0.000000  ...  0.000000  0.000000  0.000000   \n",
       "49791  0.000000  0.000000  0.000000  ...  0.000000  0.000000  0.000000   \n",
       "...         ...       ...       ...  ...       ...       ...       ...   \n",
       "24293  0.000000  0.000000  0.000000  ...  0.000000  0.000000  0.000000   \n",
       "30343  0.000000  0.000000  0.000000  ...  0.000000  0.000000  0.000000   \n",
       "34099  0.000000  0.000000  0.000000  ...  0.000000  0.000000  0.000000   \n",
       "6812   0.000000  0.000000  0.000000  ...  0.000000  0.000000  0.000000   \n",
       "14885  0.000046  0.000627  0.000208  ...  0.000178  0.000001  0.001348   \n",
       "\n",
       "           4994      4995      4996      4997      4998      4999  5000  \n",
       "10356  0.000349  0.000445  0.000181  0.000675  0.000179  0.000295   0.0  \n",
       "37179  0.000000  0.000000  0.000000  0.000000  0.000000  0.000000   1.0  \n",
       "11935  0.000514  0.000500  0.000233  0.000981  0.000229  0.000313   0.0  \n",
       "25472  0.000000  0.000000  0.000000  0.000000  0.000000  0.000000   1.0  \n",
       "49791  0.000000  0.000000  0.000000  0.000000  0.000000  0.000000   2.0  \n",
       "...         ...       ...       ...       ...       ...       ...   ...  \n",
       "24293  0.000000  0.000000  0.000000  0.000000  0.000000  0.000000   1.0  \n",
       "30343  0.000000  0.000000  0.000000  0.000000  0.000000  0.000000   1.0  \n",
       "34099  0.000000  0.000000  0.000000  0.000000  0.000000  0.000000   1.0  \n",
       "6812   0.000000  0.000000  0.000000  0.000000  0.000000  0.000000   0.0  \n",
       "14885  0.000238  0.000266  0.000125  0.000616  0.000153  0.000192   0.0  \n",
       "\n",
       "[62891 rows x 5001 columns]"
      ]
     },
     "execution_count": 28,
     "metadata": {},
     "output_type": "execute_result"
    }
   ],
   "source": [
    "df_balanced = pd.concat([X_negative, df_train_neutral, df_train_positive], ignore_index=True)\n",
    "df_balanced = df_balanced.sample(frac = 1)\n",
    "df_balanced"
   ]
  },
  {
   "cell_type": "code",
   "execution_count": 29,
   "metadata": {},
   "outputs": [
    {
     "data": {
      "text/plain": [
       "1.0    0.353882\n",
       "0.0    0.333339\n",
       "2.0    0.312779\n",
       "Name: 5000, dtype: float64"
      ]
     },
     "execution_count": 29,
     "metadata": {},
     "output_type": "execute_result"
    }
   ],
   "source": [
    "df_balanced.iloc[:,-1].value_counts(normalize=True)"
   ]
  },
  {
   "cell_type": "code",
   "execution_count": 30,
   "metadata": {},
   "outputs": [
    {
     "data": {
      "text/plain": [
       "tensor([[4.5576e-05, 3.0794e-04, 1.3047e-04,  ..., 6.7453e-04, 1.7936e-04,\n",
       "         2.9505e-04],\n",
       "        [0.0000e+00, 0.0000e+00, 0.0000e+00,  ..., 0.0000e+00, 0.0000e+00,\n",
       "         0.0000e+00],\n",
       "        [5.2047e-05, 5.0618e-04, 1.4842e-04,  ..., 9.8053e-04, 2.2889e-04,\n",
       "         3.1280e-04],\n",
       "        ...,\n",
       "        [0.0000e+00, 0.0000e+00, 0.0000e+00,  ..., 0.0000e+00, 0.0000e+00,\n",
       "         0.0000e+00],\n",
       "        [0.0000e+00, 0.0000e+00, 0.0000e+00,  ..., 0.0000e+00, 0.0000e+00,\n",
       "         0.0000e+00],\n",
       "        [2.2441e-05, 2.8238e-04, 8.2643e-05,  ..., 6.1632e-04, 1.5307e-04,\n",
       "         1.9238e-04]])"
      ]
     },
     "execution_count": 30,
     "metadata": {},
     "output_type": "execute_result"
    }
   ],
   "source": [
    "df_inputs = df_balanced.iloc[:,:-1].values\n",
    "df_inputs = torch.from_numpy(df_inputs).type(torch.float)\n",
    "df_inputs"
   ]
  },
  {
   "cell_type": "code",
   "execution_count": 31,
   "metadata": {},
   "outputs": [
    {
     "data": {
      "text/plain": [
       "tensor([0, 1, 0,  ..., 1, 0, 0])"
      ]
     },
     "execution_count": 31,
     "metadata": {},
     "output_type": "execute_result"
    }
   ],
   "source": [
    "df_targets = df_balanced.iloc[:,-1].values\n",
    "df_targets = torch.from_numpy(df_targets).type(torch.LongTensor)\n",
    "df_targets"
   ]
  },
  {
   "cell_type": "code",
   "execution_count": 32,
   "metadata": {},
   "outputs": [
    {
     "data": {
      "text/plain": [
       "torch.int64"
      ]
     },
     "execution_count": 32,
     "metadata": {},
     "output_type": "execute_result"
    }
   ],
   "source": [
    "df_targets.dtype"
   ]
  },
  {
   "cell_type": "code",
   "execution_count": 33,
   "metadata": {},
   "outputs": [
    {
     "data": {
      "text/plain": [
       "torch.float32"
      ]
     },
     "execution_count": 33,
     "metadata": {},
     "output_type": "execute_result"
    }
   ],
   "source": [
    "df_inputs.dtype"
   ]
  },
  {
   "cell_type": "code",
   "execution_count": 34,
   "metadata": {},
   "outputs": [
    {
     "data": {
      "text/plain": [
       "torch.Size([62891, 5000])"
      ]
     },
     "execution_count": 34,
     "metadata": {},
     "output_type": "execute_result"
    }
   ],
   "source": [
    "df_inputs.shape"
   ]
  },
  {
   "cell_type": "code",
   "execution_count": 35,
   "metadata": {},
   "outputs": [
    {
     "data": {
      "text/plain": [
       "torch.Size([62891])"
      ]
     },
     "execution_count": 35,
     "metadata": {},
     "output_type": "execute_result"
    }
   ],
   "source": [
    "df_targets.shape"
   ]
  },
  {
   "cell_type": "code",
   "execution_count": 49,
   "metadata": {},
   "outputs": [],
   "source": [
    "NUM_CLASSES = 3\n",
    "NUM_FEATURES = 5000\n",
    "\n",
    "class BalancedNeuralNetwork(nn.Module):\n",
    "    def __init__(self, in_dim, out_dim):\n",
    "        super().__init__()\n",
    "        self.in_dim = in_dim\n",
    "        self.out_dim = out_dim\n",
    "        \n",
    "        self.hidden_layer_1 = nn.Linear(self.in_dim, 50) # input to first hidden layer, produces 50 features\n",
    "        self.output_layer = nn.Linear(50, self.out_dim) # takes in 50 features, produces 3 feature (y)\n",
    "        #self.dropout = nn.Dropout(p=0.75)\n",
    "        self.activation = nn.ReLU()  # <- add in ReLU activation function\n",
    "\n",
    "    def forward(self, x):\n",
    "        x = self.activation(self.hidden_layer_1(x))\n",
    "        y = self.output_layer(x)\n",
    "        \n",
    "        return y"
   ]
  },
  {
   "cell_type": "code",
   "execution_count": 50,
   "metadata": {},
   "outputs": [
    {
     "data": {
      "text/plain": [
       "BalancedNeuralNetwork(\n",
       "  (hidden_layer_1): Linear(in_features=5000, out_features=50, bias=True)\n",
       "  (output_layer): Linear(in_features=50, out_features=3, bias=True)\n",
       "  (activation): ReLU()\n",
       ")"
      ]
     },
     "execution_count": 50,
     "metadata": {},
     "output_type": "execute_result"
    }
   ],
   "source": [
    "# Create an instance of the model and send it to target device\n",
    "model_2 = BalancedNeuralNetwork(in_dim=NUM_FEATURES, out_dim=NUM_CLASSES).to(device)\n",
    "model_2"
   ]
  },
  {
   "cell_type": "code",
   "execution_count": 51,
   "metadata": {},
   "outputs": [],
   "source": [
    "learning_rate_2 = 0.002\n",
    "loss_fn_2 = nn.CrossEntropyLoss()\n",
    "optimizer_2 = optim.Adam(model_2.parameters(), lr=learning_rate_2)\n",
    "batch_size = 128"
   ]
  },
  {
   "cell_type": "code",
   "execution_count": 52,
   "metadata": {},
   "outputs": [],
   "source": [
    "# Custom dataset to treat how the model picks an x, y combination from the dataset\n",
    "class MyCustomDataset(Dataset):\n",
    "    def __init__(self, x, y):\n",
    "        self.x = x\n",
    "        self.y = y\n",
    "        \n",
    "    def __len__(self):\n",
    "        return len(self.x)\n",
    "    \n",
    "    # Requires you to return data as a pair of _x, _y\n",
    "    def __getitem__(self, index):\n",
    "        return self.x[index], self.y[index]"
   ]
  },
  {
   "cell_type": "code",
   "execution_count": 53,
   "metadata": {},
   "outputs": [
    {
     "name": "stdout",
     "output_type": "stream",
     "text": [
      "Epoch: 0\n"
     ]
    },
    {
     "name": "stderr",
     "output_type": "stream",
     "text": [
      "100%|██████████| 492/492 [00:07<00:00, 65.31it/s, loss=0.592]\n"
     ]
    },
    {
     "name": "stdout",
     "output_type": "stream",
     "text": [
      "Ave Loss: 0.7710301638618717\n",
      "Epoch: 1\n"
     ]
    },
    {
     "name": "stderr",
     "output_type": "stream",
     "text": [
      "100%|██████████| 492/492 [00:07<00:00, 69.00it/s, loss=0.453]\n"
     ]
    },
    {
     "name": "stdout",
     "output_type": "stream",
     "text": [
      "Ave Loss: 0.5895291960578624\n",
      "Epoch: 2\n"
     ]
    },
    {
     "name": "stderr",
     "output_type": "stream",
     "text": [
      "100%|██████████| 492/492 [00:07<00:00, 66.91it/s, loss=0.378]\n"
     ]
    },
    {
     "name": "stdout",
     "output_type": "stream",
     "text": [
      "Ave Loss: 0.5420903843350526\n",
      "Epoch: 3\n"
     ]
    },
    {
     "name": "stderr",
     "output_type": "stream",
     "text": [
      "100%|██████████| 492/492 [00:07<00:00, 68.48it/s, loss=0.328]\n"
     ]
    },
    {
     "name": "stdout",
     "output_type": "stream",
     "text": [
      "Ave Loss: 0.5111896676140103\n",
      "Epoch: 4\n"
     ]
    },
    {
     "name": "stderr",
     "output_type": "stream",
     "text": [
      "100%|██████████| 492/492 [00:07<00:00, 68.88it/s, loss=0.288]\n"
     ]
    },
    {
     "name": "stdout",
     "output_type": "stream",
     "text": [
      "Ave Loss: 0.48464767229023986\n",
      "Epoch: 5\n"
     ]
    },
    {
     "name": "stderr",
     "output_type": "stream",
     "text": [
      "100%|██████████| 492/492 [00:07<00:00, 69.65it/s, loss=0.252]\n"
     ]
    },
    {
     "name": "stdout",
     "output_type": "stream",
     "text": [
      "Ave Loss: 0.4581931150419925\n",
      "Epoch: 6\n"
     ]
    },
    {
     "name": "stderr",
     "output_type": "stream",
     "text": [
      "100%|██████████| 492/492 [00:07<00:00, 67.33it/s, loss=0.221]\n"
     ]
    },
    {
     "name": "stdout",
     "output_type": "stream",
     "text": [
      "Ave Loss: 0.4292663456947823\n",
      "Epoch: 7\n"
     ]
    },
    {
     "name": "stderr",
     "output_type": "stream",
     "text": [
      "100%|██████████| 492/492 [00:07<00:00, 69.24it/s, loss=0.188]\n"
     ]
    },
    {
     "name": "stdout",
     "output_type": "stream",
     "text": [
      "Ave Loss: 0.39780412968702433\n",
      "Epoch: 8\n"
     ]
    },
    {
     "name": "stderr",
     "output_type": "stream",
     "text": [
      "100%|██████████| 492/492 [00:07<00:00, 68.46it/s, loss=0.156]\n"
     ]
    },
    {
     "name": "stdout",
     "output_type": "stream",
     "text": [
      "Ave Loss: 0.36436478984428616\n",
      "Epoch: 9\n"
     ]
    },
    {
     "name": "stderr",
     "output_type": "stream",
     "text": [
      "100%|██████████| 492/492 [00:07<00:00, 68.36it/s, loss=0.129]\n"
     ]
    },
    {
     "name": "stdout",
     "output_type": "stream",
     "text": [
      "Ave Loss: 0.3298769361241077\n",
      "Epoch: 10\n"
     ]
    },
    {
     "name": "stderr",
     "output_type": "stream",
     "text": [
      "100%|██████████| 492/492 [00:07<00:00, 69.60it/s, loss=0.107]\n"
     ]
    },
    {
     "name": "stdout",
     "output_type": "stream",
     "text": [
      "Ave Loss: 0.2951745484932894\n",
      "Epoch: 11\n"
     ]
    },
    {
     "name": "stderr",
     "output_type": "stream",
     "text": [
      "100%|██████████| 492/492 [00:07<00:00, 68.60it/s, loss=0.0857]\n"
     ]
    },
    {
     "name": "stdout",
     "output_type": "stream",
     "text": [
      "Ave Loss: 0.26109385964407666\n",
      "Epoch: 12\n"
     ]
    },
    {
     "name": "stderr",
     "output_type": "stream",
     "text": [
      "100%|██████████| 492/492 [00:07<00:00, 68.37it/s, loss=0.0683]\n"
     ]
    },
    {
     "name": "stdout",
     "output_type": "stream",
     "text": [
      "Ave Loss: 0.22877520328857065\n",
      "Epoch: 13\n"
     ]
    },
    {
     "name": "stderr",
     "output_type": "stream",
     "text": [
      "100%|██████████| 492/492 [00:07<00:00, 68.60it/s, loss=0.0551]\n"
     ]
    },
    {
     "name": "stdout",
     "output_type": "stream",
     "text": [
      "Ave Loss: 0.1982849832715058\n",
      "Epoch: 14\n"
     ]
    },
    {
     "name": "stderr",
     "output_type": "stream",
     "text": [
      "100%|██████████| 492/492 [00:07<00:00, 69.13it/s, loss=0.0446]\n"
     ]
    },
    {
     "name": "stdout",
     "output_type": "stream",
     "text": [
      "Ave Loss: 0.17089612108874855\n",
      "Epoch: 15\n"
     ]
    },
    {
     "name": "stderr",
     "output_type": "stream",
     "text": [
      "100%|██████████| 492/492 [00:07<00:00, 66.92it/s, loss=0.0371]\n"
     ]
    },
    {
     "name": "stdout",
     "output_type": "stream",
     "text": [
      "Ave Loss: 0.14664210304920752\n",
      "Epoch: 16\n"
     ]
    },
    {
     "name": "stderr",
     "output_type": "stream",
     "text": [
      "100%|██████████| 492/492 [00:07<00:00, 68.69it/s, loss=0.0301]\n"
     ]
    },
    {
     "name": "stdout",
     "output_type": "stream",
     "text": [
      "Ave Loss: 0.12552783054837247\n",
      "Epoch: 17\n"
     ]
    },
    {
     "name": "stderr",
     "output_type": "stream",
     "text": [
      "100%|██████████| 492/492 [00:07<00:00, 68.76it/s, loss=0.0256]\n"
     ]
    },
    {
     "name": "stdout",
     "output_type": "stream",
     "text": [
      "Ave Loss: 0.10764347703945709\n",
      "Epoch: 18\n"
     ]
    },
    {
     "name": "stderr",
     "output_type": "stream",
     "text": [
      "100%|██████████| 492/492 [00:07<00:00, 67.29it/s, loss=0.0235]\n"
     ]
    },
    {
     "name": "stdout",
     "output_type": "stream",
     "text": [
      "Ave Loss: 0.09249906861639726\n",
      "Epoch: 19\n"
     ]
    },
    {
     "name": "stderr",
     "output_type": "stream",
     "text": [
      "100%|██████████| 492/492 [00:07<00:00, 68.76it/s, loss=0.0206]\n"
     ]
    },
    {
     "name": "stdout",
     "output_type": "stream",
     "text": [
      "Ave Loss: 0.07994681712603424\n",
      "Epoch: 20\n"
     ]
    },
    {
     "name": "stderr",
     "output_type": "stream",
     "text": [
      "100%|██████████| 492/492 [00:07<00:00, 68.15it/s, loss=0.0184]\n"
     ]
    },
    {
     "name": "stdout",
     "output_type": "stream",
     "text": [
      "Ave Loss: 0.06960073403060073\n",
      "Epoch: 21\n"
     ]
    },
    {
     "name": "stderr",
     "output_type": "stream",
     "text": [
      "100%|██████████| 492/492 [00:07<00:00, 67.76it/s, loss=0.0159]\n"
     ]
    },
    {
     "name": "stdout",
     "output_type": "stream",
     "text": [
      "Ave Loss: 0.06131932042099959\n",
      "Epoch: 22\n"
     ]
    },
    {
     "name": "stderr",
     "output_type": "stream",
     "text": [
      "100%|██████████| 492/492 [00:07<00:00, 68.21it/s, loss=0.0138]\n"
     ]
    },
    {
     "name": "stdout",
     "output_type": "stream",
     "text": [
      "Ave Loss: 0.05458792920103221\n",
      "Epoch: 23\n"
     ]
    },
    {
     "name": "stderr",
     "output_type": "stream",
     "text": [
      "100%|██████████| 492/492 [00:07<00:00, 68.88it/s, loss=0.0136]\n"
     ]
    },
    {
     "name": "stdout",
     "output_type": "stream",
     "text": [
      "Ave Loss: 0.049225553111135356\n",
      "Epoch: 24\n"
     ]
    },
    {
     "name": "stderr",
     "output_type": "stream",
     "text": [
      "100%|██████████| 492/492 [00:07<00:00, 66.94it/s, loss=0.0131]\n"
     ]
    },
    {
     "name": "stdout",
     "output_type": "stream",
     "text": [
      "Ave Loss: 0.04498041700003896\n",
      "Epoch: 25\n"
     ]
    },
    {
     "name": "stderr",
     "output_type": "stream",
     "text": [
      "100%|██████████| 492/492 [00:07<00:00, 66.09it/s, loss=0.0105] \n"
     ]
    },
    {
     "name": "stdout",
     "output_type": "stream",
     "text": [
      "Ave Loss: 0.04140007926332878\n",
      "Epoch: 26\n"
     ]
    },
    {
     "name": "stderr",
     "output_type": "stream",
     "text": [
      "100%|██████████| 492/492 [00:07<00:00, 67.78it/s, loss=0.0129] \n"
     ]
    },
    {
     "name": "stdout",
     "output_type": "stream",
     "text": [
      "Ave Loss: 0.03857052239316811\n",
      "Epoch: 27\n"
     ]
    },
    {
     "name": "stderr",
     "output_type": "stream",
     "text": [
      "100%|██████████| 492/492 [00:07<00:00, 67.90it/s, loss=0.0085] \n"
     ]
    },
    {
     "name": "stdout",
     "output_type": "stream",
     "text": [
      "Ave Loss: 0.036088205107328734\n",
      "Epoch: 28\n"
     ]
    },
    {
     "name": "stderr",
     "output_type": "stream",
     "text": [
      "100%|██████████| 492/492 [00:07<00:00, 68.63it/s, loss=0.0106] \n"
     ]
    },
    {
     "name": "stdout",
     "output_type": "stream",
     "text": [
      "Ave Loss: 0.03396599923593666\n",
      "Epoch: 29\n"
     ]
    },
    {
     "name": "stderr",
     "output_type": "stream",
     "text": [
      "100%|██████████| 492/492 [00:07<00:00, 67.10it/s, loss=0.00928]\n"
     ]
    },
    {
     "name": "stdout",
     "output_type": "stream",
     "text": [
      "Ave Loss: 0.032174610994695645\n",
      "Epoch: 30\n"
     ]
    },
    {
     "name": "stderr",
     "output_type": "stream",
     "text": [
      "100%|██████████| 492/492 [00:07<00:00, 68.48it/s, loss=0.00896]\n"
     ]
    },
    {
     "name": "stdout",
     "output_type": "stream",
     "text": [
      "Ave Loss: 0.03062482847362696\n",
      "Epoch: 31\n"
     ]
    },
    {
     "name": "stderr",
     "output_type": "stream",
     "text": [
      "100%|██████████| 492/492 [00:07<00:00, 69.02it/s, loss=0.0106] \n"
     ]
    },
    {
     "name": "stdout",
     "output_type": "stream",
     "text": [
      "Ave Loss: 0.029451228997185525\n",
      "Epoch: 32\n"
     ]
    },
    {
     "name": "stderr",
     "output_type": "stream",
     "text": [
      "100%|██████████| 492/492 [00:07<00:00, 66.81it/s, loss=0.0115] \n"
     ]
    },
    {
     "name": "stdout",
     "output_type": "stream",
     "text": [
      "Ave Loss: 0.028483247054112332\n",
      "Epoch: 33\n"
     ]
    },
    {
     "name": "stderr",
     "output_type": "stream",
     "text": [
      "100%|██████████| 492/492 [00:07<00:00, 67.18it/s, loss=0.00716]\n"
     ]
    },
    {
     "name": "stdout",
     "output_type": "stream",
     "text": [
      "Ave Loss: 0.027617444046224068\n",
      "Epoch: 34\n"
     ]
    },
    {
     "name": "stderr",
     "output_type": "stream",
     "text": [
      "100%|██████████| 492/492 [00:07<00:00, 68.05it/s, loss=0.0106] \n"
     ]
    },
    {
     "name": "stdout",
     "output_type": "stream",
     "text": [
      "Ave Loss: 0.02672414784177729\n",
      "Epoch: 35\n"
     ]
    },
    {
     "name": "stderr",
     "output_type": "stream",
     "text": [
      "100%|██████████| 492/492 [00:07<00:00, 68.33it/s, loss=0.00832]\n"
     ]
    },
    {
     "name": "stdout",
     "output_type": "stream",
     "text": [
      "Ave Loss: 0.025856432477977673\n",
      "Epoch: 36\n"
     ]
    },
    {
     "name": "stderr",
     "output_type": "stream",
     "text": [
      "100%|██████████| 492/492 [00:07<00:00, 64.45it/s, loss=0.014]  \n"
     ]
    },
    {
     "name": "stdout",
     "output_type": "stream",
     "text": [
      "Ave Loss: 0.02531310935160221\n",
      "Epoch: 37\n"
     ]
    },
    {
     "name": "stderr",
     "output_type": "stream",
     "text": [
      "100%|██████████| 492/492 [00:07<00:00, 66.51it/s, loss=0.00609]\n"
     ]
    },
    {
     "name": "stdout",
     "output_type": "stream",
     "text": [
      "Ave Loss: 0.024531621632177564\n",
      "Epoch: 38\n"
     ]
    },
    {
     "name": "stderr",
     "output_type": "stream",
     "text": [
      "100%|██████████| 492/492 [00:07<00:00, 67.86it/s, loss=0.015]  \n"
     ]
    },
    {
     "name": "stdout",
     "output_type": "stream",
     "text": [
      "Ave Loss: 0.023668681898881203\n",
      "Epoch: 39\n"
     ]
    },
    {
     "name": "stderr",
     "output_type": "stream",
     "text": [
      "100%|██████████| 492/492 [00:07<00:00, 68.65it/s, loss=0.00517]\n"
     ]
    },
    {
     "name": "stdout",
     "output_type": "stream",
     "text": [
      "Ave Loss: 0.023089811725237188\n",
      "Epoch: 40\n"
     ]
    },
    {
     "name": "stderr",
     "output_type": "stream",
     "text": [
      "100%|██████████| 492/492 [00:07<00:00, 67.71it/s, loss=0.0206] \n"
     ]
    },
    {
     "name": "stdout",
     "output_type": "stream",
     "text": [
      "Ave Loss: 0.02245669681470031\n",
      "Epoch: 41\n"
     ]
    },
    {
     "name": "stderr",
     "output_type": "stream",
     "text": [
      "100%|██████████| 492/492 [00:06<00:00, 72.55it/s, loss=0.00242]\n"
     ]
    },
    {
     "name": "stdout",
     "output_type": "stream",
     "text": [
      "Ave Loss: 0.02221060429517051\n",
      "Epoch: 42\n"
     ]
    },
    {
     "name": "stderr",
     "output_type": "stream",
     "text": [
      "100%|██████████| 492/492 [00:06<00:00, 78.27it/s, loss=0.023]  \n"
     ]
    },
    {
     "name": "stdout",
     "output_type": "stream",
     "text": [
      "Ave Loss: 0.02172325225759911\n",
      "Epoch: 43\n"
     ]
    },
    {
     "name": "stderr",
     "output_type": "stream",
     "text": [
      "100%|██████████| 492/492 [00:06<00:00, 78.04it/s, loss=0.00156]\n"
     ]
    },
    {
     "name": "stdout",
     "output_type": "stream",
     "text": [
      "Ave Loss: 0.021432219022303835\n",
      "Epoch: 44\n"
     ]
    },
    {
     "name": "stderr",
     "output_type": "stream",
     "text": [
      "100%|██████████| 492/492 [00:06<00:00, 79.51it/s, loss=0.0232] \n"
     ]
    },
    {
     "name": "stdout",
     "output_type": "stream",
     "text": [
      "Ave Loss: 0.02110307174356185\n",
      "Epoch: 45\n"
     ]
    },
    {
     "name": "stderr",
     "output_type": "stream",
     "text": [
      "100%|██████████| 492/492 [00:06<00:00, 79.08it/s, loss=0.00163]\n"
     ]
    },
    {
     "name": "stdout",
     "output_type": "stream",
     "text": [
      "Ave Loss: 0.02079114356912044\n",
      "Epoch: 46\n"
     ]
    },
    {
     "name": "stderr",
     "output_type": "stream",
     "text": [
      "100%|██████████| 492/492 [00:06<00:00, 78.42it/s, loss=0.025]   \n"
     ]
    },
    {
     "name": "stdout",
     "output_type": "stream",
     "text": [
      "Ave Loss: 0.02083507794304751\n",
      "Epoch: 47\n"
     ]
    },
    {
     "name": "stderr",
     "output_type": "stream",
     "text": [
      "100%|██████████| 492/492 [00:06<00:00, 79.19it/s, loss=0.00113] \n"
     ]
    },
    {
     "name": "stdout",
     "output_type": "stream",
     "text": [
      "Ave Loss: 0.020335215578997146\n",
      "Epoch: 48\n"
     ]
    },
    {
     "name": "stderr",
     "output_type": "stream",
     "text": [
      "100%|██████████| 492/492 [00:06<00:00, 78.55it/s, loss=0.0237]  \n"
     ]
    },
    {
     "name": "stdout",
     "output_type": "stream",
     "text": [
      "Ave Loss: 0.020013127349623728\n",
      "Epoch: 49\n"
     ]
    },
    {
     "name": "stderr",
     "output_type": "stream",
     "text": [
      "100%|██████████| 492/492 [00:06<00:00, 79.07it/s, loss=0.00146] \n"
     ]
    },
    {
     "name": "stdout",
     "output_type": "stream",
     "text": [
      "Ave Loss: 0.019837965042854667\n",
      "Epoch: 50\n"
     ]
    },
    {
     "name": "stderr",
     "output_type": "stream",
     "text": [
      "100%|██████████| 492/492 [00:08<00:00, 58.75it/s, loss=0.0229]  \n"
     ]
    },
    {
     "name": "stdout",
     "output_type": "stream",
     "text": [
      "Ave Loss: 0.019608596056473547\n",
      "Epoch: 51\n"
     ]
    },
    {
     "name": "stderr",
     "output_type": "stream",
     "text": [
      "100%|██████████| 492/492 [00:07<00:00, 64.18it/s, loss=0.00141] \n"
     ]
    },
    {
     "name": "stdout",
     "output_type": "stream",
     "text": [
      "Ave Loss: 0.019131505111922374\n",
      "Epoch: 52\n"
     ]
    },
    {
     "name": "stderr",
     "output_type": "stream",
     "text": [
      "100%|██████████| 492/492 [00:07<00:00, 65.67it/s, loss=0.0247]  \n"
     ]
    },
    {
     "name": "stdout",
     "output_type": "stream",
     "text": [
      "Ave Loss: 0.018917169367371135\n",
      "Epoch: 53\n"
     ]
    },
    {
     "name": "stderr",
     "output_type": "stream",
     "text": [
      "100%|██████████| 492/492 [00:07<00:00, 70.08it/s, loss=0.00138] \n"
     ]
    },
    {
     "name": "stdout",
     "output_type": "stream",
     "text": [
      "Ave Loss: 0.01903871200754917\n",
      "Epoch: 54\n"
     ]
    },
    {
     "name": "stderr",
     "output_type": "stream",
     "text": [
      "100%|██████████| 492/492 [00:07<00:00, 69.51it/s, loss=0.0211]  \n"
     ]
    },
    {
     "name": "stdout",
     "output_type": "stream",
     "text": [
      "Ave Loss: 0.018926045083278994\n",
      "Epoch: 55\n"
     ]
    },
    {
     "name": "stderr",
     "output_type": "stream",
     "text": [
      "100%|██████████| 492/492 [00:07<00:00, 65.79it/s, loss=0.00143] \n"
     ]
    },
    {
     "name": "stdout",
     "output_type": "stream",
     "text": [
      "Ave Loss: 0.018701252737295497\n",
      "Epoch: 56\n"
     ]
    },
    {
     "name": "stderr",
     "output_type": "stream",
     "text": [
      "100%|██████████| 492/492 [00:07<00:00, 64.07it/s, loss=0.0231]  \n"
     ]
    },
    {
     "name": "stdout",
     "output_type": "stream",
     "text": [
      "Ave Loss: 0.018424062083292624\n",
      "Epoch: 57\n"
     ]
    },
    {
     "name": "stderr",
     "output_type": "stream",
     "text": [
      "100%|██████████| 492/492 [00:07<00:00, 68.89it/s, loss=0.0013]  \n"
     ]
    },
    {
     "name": "stdout",
     "output_type": "stream",
     "text": [
      "Ave Loss: 0.018114071909141372\n",
      "Epoch: 58\n"
     ]
    },
    {
     "name": "stderr",
     "output_type": "stream",
     "text": [
      "100%|██████████| 492/492 [00:07<00:00, 69.27it/s, loss=0.0217]  \n"
     ]
    },
    {
     "name": "stdout",
     "output_type": "stream",
     "text": [
      "Ave Loss: 0.017753633804552114\n",
      "Epoch: 59\n"
     ]
    },
    {
     "name": "stderr",
     "output_type": "stream",
     "text": [
      "100%|██████████| 492/492 [00:07<00:00, 68.18it/s, loss=0.00163] \n"
     ]
    },
    {
     "name": "stdout",
     "output_type": "stream",
     "text": [
      "Ave Loss: 0.017706554408002517\n",
      "Epoch: 60\n"
     ]
    },
    {
     "name": "stderr",
     "output_type": "stream",
     "text": [
      "100%|██████████| 492/492 [00:07<00:00, 68.72it/s, loss=0.0212]  \n"
     ]
    },
    {
     "name": "stdout",
     "output_type": "stream",
     "text": [
      "Ave Loss: 0.017646646357096004\n",
      "Epoch: 61\n"
     ]
    },
    {
     "name": "stderr",
     "output_type": "stream",
     "text": [
      "100%|██████████| 492/492 [00:07<00:00, 68.97it/s, loss=0.00152] \n"
     ]
    },
    {
     "name": "stdout",
     "output_type": "stream",
     "text": [
      "Ave Loss: 0.017243444648423662\n",
      "Epoch: 62\n"
     ]
    },
    {
     "name": "stderr",
     "output_type": "stream",
     "text": [
      "100%|██████████| 492/492 [00:07<00:00, 68.07it/s, loss=0.0217]  \n"
     ]
    },
    {
     "name": "stdout",
     "output_type": "stream",
     "text": [
      "Ave Loss: 0.01710526574068472\n",
      "Epoch: 63\n"
     ]
    },
    {
     "name": "stderr",
     "output_type": "stream",
     "text": [
      "100%|██████████| 492/492 [00:07<00:00, 68.78it/s, loss=0.00172] \n"
     ]
    },
    {
     "name": "stdout",
     "output_type": "stream",
     "text": [
      "Ave Loss: 0.01710686191506646\n",
      "Epoch: 64\n"
     ]
    },
    {
     "name": "stderr",
     "output_type": "stream",
     "text": [
      "100%|██████████| 492/492 [00:07<00:00, 69.50it/s, loss=0.0196]  \n"
     ]
    },
    {
     "name": "stdout",
     "output_type": "stream",
     "text": [
      "Ave Loss: 0.016987939310845506\n",
      "Epoch: 65\n"
     ]
    },
    {
     "name": "stderr",
     "output_type": "stream",
     "text": [
      "100%|██████████| 492/492 [00:07<00:00, 69.37it/s, loss=0.0019]  \n"
     ]
    },
    {
     "name": "stdout",
     "output_type": "stream",
     "text": [
      "Ave Loss: 0.016796241873982685\n",
      "Epoch: 66\n"
     ]
    },
    {
     "name": "stderr",
     "output_type": "stream",
     "text": [
      "100%|██████████| 492/492 [00:07<00:00, 69.27it/s, loss=0.0222]  \n"
     ]
    },
    {
     "name": "stdout",
     "output_type": "stream",
     "text": [
      "Ave Loss: 0.01640562525680866\n",
      "Epoch: 67\n"
     ]
    },
    {
     "name": "stderr",
     "output_type": "stream",
     "text": [
      "100%|██████████| 492/492 [00:07<00:00, 67.91it/s, loss=0.00165] \n"
     ]
    },
    {
     "name": "stdout",
     "output_type": "stream",
     "text": [
      "Ave Loss: 0.016356934206129613\n",
      "Epoch: 68\n"
     ]
    },
    {
     "name": "stderr",
     "output_type": "stream",
     "text": [
      "100%|██████████| 492/492 [00:06<00:00, 70.61it/s, loss=0.0191]  \n"
     ]
    },
    {
     "name": "stdout",
     "output_type": "stream",
     "text": [
      "Ave Loss: 0.016168609641518866\n",
      "Epoch: 69\n"
     ]
    },
    {
     "name": "stderr",
     "output_type": "stream",
     "text": [
      "100%|██████████| 492/492 [00:07<00:00, 69.28it/s, loss=0.00199] \n"
     ]
    },
    {
     "name": "stdout",
     "output_type": "stream",
     "text": [
      "Ave Loss: 0.01609275680776199\n",
      "Epoch: 70\n"
     ]
    },
    {
     "name": "stderr",
     "output_type": "stream",
     "text": [
      "100%|██████████| 492/492 [00:07<00:00, 69.84it/s, loss=0.0192]  \n"
     ]
    },
    {
     "name": "stdout",
     "output_type": "stream",
     "text": [
      "Ave Loss: 0.01582839590228992\n",
      "Epoch: 71\n"
     ]
    },
    {
     "name": "stderr",
     "output_type": "stream",
     "text": [
      "100%|██████████| 492/492 [00:07<00:00, 69.72it/s, loss=0.00227] \n"
     ]
    },
    {
     "name": "stdout",
     "output_type": "stream",
     "text": [
      "Ave Loss: 0.01571948566159084\n",
      "Epoch: 72\n"
     ]
    },
    {
     "name": "stderr",
     "output_type": "stream",
     "text": [
      "100%|██████████| 492/492 [00:06<00:00, 70.29it/s, loss=0.0194]  \n"
     ]
    },
    {
     "name": "stdout",
     "output_type": "stream",
     "text": [
      "Ave Loss: 0.01554758672905817\n",
      "Epoch: 73\n"
     ]
    },
    {
     "name": "stderr",
     "output_type": "stream",
     "text": [
      "100%|██████████| 492/492 [00:07<00:00, 69.11it/s, loss=0.00198] \n"
     ]
    },
    {
     "name": "stdout",
     "output_type": "stream",
     "text": [
      "Ave Loss: 0.015551400501094097\n",
      "Epoch: 74\n"
     ]
    },
    {
     "name": "stderr",
     "output_type": "stream",
     "text": [
      "100%|██████████| 492/492 [00:07<00:00, 69.75it/s, loss=0.0188]  \n"
     ]
    },
    {
     "name": "stdout",
     "output_type": "stream",
     "text": [
      "Ave Loss: 0.015288098019179111\n",
      "Epoch: 75\n"
     ]
    },
    {
     "name": "stderr",
     "output_type": "stream",
     "text": [
      "100%|██████████| 492/492 [00:07<00:00, 69.05it/s, loss=0.00239] \n"
     ]
    },
    {
     "name": "stdout",
     "output_type": "stream",
     "text": [
      "Ave Loss: 0.015111539013434401\n",
      "Epoch: 76\n"
     ]
    },
    {
     "name": "stderr",
     "output_type": "stream",
     "text": [
      "100%|██████████| 492/492 [00:07<00:00, 68.54it/s, loss=0.0183]  \n"
     ]
    },
    {
     "name": "stdout",
     "output_type": "stream",
     "text": [
      "Ave Loss: 0.01496335377601284\n",
      "Epoch: 77\n"
     ]
    },
    {
     "name": "stderr",
     "output_type": "stream",
     "text": [
      "100%|██████████| 492/492 [00:07<00:00, 70.17it/s, loss=0.00234] \n"
     ]
    },
    {
     "name": "stdout",
     "output_type": "stream",
     "text": [
      "Ave Loss: 0.014915308603927932\n",
      "Epoch: 78\n"
     ]
    },
    {
     "name": "stderr",
     "output_type": "stream",
     "text": [
      "100%|██████████| 492/492 [00:07<00:00, 68.76it/s, loss=0.02]    \n"
     ]
    },
    {
     "name": "stdout",
     "output_type": "stream",
     "text": [
      "Ave Loss: 0.014823018212325217\n",
      "Epoch: 79\n"
     ]
    },
    {
     "name": "stderr",
     "output_type": "stream",
     "text": [
      "100%|██████████| 492/492 [00:07<00:00, 68.93it/s, loss=0.00199] \n"
     ]
    },
    {
     "name": "stdout",
     "output_type": "stream",
     "text": [
      "Ave Loss: 0.014730439338763529\n",
      "Epoch: 80\n"
     ]
    },
    {
     "name": "stderr",
     "output_type": "stream",
     "text": [
      "100%|██████████| 492/492 [00:07<00:00, 69.37it/s, loss=0.021]   \n"
     ]
    },
    {
     "name": "stdout",
     "output_type": "stream",
     "text": [
      "Ave Loss: 0.014457548055864067\n",
      "Epoch: 81\n"
     ]
    },
    {
     "name": "stderr",
     "output_type": "stream",
     "text": [
      "100%|██████████| 492/492 [00:07<00:00, 69.55it/s, loss=0.00177] \n"
     ]
    },
    {
     "name": "stdout",
     "output_type": "stream",
     "text": [
      "Ave Loss: 0.01445961723599121\n",
      "Epoch: 82\n"
     ]
    },
    {
     "name": "stderr",
     "output_type": "stream",
     "text": [
      "100%|██████████| 492/492 [00:07<00:00, 69.78it/s, loss=0.0158]  \n"
     ]
    },
    {
     "name": "stdout",
     "output_type": "stream",
     "text": [
      "Ave Loss: 0.014262455801573691\n",
      "Epoch: 83\n"
     ]
    },
    {
     "name": "stderr",
     "output_type": "stream",
     "text": [
      "100%|██████████| 492/492 [00:07<00:00, 68.31it/s, loss=0.00378] \n"
     ]
    },
    {
     "name": "stdout",
     "output_type": "stream",
     "text": [
      "Ave Loss: 0.014224998587658449\n",
      "Epoch: 84\n"
     ]
    },
    {
     "name": "stderr",
     "output_type": "stream",
     "text": [
      "100%|██████████| 492/492 [00:07<00:00, 69.65it/s, loss=0.0158]  \n"
     ]
    },
    {
     "name": "stdout",
     "output_type": "stream",
     "text": [
      "Ave Loss: 0.014062766631867838\n",
      "Epoch: 85\n"
     ]
    },
    {
     "name": "stderr",
     "output_type": "stream",
     "text": [
      "100%|██████████| 492/492 [00:07<00:00, 69.56it/s, loss=0.00338] \n"
     ]
    },
    {
     "name": "stdout",
     "output_type": "stream",
     "text": [
      "Ave Loss: 0.013819061694522407\n",
      "Epoch: 86\n"
     ]
    },
    {
     "name": "stderr",
     "output_type": "stream",
     "text": [
      "100%|██████████| 492/492 [00:07<00:00, 69.81it/s, loss=0.0315]  \n"
     ]
    },
    {
     "name": "stdout",
     "output_type": "stream",
     "text": [
      "Ave Loss: 0.01381444036016502\n",
      "Epoch: 87\n"
     ]
    },
    {
     "name": "stderr",
     "output_type": "stream",
     "text": [
      "100%|██████████| 492/492 [00:07<00:00, 70.22it/s, loss=0.00107] \n"
     ]
    },
    {
     "name": "stdout",
     "output_type": "stream",
     "text": [
      "Ave Loss: 0.01375305406478086\n",
      "Epoch: 88\n"
     ]
    },
    {
     "name": "stderr",
     "output_type": "stream",
     "text": [
      "100%|██████████| 492/492 [00:07<00:00, 69.05it/s, loss=0.0143]  \n"
     ]
    },
    {
     "name": "stdout",
     "output_type": "stream",
     "text": [
      "Ave Loss: 0.013582534813320944\n",
      "Epoch: 89\n"
     ]
    },
    {
     "name": "stderr",
     "output_type": "stream",
     "text": [
      "100%|██████████| 492/492 [00:07<00:00, 70.04it/s, loss=0.00413] \n"
     ]
    },
    {
     "name": "stdout",
     "output_type": "stream",
     "text": [
      "Ave Loss: 0.013317131832747424\n",
      "Epoch: 90\n"
     ]
    },
    {
     "name": "stderr",
     "output_type": "stream",
     "text": [
      "100%|██████████| 492/492 [00:07<00:00, 68.89it/s, loss=0.0172]  \n"
     ]
    },
    {
     "name": "stdout",
     "output_type": "stream",
     "text": [
      "Ave Loss: 0.013155551582735271\n",
      "Epoch: 91\n"
     ]
    },
    {
     "name": "stderr",
     "output_type": "stream",
     "text": [
      "100%|██████████| 492/492 [00:07<00:00, 69.99it/s, loss=0.00282] \n"
     ]
    },
    {
     "name": "stdout",
     "output_type": "stream",
     "text": [
      "Ave Loss: 0.013075039302593057\n",
      "Epoch: 92\n"
     ]
    },
    {
     "name": "stderr",
     "output_type": "stream",
     "text": [
      "100%|██████████| 492/492 [00:07<00:00, 67.94it/s, loss=0.0182]  \n"
     ]
    },
    {
     "name": "stdout",
     "output_type": "stream",
     "text": [
      "Ave Loss: 0.013054744843378183\n",
      "Epoch: 93\n"
     ]
    },
    {
     "name": "stderr",
     "output_type": "stream",
     "text": [
      "100%|██████████| 492/492 [00:07<00:00, 68.19it/s, loss=0.0024]  \n"
     ]
    },
    {
     "name": "stdout",
     "output_type": "stream",
     "text": [
      "Ave Loss: 0.01288378738169511\n",
      "Epoch: 94\n"
     ]
    },
    {
     "name": "stderr",
     "output_type": "stream",
     "text": [
      "100%|██████████| 492/492 [00:07<00:00, 69.89it/s, loss=0.017]   \n"
     ]
    },
    {
     "name": "stdout",
     "output_type": "stream",
     "text": [
      "Ave Loss: 0.01282833661986761\n",
      "Epoch: 95\n"
     ]
    },
    {
     "name": "stderr",
     "output_type": "stream",
     "text": [
      "100%|██████████| 492/492 [00:07<00:00, 69.44it/s, loss=0.00307] \n"
     ]
    },
    {
     "name": "stdout",
     "output_type": "stream",
     "text": [
      "Ave Loss: 0.012697157919763235\n",
      "Epoch: 96\n"
     ]
    },
    {
     "name": "stderr",
     "output_type": "stream",
     "text": [
      "100%|██████████| 492/492 [00:07<00:00, 69.59it/s, loss=0.0166]  \n"
     ]
    },
    {
     "name": "stdout",
     "output_type": "stream",
     "text": [
      "Ave Loss: 0.012591905565837747\n",
      "Epoch: 97\n"
     ]
    },
    {
     "name": "stderr",
     "output_type": "stream",
     "text": [
      "100%|██████████| 492/492 [00:07<00:00, 67.23it/s, loss=0.00314] \n"
     ]
    },
    {
     "name": "stdout",
     "output_type": "stream",
     "text": [
      "Ave Loss: 0.012465608713179931\n",
      "Epoch: 98\n"
     ]
    },
    {
     "name": "stderr",
     "output_type": "stream",
     "text": [
      "100%|██████████| 492/492 [00:07<00:00, 69.24it/s, loss=0.016]   \n"
     ]
    },
    {
     "name": "stdout",
     "output_type": "stream",
     "text": [
      "Ave Loss: 0.012373735598426661\n",
      "Epoch: 99\n"
     ]
    },
    {
     "name": "stderr",
     "output_type": "stream",
     "text": [
      "100%|██████████| 492/492 [00:07<00:00, 68.26it/s, loss=0.0034]  \n"
     ]
    },
    {
     "name": "stdout",
     "output_type": "stream",
     "text": [
      "Ave Loss: 0.012285155744585956\n",
      "Training duration: 712.5482130050659 seconds\n"
     ]
    }
   ],
   "source": [
    "# Define the training process\n",
    "# Each call of the train function == 1 Epoch\n",
    "import time\n",
    "def train_fn(loader, model, optimizer, loss_fn, batch_size):\n",
    "    loop = tqdm(loader)\n",
    "    \n",
    "    count = 0\n",
    "    ave_loss = 0.00\n",
    "    \n",
    "    # Loop per batch\n",
    "    for batch_idx, (features, targets) in enumerate(loop):\n",
    "        y_logits = model.forward(features)\n",
    "\n",
    "        # Calculate loss\n",
    "        loss = loss_fn(y_logits, targets)\n",
    "        \n",
    "        # Optimizer zero grad\n",
    "        optimizer.zero_grad()\n",
    "        \n",
    "        # Loss backwards\n",
    "        loss.backward()\n",
    "        \n",
    "        # Optimizer Step\n",
    "        optimizer.step()\n",
    "        \n",
    "        loop.set_postfix(loss=loss.item())\n",
    "        \n",
    "        ave_loss += loss.item()\n",
    "        count += 1\n",
    "        \n",
    "    ave_loss = ave_loss / count\n",
    "    \n",
    "    return ave_loss\n",
    "\n",
    "# Dataloader is in charge of:\n",
    "# - partitioning data into batches\n",
    "# - optionally shuffling the data\n",
    "# - run the optimizer against a partition defined by this loader\n",
    "custom_dataset_2 = MyCustomDataset(x=df_inputs, y=df_targets)\n",
    "\n",
    "train_loader = DataLoader(\n",
    "    custom_dataset_2,\n",
    "    batch_size=batch_size,\n",
    "    shuffle=False,\n",
    "    drop_last=False\n",
    ")\n",
    "\n",
    "epochs = 100\n",
    "losses_2 = []\n",
    "\n",
    "start = time.time()\n",
    "for epoch in range(epochs):\n",
    "    print(\"Epoch: {}\".format(epoch))\n",
    "    \n",
    "    ave_loss = train_fn(\n",
    "        train_loader,\n",
    "        model_2,\n",
    "        optimizer_2,\n",
    "        loss_fn_2,\n",
    "        batch_size\n",
    "    )\n",
    "    \n",
    "    losses_2.append(ave_loss)\n",
    "    \n",
    "    print(\"Ave Loss: {}\".format(ave_loss))\n",
    "\n",
    "end = time.time()    \n",
    "print(f'Training duration: {(end-start)} seconds')\n",
    "\n",
    "state = { 'state_dict': model_2.state_dict() }\n",
    "torch.save(state, \"./torch_models/model_2.pth\")"
   ]
  },
  {
   "cell_type": "code",
   "execution_count": 54,
   "metadata": {},
   "outputs": [
    {
     "data": {
      "image/png": "[encoded data removed]",
      "text/plain": [
       "<Figure size 640x480 with 1 Axes>"
      ]
     },
     "metadata": {},
     "output_type": "display_data"
    }
   ],
   "source": [
    "plt.plot(losses_2, label='loss', color='red')\n",
    "plt.title('Full Training Evaluation', fontsize=14)\n",
    "plt.xlabel('Epoch', fontsize=14)\n",
    "plt.ylabel('Error Value', fontsize=14)\n",
    "plt.grid(True)\n",
    "plt.legend()\n",
    "plt.show()"
   ]
  },
  {
   "cell_type": "code",
   "execution_count": 55,
   "metadata": {},
   "outputs": [
    {
     "data": {
      "text/plain": [
       "<All keys matched successfully>"
      ]
     },
     "execution_count": 55,
     "metadata": {},
     "output_type": "execute_result"
    }
   ],
   "source": [
    "model_2 = BalancedNeuralNetwork(5000,3)\n",
    "state = torch.load(\"./torch_models/model_2.pth\")\n",
    "model_2.load_state_dict(state['state_dict'])"
   ]
  },
  {
   "cell_type": "code",
   "execution_count": 56,
   "metadata": {},
   "outputs": [
    {
     "data": {
      "text/plain": [
       "tensor([[0., 0., 0.,  ..., 0., 0., 0.],\n",
       "        [0., 0., 0.,  ..., 0., 0., 0.],\n",
       "        [0., 0., 0.,  ..., 0., 0., 0.],\n",
       "        ...,\n",
       "        [0., 0., 0.,  ..., 0., 0., 0.],\n",
       "        [0., 0., 0.,  ..., 0., 0., 0.],\n",
       "        [0., 0., 0.,  ..., 0., 0., 0.]])"
      ]
     },
     "execution_count": 56,
     "metadata": {},
     "output_type": "execute_result"
    }
   ],
   "source": [
    "X_test_vec = torch.load('tensors/X_test_vec.pt')\n",
    "X_test_vec"
   ]
  },
  {
   "cell_type": "code",
   "execution_count": 57,
   "metadata": {},
   "outputs": [
    {
     "data": {
      "text/plain": [
       "tensor([1, 2, 2,  ..., 1, 2, 1])"
      ]
     },
     "execution_count": 57,
     "metadata": {},
     "output_type": "execute_result"
    }
   ],
   "source": [
    "y_test = torch.load('tensors/y_test.pt')\n",
    "y_test"
   ]
  },
  {
   "cell_type": "code",
   "execution_count": 58,
   "metadata": {},
   "outputs": [
    {
     "data": {
      "text/plain": [
       "tensor([1, 0, 1,  ..., 0, 2, 1])"
      ]
     },
     "execution_count": 58,
     "metadata": {},
     "output_type": "execute_result"
    }
   ],
   "source": [
    "predictions_2 = model_2.forward(X_test_vec)\n",
    "predictions_2 = torch.softmax(predictions_2, dim=1)\n",
    "predictions_2 = torch.argmax(predictions_2, dim=1)\n",
    "predictions_2"
   ]
  },
  {
   "cell_type": "code",
   "execution_count": 59,
   "metadata": {},
   "outputs": [
    {
     "data": {
      "text/plain": [
       "0.44167086059386007"
      ]
     },
     "execution_count": 59,
     "metadata": {},
     "output_type": "execute_result"
    }
   ],
   "source": [
    "from sklearn.metrics import accuracy_score\n",
    "\n",
    "accuracy = accuracy_score(y_test, predictions_2)\n",
    "accuracy"
   ]
  },
  {
   "cell_type": "code",
   "execution_count": 60,
   "metadata": {},
   "outputs": [
    {
     "data": {
      "text/plain": [
       "0.3697894034886371"
      ]
     },
     "execution_count": 60,
     "metadata": {},
     "output_type": "execute_result"
    }
   ],
   "source": [
    "from sklearn.metrics import recall_score\n",
    "\n",
    "recall = recall_score(y_test, predictions_2, average='macro')\n",
    "recall"
   ]
  },
  {
   "cell_type": "code",
   "execution_count": 61,
   "metadata": {},
   "outputs": [
    {
     "name": "stdout",
     "output_type": "stream",
     "text": [
      "              precision    recall  f1-score   support\n",
      "\n",
      "           0       0.20      0.13      0.16      1550\n",
      "           1       0.47      0.64      0.54      4451\n",
      "           2       0.47      0.34      0.39      3934\n",
      "\n",
      "    accuracy                           0.44      9935\n",
      "   macro avg       0.38      0.37      0.36      9935\n",
      "weighted avg       0.43      0.44      0.42      9935\n",
      "\n"
     ]
    }
   ],
   "source": [
    "from sklearn.metrics import classification_report\n",
    "\n",
    "print(classification_report(y_test, predictions_2))"
   ]
  },
  {
   "cell_type": "code",
   "execution_count": 62,
   "metadata": {},
   "outputs": [],
   "source": [
    "torch.save(df_inputs, 'tensors/df_inputs.pt')"
   ]
  },
  {
   "cell_type": "code",
   "execution_count": 63,
   "metadata": {},
   "outputs": [],
   "source": [
    "torch.save(df_targets, 'tensors/df_targets.pt')"
   ]
  },
  {
   "cell_type": "code",
   "execution_count": null,
   "metadata": {},
   "outputs": [],
   "source": []
  }
 ],
 "metadata": {
  "kernelspec": {
   "display_name": "nlp-env",
   "language": "python",
   "name": "python3"
  },
  "language_info": {
   "codemirror_mode": {
    "name": "ipython",
    "version": 3
   },
   "file_extension": ".py",
   "mimetype": "text/x-python",
   "name": "python",
   "nbconvert_exporter": "python",
   "pygments_lexer": "ipython3",
   "version": "3.9.13 (tags/v3.9.13:6de2ca5, May 17 2022, 16:36:42) [MSC v.1929 64 bit (AMD64)]"
  },
  "orig_nbformat": 4,
  "vscode": {
   "interpreter": {
    "hash": "dcad393ebe0ddd96229d28636729608eefe2a539d1a2b16c2babaf1f7828873b"
   }
  }
 },
 "nbformat": 4,
 "nbformat_minor": 2
}
