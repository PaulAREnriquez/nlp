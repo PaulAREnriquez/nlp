{
 "cells": [
  {
   "attachments": {},
   "cell_type": "markdown",
   "metadata": {},
   "source": [
    "#### **E. Contextual Embeddings**"
   ]
  },
  {
   "attachments": {},
   "cell_type": "markdown",
   "metadata": {},
   "source": [
    "So far, the embeddings that we have learned are described as `static`. This means that the vector representation for a given token **regardless** of the `context` in which the token occurs.\n",
    "\n",
    "Words can have more than one meaning depending on the context they appear:\n",
    "\n",
    "1. Manila is the `capital` of the Philippines.\n",
    "2. The most important advice anyone can receive in trading the market is risk management - protect your `capital`, profits just follow.\n",
    "\n",
    "Static word embeddings cannot capture this distinction because words will always have the same vector representation. The values of the `n-dimensional` vector remains the same.\n",
    "\n",
    "We would like to encode the context by which a word occurs to draw out these differences in meaning, using an architecture called **`Transformers`**.\n",
    "\n",
    "A **`Transformer`** is a neural network architecture that is capable of encoding information about the context which a token occurs. It improved performance for traditional natural language processing tasks such as part-of-speech tagging and syntactic parsing, but it is `computationally heavy`."
   ]
  },
  {
   "cell_type": "code",
   "execution_count": 1,
   "metadata": {},
   "outputs": [],
   "source": [
    "import spacy"
   ]
  },
  {
   "cell_type": "code",
   "execution_count": 2,
   "metadata": {},
   "outputs": [],
   "source": [
    "# Load a Transformer-based language model\n",
    "nlp_trf = spacy.load('en_core_web_trf')"
   ]
  },
  {
   "attachments": {},
   "cell_type": "markdown",
   "metadata": {},
   "source": [
    "On the surface, a *Language* object that contains a Transformer-based model looks and works just like any other language model in spaCy.\n",
    "\n",
    "However, if we look under the hood of the *Language* object under `nlp_trf` using `pipeline`, we will see that the first component in the processing pipeline is a Transformer."
   ]
  },
  {
   "cell_type": "code",
   "execution_count": 3,
   "metadata": {},
   "outputs": [
    {
     "data": {
      "text/plain": [
       "[('transformer',\n",
       "  <spacy_transformers.pipeline_component.Transformer at 0x2dd5e659160>),\n",
       " ('tagger', <spacy.pipeline.tagger.Tagger at 0x2dd5e659dc0>),\n",
       " ('parser', <spacy.pipeline.dep_parser.DependencyParser at 0x2dd5e4d6580>),\n",
       " ('attribute_ruler',\n",
       "  <spacy.pipeline.attributeruler.AttributeRuler at 0x2dd5e51ecc0>),\n",
       " ('lemmatizer', <spacy.lang.en.lemmatizer.EnglishLemmatizer at 0x2dd5e6bd640>),\n",
       " ('ner', <spacy.pipeline.ner.EntityRecognizer at 0x2dd5e4d6660>)]"
      ]
     },
     "execution_count": 3,
     "metadata": {},
     "output_type": "execute_result"
    }
   ],
   "source": [
    "nlp_trf.pipeline"
   ]
  },
  {
   "cell_type": "code",
   "execution_count": 4,
   "metadata": {},
   "outputs": [
    {
     "data": {
      "text/plain": [
       "22"
      ]
     },
     "execution_count": 4,
     "metadata": {},
     "output_type": "execute_result"
    }
   ],
   "source": [
    "# Feed an example sentence to the model\n",
    "example_doc = nlp_trf('The most important advice anyone can receive in trading the market is risk management - protect your capital, profits just follow')\n",
    "\n",
    "# Check the length of the document\n",
    "# It counts the punctuation marks\n",
    "len(example_doc)"
   ]
  },
  {
   "cell_type": "code",
   "execution_count": null,
   "metadata": {},
   "outputs": [],
   "source": []
  }
 ],
 "metadata": {
  "kernelspec": {
   "display_name": "nlp-env",
   "language": "python",
   "name": "python3"
  },
  "language_info": {
   "codemirror_mode": {
    "name": "ipython",
    "version": 3
   },
   "file_extension": ".py",
   "mimetype": "text/x-python",
   "name": "python",
   "nbconvert_exporter": "python",
   "pygments_lexer": "ipython3",
   "version": "3.9.13"
  },
  "orig_nbformat": 4,
  "vscode": {
   "interpreter": {
    "hash": "dcad393ebe0ddd96229d28636729608eefe2a539d1a2b16c2babaf1f7828873b"
   }
  }
 },
 "nbformat": 4,
 "nbformat_minor": 2
}
